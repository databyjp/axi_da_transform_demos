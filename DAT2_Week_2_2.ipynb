{
 "nbformat": 4,
 "nbformat_minor": 0,
 "metadata": {
  "colab": {
   "name": "DAT2_Week_2_2.ipynb",
   "provenance": []
  },
  "kernelspec": {
   "name": "python3",
   "display_name": "Python 3"
  },
  "language_info": {
   "name": "python"
  }
 },
 "cells": [
  {
   "cell_type": "markdown",
   "source": [
    "[![Open In Colab](https://colab.research.google.com/assets/colab-badge.svg)](https://colab.research.google.com/github/databyjp/...)\n",
    "# DA Transform - Week 2 session 2"
   ],
   "metadata": {
    "id": "Bg3IbJu1F7Ev",
    "pycharm": {
     "name": "#%% md\n"
    }
   }
  },
  {
   "cell_type": "markdown",
   "source": [
    "\n",
    "\n",
    "---\n",
    "\n",
    "\n",
    "## Review:"
   ],
   "metadata": {
    "id": "3PF0UFWv4dDq",
    "pycharm": {
     "name": "#%% md\n"
    }
   }
  },
  {
   "cell_type": "markdown",
   "source": [
    "### `for` loops"
   ],
   "metadata": {
    "id": "_3M3PaCXJV69",
    "pycharm": {
     "name": "#%% md\n"
    }
   }
  },
  {
   "cell_type": "markdown",
   "source": [
    "\n",
    "![For loops](https://www.learnbyexample.org/wp-content/uploads/python/Python-for-Loop-Syntax.png)\n",
    "\n",
    "Source: https://www.learnbyexample.org/python-for-loop/"
   ],
   "metadata": {
    "id": "awidbSwtJSiK",
    "pycharm": {
     "name": "#%% md\n"
    }
   }
  },
  {
   "cell_type": "markdown",
   "source": [
    "### `while` loops"
   ],
   "metadata": {
    "id": "OVAtV9mQKpcA",
    "pycharm": {
     "name": "#%% md\n"
    }
   }
  },
  {
   "cell_type": "markdown",
   "source": [
    "![While loops](https://www.learnbyexample.org/wp-content/uploads/python/Python-while-Loop-Syntax.png)\n",
    "\n",
    "Source: https://www.learnbyexample.org/python-while-loop/"
   ],
   "metadata": {
    "id": "7niUjTJJKsf1",
    "pycharm": {
     "name": "#%% md\n"
    }
   }
  },
  {
   "cell_type": "markdown",
   "source": [
    "### `break` and `continue` statements in loops"
   ],
   "metadata": {
    "id": "n3Q7h4-7LgzA",
    "pycharm": {
     "name": "#%% md\n"
    }
   }
  },
  {
   "cell_type": "markdown",
   "source": [
    "#### `break` statements:\n",
    "\n",
    "![break](https://cdn.programiz.com/sites/tutorial2program/files/how-break-statement-works.jpg)\n",
    "\n",
    "#### `continue` statements:\n",
    "\n",
    "![continue](https://cdn.programiz.com/sites/tutorial2program/files/how-continue-statment-works.jpg)\n",
    "\n",
    "Source: https://www.programiz.com/python-programming/break-continue"
   ],
   "metadata": {
    "id": "Cs9Bqad2Llwj",
    "pycharm": {
     "name": "#%% md\n"
    }
   }
  },
  {
   "cell_type": "markdown",
   "source": [
    "### Examples - use `for` & `while` loops, and `break` and `continue` statements"
   ],
   "metadata": {
    "id": "2Oc-Fn8xMZ--",
    "pycharm": {
     "name": "#%% md\n"
    }
   }
  },
  {
   "cell_type": "markdown",
   "source": [
    "#### Load data (`songs`)"
   ],
   "metadata": {
    "id": "vRlnWOISTsk2",
    "pycharm": {
     "name": "#%% md\n"
    }
   }
  },
  {
   "cell_type": "code",
   "source": [
    "# Data from: https://www.kaggle.com/datasets/muhmores/spotify-top-100-songs-of-20152019\n",
    "songs = [{'title': 'a lot', 'artist': '21 Savage', 'top genre': 'atl hip hop', 'year released': 2018.0, 'added': '2020‑06‑22', 'bpm': 146.0, 'nrgy': 64.0, 'dnce': 84.0, 'dB': -8.0, 'live': 34.0, 'val': 27.0, 'dur': 289.0, 'acous': 4.0, 'spch': 9.0, 'pop': 83.0, 'top year': 2019.0, 'artist type': 'Solo'}, {'title': 'Easier', 'artist': '5 Seconds of Summer', 'top genre': 'boy band', 'year released': 2020.0, 'added': '2020‑06‑22', 'bpm': 176.0, 'nrgy': 46.0, 'dnce': 56.0, 'dB': -4.0, 'live': 11.0, 'val': 62.0, 'dur': 158.0, 'acous': 48.0, 'spch': 26.0, 'pop': 74.0, 'top year': 2019.0, 'artist type': 'Band/Group'}, {'title': 'Swervin (feat. 6ix9ine)', 'artist': 'A Boogie Wit da Hoodie', 'top genre': 'melodic rap', 'year released': 2018.0, 'added': '2020‑06‑22', 'bpm': 93.0, 'nrgy': 66.0, 'dnce': 58.0, 'dB': -5.0, 'live': 11.0, 'val': 43.0, 'dur': 189.0, 'acous': 2.0, 'spch': 30.0, 'pop': 80.0, 'top year': 2019.0, 'artist type': 'Solo'}, {'title': 'Look Back at It', 'artist': 'A Boogie Wit da Hoodie', 'top genre': 'melodic rap', 'year released': 2018.0, 'added': '2020‑06‑22', 'bpm': 96.0, 'nrgy': 59.0, 'dnce': 79.0, 'dB': -5.0, 'live': 15.0, 'val': 54.0, 'dur': 179.0, 'acous': 41.0, 'spch': 4.0, 'pop': 78.0, 'top year': 2019.0, 'artist type': 'Solo'}, {'title': 'Ladbroke Grove', 'artist': 'AJ Tracey', 'top genre': 'grime', 'year released': 2019.0, 'added': '2020‑08‑20', 'bpm': 134.0, 'nrgy': 84.0, 'dnce': 90.0, 'dB': -9.0, 'live': 10.0, 'val': 73.0, 'dur': 191.0, 'acous': 9.0, 'spch': 21.0, 'pop': 73.0, 'top year': 2019.0, 'artist type': 'Solo'}, {'title': 'China', 'artist': 'Anuel AA', 'top genre': 'latin', 'year released': 2019.0, 'added': '2020‑06‑22', 'bpm': 105.0, 'nrgy': 81.0, 'dnce': 79.0, 'dB': -4.0, 'live': 8.0, 'val': 61.0, 'dur': 302.0, 'acous': 8.0, 'spch': 9.0, 'pop': 80.0, 'top year': 2019.0, 'artist type': 'Solo'}, {'title': 'Secreto', 'artist': 'Anuel AA', 'top genre': 'latin', 'year released': 2019.0, 'added': '2020‑06‑22', 'bpm': 92.0, 'nrgy': 80.0, 'dnce': 81.0, 'dB': -4.0, 'live': 14.0, 'val': 71.0, 'dur': 259.0, 'acous': 60.0, 'spch': 13.0, 'pop': 79.0, 'top year': 2019.0, 'artist type': 'Solo'}, {'title': '7 rings', 'artist': 'Ariana Grande', 'top genre': 'dance pop', 'year released': 2019.0, 'added': '2020‑06‑22', 'bpm': 140.0, 'nrgy': 32.0, 'dnce': 78.0, 'dB': -11.0, 'live': 9.0, 'val': 33.0, 'dur': 179.0, 'acous': 59.0, 'spch': 33.0, 'pop': 88.0, 'top year': 2019.0, 'artist type': 'Solo'}, {'title': 'thank u, next', 'artist': 'Ariana Grande', 'top genre': 'dance pop', 'year released': 2019.0, 'added': '2020‑06‑22', 'bpm': 107.0, 'nrgy': 65.0, 'dnce': 72.0, 'dB': -6.0, 'live': 10.0, 'val': 41.0, 'dur': 207.0, 'acous': 23.0, 'spch': 7.0, 'pop': 85.0, 'top year': 2019.0, 'artist type': 'Solo'}, {'title': \"break up with your girlfriend, i'm bored\", 'artist': 'Ariana Grande', 'top genre': 'dance pop', 'year released': 2019.0, 'added': '2020‑06‑22', 'bpm': 170.0, 'nrgy': 55.0, 'dnce': 73.0, 'dB': -5.0, 'live': 11.0, 'val': 34.0, 'dur': 190.0, 'acous': 4.0, 'spch': 9.0, 'pop': 81.0, 'top year': 2019.0, 'artist type': 'Solo'}, {'title': 'boyfriend (with Social House)', 'artist': 'Ariana Grande', 'top genre': 'dance pop', 'year released': 2019.0, 'added': '2020‑06‑22', 'bpm': 190.0, 'nrgy': 80.0, 'dnce': 40.0, 'dB': -4.0, 'live': 16.0, 'val': 70.0, 'dur': 186.0, 'acous': 12.0, 'spch': 46.0, 'pop': 81.0, 'top year': 2019.0, 'artist type': 'Solo'}, {'title': 'On A Roll', 'artist': 'Ashley O', 'top genre': 'pop', 'year released': 2019.0, 'added': '2020‑06‑22', 'bpm': 125.0, 'nrgy': 81.0, 'dnce': 74.0, 'dB': -6.0, 'live': 5.0, 'val': 39.0, 'dur': 154.0, 'acous': 8.0, 'spch': 9.0, 'pop': 62.0, 'top year': 2019.0, 'artist type': 'Solo'}, {'title': 'Callaita', 'artist': 'Bad Bunny', 'top genre': 'latin', 'year released': 2019.0, 'added': '2020‑06‑22', 'bpm': 176.0, 'nrgy': 62.0, 'dnce': 61.0, 'dB': -5.0, 'live': 24.0, 'val': 24.0, 'dur': 251.0, 'acous': 60.0, 'spch': 31.0, 'pop': 86.0, 'top year': 2019.0, 'artist type': 'Solo'}, {'title': 'MIA (feat. Drake)', 'artist': 'Bad Bunny', 'top genre': 'latin', 'year released': 2018.0, 'added': '2020‑06‑22', 'bpm': 97.0, 'nrgy': 54.0, 'dnce': 82.0, 'dB': -6.0, 'live': 10.0, 'val': 16.0, 'dur': 210.0, 'acous': 1.0, 'spch': 6.0, 'pop': 82.0, 'top year': 2019.0, 'artist type': 'Solo'}, {'title': 'lovely (with Khalid)', 'artist': 'Billie Eilish', 'top genre': 'art pop', 'year released': 2018.0, 'added': '2020‑06‑22', 'bpm': 115.0, 'nrgy': 30.0, 'dnce': 35.0, 'dB': -10.0, 'live': 10.0, 'val': 12.0, 'dur': 200.0, 'acous': 93.0, 'spch': 3.0, 'pop': 91.0, 'top year': 2019.0, 'artist type': 'Solo'}, {'title': 'bad guy', 'artist': 'Billie Eilish', 'top genre': 'art pop', 'year released': 2019.0, 'added': '2020‑06‑22', 'bpm': 135.0, 'nrgy': 43.0, 'dnce': 70.0, 'dB': -11.0, 'live': 10.0, 'val': 56.0, 'dur': 194.0, 'acous': 33.0, 'spch': 38.0, 'pop': 88.0, 'top year': 2019.0, 'artist type': 'Solo'}, {'title': \"when the party's over\", 'artist': 'Billie Eilish', 'top genre': 'art pop', 'year released': 2019.0, 'added': '2020‑06‑22', 'bpm': 83.0, 'nrgy': 11.0, 'dnce': 37.0, 'dB': -14.0, 'live': 9.0, 'val': 20.0, 'dur': 196.0, 'acous': 98.0, 'spch': 10.0, 'pop': 85.0, 'top year': 2019.0, 'artist type': 'Solo'}, {'title': 'bury a friend', 'artist': 'Billie Eilish', 'top genre': 'art pop', 'year released': 2019.0, 'added': '2020‑06‑22', 'bpm': 120.0, 'nrgy': 39.0, 'dnce': 91.0, 'dB': -15.0, 'live': 11.0, 'val': 20.0, 'dur': 193.0, 'acous': 74.0, 'spch': 33.0, 'pop': 80.0, 'top year': 2019.0, 'artist type': 'Solo'}, {'title': 'Kill This Love', 'artist': 'BLACKPINK', 'top genre': 'k-pop', 'year released': 2019.0, 'added': '2020‑06‑22', 'bpm': 132.0, 'nrgy': 84.0, 'dnce': 76.0, 'dB': -5.0, 'live': 23.0, 'val': 65.0, 'dur': 191.0, 'acous': 32.0, 'spch': 19.0, 'pop': 79.0, 'top year': 2019.0, 'artist type': 'Band/Group'}, {'title': 'The Git Up', 'artist': 'Blanco Brown', 'top genre': 'black americana', 'year released': 2019.0, 'added': '2020‑06‑22', 'bpm': 98.0, 'nrgy': 68.0, 'dnce': 85.0, 'dB': -9.0, 'live': 27.0, 'val': 81.0, 'dur': 201.0, 'acous': 7.0, 'spch': 11.0, 'pop': 74.0, 'top year': 2019.0, 'artist type': 'Solo'}, {'title': 'Thotiana', 'artist': 'Blueface', 'top genre': 'cali rap', 'year released': 2018.0, 'added': '2020‑06‑22', 'bpm': 104.0, 'nrgy': 38.0, 'dnce': 91.0, 'dB': -13.0, 'live': 11.0, 'val': 39.0, 'dur': 129.0, 'acous': 18.0, 'spch': 27.0, 'pop': 71.0, 'top year': 2019.0, 'artist type': 'Solo'}, {'title': 'Boy With Luv (feat. Halsey)', 'artist': 'BTS', 'top genre': 'k-pop', 'year released': 2019.0, 'added': '2020‑06‑22', 'bpm': 120.0, 'nrgy': 86.0, 'dnce': 65.0, 'dB': -5.0, 'live': 19.0, 'val': 80.0, 'dur': 230.0, 'acous': 9.0, 'spch': 8.0, 'pop': 86.0, 'top year': 2019.0, 'artist type': 'Band/Group'}, {'title': 'Please Me', 'artist': 'Cardi B', 'top genre': 'dance pop', 'year released': 2019.0, 'added': '2020‑06‑22', 'bpm': 134.0, 'nrgy': 57.0, 'dnce': 75.0, 'dB': -7.0, 'live': 8.0, 'val': 65.0, 'dur': 201.0, 'acous': 6.0, 'spch': 8.0, 'pop': 79.0, 'top year': 2019.0, 'artist type': 'Solo'}, {'title': 'Money', 'artist': 'Cardi B', 'top genre': 'dance pop', 'year released': 2018.0, 'added': '2020‑06‑22', 'bpm': 130.0, 'nrgy': 59.0, 'dnce': 95.0, 'dB': -7.0, 'live': 11.0, 'val': 22.0, 'dur': 184.0, 'acous': 1.0, 'spch': 29.0, 'pop': 78.0, 'top year': 2019.0, 'artist type': 'Solo'}, {'title': 'Suge', 'artist': 'DaBaby', 'top genre': 'north carolina hip hop', 'year released': 2019.0, 'added': '2020‑06‑22', 'bpm': 75.0, 'nrgy': 66.0, 'dnce': 88.0, 'dB': -6.0, 'live': 13.0, 'val': 84.0, 'dur': 163.0, 'acous': 6.0, 'spch': 43.0, 'pop': 77.0, 'top year': 2019.0, 'artist type': 'Solo'}, {'title': 'Location (feat. Burna Boy)', 'artist': 'Dave', 'top genre': 'uk hip hop', 'year released': 2019.0, 'added': '2020‑06‑22', 'bpm': 110.0, 'nrgy': 50.0, 'dnce': 81.0, 'dB': -6.0, 'live': 10.0, 'val': 55.0, 'dur': 241.0, 'acous': 27.0, 'spch': 30.0, 'pop': 81.0, 'top year': 2019.0, 'artist type': 'Solo'}, {'title': 'Juicy', 'artist': 'Doja Cat', 'top genre': 'dance pop', 'year released': 2019.0, 'added': '2020‑06‑22', 'bpm': 170.0, 'nrgy': 66.0, 'dnce': 79.0, 'dB': -3.0, 'live': 7.0, 'val': 46.0, 'dur': 202.0, 'acous': 9.0, 'spch': 7.0, 'pop': 62.0, 'top year': 2019.0, 'artist type': 'Solo'}, {'title': '3 Nights', 'artist': 'Dominic Fike', 'top genre': 'alternative pop rock', 'year released': 2018.0, 'added': '2020‑06‑22', 'bpm': 152.0, 'nrgy': 52.0, 'dnce': 82.0, 'dB': -7.0, 'live': 10.0, 'val': 88.0, 'dur': 178.0, 'acous': 22.0, 'spch': 9.0, 'pop': 84.0, 'top year': 2019.0, 'artist type': 'Solo'}, {'title': 'Money In The Grave (Drake ft. Rick Ross)', 'artist': 'Drake', 'top genre': 'canadian hip hop', 'year released': 2019.0, 'added': '2020‑06‑22', 'bpm': 101.0, 'nrgy': 50.0, 'dnce': 83.0, 'dB': -4.0, 'live': 12.0, 'val': 10.0, 'dur': 205.0, 'acous': 10.0, 'spch': 5.0, 'pop': 82.0, 'top year': 2019.0, 'artist type': 'Solo'}, {'title': \"Don't Start Now\", 'artist': 'Dua Lipa', 'top genre': 'dance pop', 'year released': 2019.0, 'added': '2020‑06‑22', 'bpm': 124.0, 'nrgy': 79.0, 'dnce': 79.0, 'dB': -5.0, 'live': 10.0, 'val': 68.0, 'dur': 183.0, 'acous': 1.0, 'spch': 8.0, 'pop': 84.0, 'top year': 2019.0, 'artist type': 'Solo'}, {'title': 'Take Me Back to London (feat. Stormzy)', 'artist': 'Ed Sheeran', 'top genre': 'pop', 'year released': 2019.0, 'added': '2020‑06‑22', 'bpm': 138.0, 'nrgy': 76.0, 'dnce': 89.0, 'dB': -6.0, 'live': 16.0, 'val': 61.0, 'dur': 190.0, 'acous': 22.0, 'spch': 22.0, 'pop': 71.0, 'top year': 2019.0, 'artist type': 'Solo'}, {'title': 'Cross Me (feat. Chance the Rapper & PnB Rock)', 'artist': 'Ed Sheeran', 'top genre': 'pop', 'year released': 2019.0, 'added': '2020‑06‑22', 'bpm': 95.0, 'nrgy': 79.0, 'dnce': 75.0, 'dB': -6.0, 'live': 7.0, 'val': 61.0, 'dur': 206.0, 'acous': 21.0, 'spch': 12.0, 'pop': 69.0, 'top year': 2019.0, 'artist type': 'Solo'}, {'title': 'Antisocial (with Travis Scott)', 'artist': 'Ed Sheeran', 'top genre': 'pop', 'year released': 2019.0, 'added': '2020‑06‑22', 'bpm': 152.0, 'nrgy': 82.0, 'dnce': 72.0, 'dB': -5.0, 'live': 36.0, 'val': 91.0, 'dur': 162.0, 'acous': 13.0, 'spch': 5.0, 'pop': 68.0, 'top year': 2019.0, 'artist type': 'Solo'}, {'title': 'Leave Me Alone', 'artist': 'Flipp Dinero', 'top genre': 'melodic rap', 'year released': 2019.0, 'added': '2020‑06‑22', 'bpm': 150.0, 'nrgy': 74.0, 'dnce': 79.0, 'dB': -3.0, 'live': 18.0, 'val': 74.0, 'dur': 196.0, 'acous': 11.0, 'spch': 9.0, 'pop': 75.0, 'top year': 2019.0, 'artist type': 'Solo'}, {'title': 'Lost in the Fire (feat. The Weeknd)', 'artist': 'Gesaffelstein', 'top genre': 'dark clubbing', 'year released': 2019.0, 'added': '2021‑10‑28', 'bpm': 101.0, 'nrgy': 67.0, 'dnce': 66.0, 'dB': -12.0, 'live': 12.0, 'val': 17.0, 'dur': 202.0, 'acous': 9.0, 'spch': 4.0, 'pop': 89.0, 'top year': 2019.0, 'artist type': 'Solo'}, {'title': 'Without Me', 'artist': 'Halsey', 'top genre': 'dance pop', 'year released': 2018.0, 'added': '2020‑06‑22', 'bpm': 136.0, 'nrgy': 49.0, 'dnce': 75.0, 'dB': -7.0, 'live': 9.0, 'val': 53.0, 'dur': 202.0, 'acous': 30.0, 'spch': 7.0, 'pop': 82.0, 'top year': 2019.0, 'artist type': 'Solo'}, {'title': 'emotions', 'artist': 'iann dior', 'top genre': 'melodic rap', 'year released': 2019.0, 'added': '2021‑08‑17', 'bpm': 81.0, 'nrgy': 63.0, 'dnce': 63.0, 'dB': -6.0, 'live': 14.0, 'val': 16.0, 'dur': 131.0, 'acous': 1.0, 'spch': 4.0, 'pop': 77.0, 'top year': 2019.0, 'artist type': 'Solo'}, {'title': 'gone girl', 'artist': 'iann dior', 'top genre': 'melodic rap', 'year released': 2019.0, 'added': '2021‑08‑17', 'bpm': 95.0, 'nrgy': 71.0, 'dnce': 68.0, 'dB': -6.0, 'live': 7.0, 'val': 36.0, 'dur': 137.0, 'acous': 16.0, 'spch': 3.0, 'pop': 75.0, 'top year': 2019.0, 'artist type': 'Solo'}, {'title': 'MIDDLE CHILD', 'artist': 'J. Cole', 'top genre': 'conscious hip hop', 'year released': 2019.0, 'added': '2020‑06‑22', 'bpm': 124.0, 'nrgy': 36.0, 'dnce': 84.0, 'dB': -12.0, 'live': 27.0, 'val': 46.0, 'dur': 214.0, 'acous': 15.0, 'spch': 28.0, 'pop': 85.0, 'top year': 2019.0, 'artist type': 'Solo'}, {'title': 'All Day And Night', 'artist': 'Jax Jones', 'top genre': 'dance pop', 'year released': 2019.0, 'added': '2020‑06‑22', 'bpm': 122.0, 'nrgy': 78.0, 'dnce': 59.0, 'dB': -4.0, 'live': 16.0, 'val': 52.0, 'dur': 169.0, 'acous': 27.0, 'spch': 9.0, 'pop': 64.0, 'top year': 2019.0, 'artist type': 'Solo'}, {'title': 'Sorry', 'artist': 'Joel Corry', 'top genre': 'dance pop', 'year released': 2019.0, 'added': '2020‑06‑22', 'bpm': 125.0, 'nrgy': 79.0, 'dnce': 74.0, 'dB': -5.0, 'live': 32.0, 'val': 85.0, 'dur': 189.0, 'acous': 5.0, 'spch': 6.0, 'pop': 68.0, 'top year': 2019.0, 'artist type': 'Solo'}, {'title': 'Sucker', 'artist': 'Jonas Brothers', 'top genre': 'boy band', 'year released': 2019.0, 'added': '2020‑06‑22', 'bpm': 138.0, 'nrgy': 73.0, 'dnce': 84.0, 'dB': -5.0, 'live': 11.0, 'val': 95.0, 'dur': 181.0, 'acous': 4.0, 'spch': 6.0, 'pop': 84.0, 'top year': 2019.0, 'artist type': 'Band/Group'}, {'title': 'Only Human', 'artist': 'Jonas Brothers', 'top genre': 'boy band', 'year released': 2019.0, 'added': '2020‑06‑22', 'bpm': 94.0, 'nrgy': 50.0, 'dnce': 80.0, 'dB': -6.0, 'live': 6.0, 'val': 87.0, 'dur': 183.0, 'acous': 11.0, 'spch': 7.0, 'pop': 76.0, 'top year': 2019.0, 'artist type': 'Band/Group'}, {'title': 'Robbery', 'artist': 'Juice WRLD', 'top genre': 'chicago rap', 'year released': 2019.0, 'added': '2020‑06‑22', 'bpm': 80.0, 'nrgy': 69.0, 'dnce': 62.0, 'dB': -5.0, 'live': 15.0, 'val': 57.0, 'dur': 240.0, 'acous': 33.0, 'spch': 5.0, 'pop': 84.0, 'top year': 2019.0, 'artist type': 'Solo'}, {'title': 'Good as You', 'artist': 'Kane Brown', 'top genre': 'black americana', 'year released': 2019.0, 'added': '2020‑06‑22', 'bpm': 154.0, 'nrgy': 52.0, 'dnce': 63.0, 'dB': -6.0, 'live': 14.0, 'val': 77.0, 'dur': 192.0, 'acous': 40.0, 'spch': 4.0, 'pop': 70.0, 'top year': 2019.0, 'artist type': 'Solo'}, {'title': 'Nights Like This (feat. Ty Dolla $ign)', 'artist': 'Kehlani', 'top genre': 'dance pop', 'year released': 2019.0, 'added': '2020‑06‑22', 'bpm': 146.0, 'nrgy': 73.0, 'dnce': 61.0, 'dB': -5.0, 'live': 15.0, 'val': 29.0, 'dur': 202.0, 'acous': 37.0, 'spch': 15.0, 'pop': 80.0, 'top year': 2019.0, 'artist type': 'Solo'}, {'title': 'Better', 'artist': 'Khalid', 'top genre': 'pop', 'year released': 2018.0, 'added': '2020‑06‑22', 'bpm': 98.0, 'nrgy': 55.0, 'dnce': 60.0, 'dB': -10.0, 'live': 10.0, 'val': 11.0, 'dur': 229.0, 'acous': 8.0, 'spch': 10.0, 'pop': 81.0, 'top year': 2019.0, 'artist type': 'Solo'}, {'title': 'Talk (feat. Disclosure)', 'artist': 'Khalid', 'top genre': 'pop', 'year released': 2019.0, 'added': '2020‑06‑22', 'bpm': 136.0, 'nrgy': 40.0, 'dnce': 90.0, 'dB': -9.0, 'live': 6.0, 'val': 35.0, 'dur': 198.0, 'acous': 5.0, 'spch': 13.0, 'pop': 76.0, 'top year': 2019.0, 'artist type': 'Solo'}, {'title': 'ZEZE (feat. Travis Scott & Offset)', 'artist': 'Kodak Black', 'top genre': 'florida rap', 'year released': 2018.0, 'added': '2020‑06‑22', 'bpm': 98.0, 'nrgy': 60.0, 'dnce': 86.0, 'dB': -6.0, 'live': 9.0, 'val': 50.0, 'dur': 229.0, 'acous': 5.0, 'spch': 18.0, 'pop': 82.0, 'top year': 2019.0, 'artist type': 'Solo'}, {'title': 'Shallow', 'artist': 'Lady Gaga', 'top genre': 'art pop', 'year released': 2018.0, 'added': '2020‑06‑22', 'bpm': 96.0, 'nrgy': 39.0, 'dnce': 57.0, 'dB': -6.0, 'live': 23.0, 'val': 32.0, 'dur': 216.0, 'acous': 37.0, 'spch': 3.0, 'pop': 87.0, 'top year': 2019.0, 'artist type': 'Solo'}, {'title': \"Doin' Time\", 'artist': 'Lana Del Rey', 'top genre': 'art pop', 'year released': 2019.0, 'added': '2020‑06‑22', 'bpm': 145.0, 'nrgy': 56.0, 'dnce': 64.0, 'dB': -11.0, 'live': 9.0, 'val': 52.0, 'dur': 202.0, 'acous': 40.0, 'spch': 4.0, 'pop': 83.0, 'top year': 2019.0, 'artist type': 'Solo'}, {'title': \"i'm so tired...\", 'artist': 'Lauv', 'top genre': 'dance pop', 'year released': 2020.0, 'added': '2020‑06‑22', 'bpm': 102.0, 'nrgy': 73.0, 'dnce': 60.0, 'dB': -7.0, 'live': 24.0, 'val': 53.0, 'dur': 163.0, 'acous': 18.0, 'spch': 20.0, 'pop': 81.0, 'top year': 2019.0, 'artist type': 'Solo'}, {'title': 'Someone You Loved', 'artist': 'Lewis Capaldi', 'top genre': 'pop', 'year released': 2019.0, 'added': '2020‑06‑22', 'bpm': 110.0, 'nrgy': 41.0, 'dnce': 50.0, 'dB': -6.0, 'live': 11.0, 'val': 45.0, 'dur': 182.0, 'acous': 75.0, 'spch': 3.0, 'pop': 89.0, 'top year': 2019.0, 'artist type': 'Solo'}, {'title': 'Grace', 'artist': 'Lewis Capaldi', 'top genre': 'pop', 'year released': 2019.0, 'added': '2020‑06‑22', 'bpm': 104.0, 'nrgy': 56.0, 'dnce': 72.0, 'dB': -6.0, 'live': 17.0, 'val': 49.0, 'dur': 186.0, 'acous': 44.0, 'spch': 3.0, 'pop': 72.0, 'top year': 2019.0, 'artist type': 'Solo'}, {'title': 'Old Town Road - Remix', 'artist': 'Lil Nas X', 'top genre': 'lgbtq+ hip hop', 'year released': 2019.0, 'added': '2020‑06‑22', 'bpm': 136.0, 'nrgy': 62.0, 'dnce': 88.0, 'dB': -6.0, 'live': 11.0, 'val': 64.0, 'dur': 157.0, 'acous': 5.0, 'spch': 10.0, 'pop': 83.0, 'top year': 2019.0, 'artist type': 'Solo'}, {'title': 'Old Town Road', 'artist': 'Lil Nas X', 'top genre': 'lgbtq+ hip hop', 'year released': 2019.0, 'added': '2020‑06‑22', 'bpm': 136.0, 'nrgy': 53.0, 'dnce': 91.0, 'dB': -6.0, 'live': 10.0, 'val': 51.0, 'dur': 113.0, 'acous': 6.0, 'spch': 13.0, 'pop': 80.0, 'top year': 2019.0, 'artist type': 'Solo'}, {'title': 'Panini', 'artist': 'Lil Nas X', 'top genre': 'lgbtq+ hip hop', 'year released': 2019.0, 'added': '2020‑06‑22', 'bpm': 154.0, 'nrgy': 59.0, 'dnce': 70.0, 'dB': -6.0, 'live': 12.0, 'val': 48.0, 'dur': 115.0, 'acous': 34.0, 'spch': 8.0, 'pop': 76.0, 'top year': 2019.0, 'artist type': 'Solo'}, {'title': 'Ransom', 'artist': 'Lil Tecca', 'top genre': 'melodic rap', 'year released': 2019.0, 'added': '2020‑06‑22', 'bpm': 180.0, 'nrgy': 64.0, 'dnce': 75.0, 'dB': -6.0, 'live': 7.0, 'val': 23.0, 'dur': 131.0, 'acous': 2.0, 'spch': 29.0, 'pop': 83.0, 'top year': 2019.0, 'artist type': 'Solo'}, {'title': 'Truth Hurts', 'artist': 'Lizzo', 'top genre': 'dance pop', 'year released': 2019.0, 'added': '2020‑06‑22', 'bpm': 158.0, 'nrgy': 62.0, 'dnce': 72.0, 'dB': -3.0, 'live': 12.0, 'val': 41.0, 'dur': 173.0, 'acous': 11.0, 'spch': 11.0, 'pop': 80.0, 'top year': 2019.0, 'artist type': 'Solo'}, {'title': 'Good as Hell', 'artist': 'Lizzo', 'top genre': 'dance pop', 'year released': 2019.0, 'added': '2020‑06‑22', 'bpm': 96.0, 'nrgy': 92.0, 'dnce': 68.0, 'dB': -3.0, 'live': 44.0, 'val': 54.0, 'dur': 160.0, 'acous': 26.0, 'spch': 9.0, 'pop': 77.0, 'top year': 2019.0, 'artist type': 'Solo'}, {'title': 'Soltera - Remix', 'artist': 'Lunay', 'top genre': 'latin', 'year released': 2019.0, 'added': '2020‑06‑22', 'bpm': 92.0, 'nrgy': 78.0, 'dnce': 80.0, 'dB': -4.0, 'live': 44.0, 'val': 80.0, 'dur': 266.0, 'acous': 36.0, 'spch': 4.0, 'pop': 74.0, 'top year': 2019.0, 'artist type': 'Solo'}, {'title': 'Light On', 'artist': 'Maggie Rogers', 'top genre': 'indie pop', 'year released': 2019.0, 'added': '2020‑06‑22', 'bpm': 102.0, 'nrgy': 57.0, 'dnce': 66.0, 'dB': -6.0, 'live': 13.0, 'val': 40.0, 'dur': 234.0, 'acous': 20.0, 'spch': 5.0, 'pop': 72.0, 'top year': 2019.0, 'artist type': 'Solo'}, {'title': 'Nothing Breaks Like a Heart (feat. Miley Cyrus)', 'artist': 'Mark Ronson', 'top genre': 'dance pop', 'year released': 2018.0, 'added': '2020‑06‑22', 'bpm': 114.0, 'nrgy': 79.0, 'dnce': 60.0, 'dB': -6.0, 'live': 39.0, 'val': 24.0, 'dur': 217.0, 'acous': 1.0, 'spch': 7.0, 'pop': 84.0, 'top year': 2019.0, 'artist type': 'Solo'}, {'title': 'Here With Me', 'artist': 'Marshmello', 'top genre': 'brostep', 'year released': 2019.0, 'added': '2020‑06‑22', 'bpm': 100.0, 'nrgy': 56.0, 'dnce': 79.0, 'dB': -4.0, 'live': 16.0, 'val': 18.0, 'dur': 156.0, 'acous': 6.0, 'spch': 4.0, 'pop': 77.0, 'top year': 2019.0, 'artist type': 'Solo'}, {'title': 'One Thing Right', 'artist': 'Marshmello', 'top genre': 'brostep', 'year released': 2019.0, 'added': '2020‑06‑22', 'bpm': 88.0, 'nrgy': 63.0, 'dnce': 66.0, 'dB': -2.0, 'live': 58.0, 'val': 44.0, 'dur': 182.0, 'acous': 6.0, 'spch': 5.0, 'pop': 77.0, 'top year': 2019.0, 'artist type': 'Solo'}, {'title': 'Piece Of Your Heart', 'artist': 'MEDUZA', 'top genre': 'edm', 'year released': 2019.0, 'added': '2020‑06‑22', 'bpm': 124.0, 'nrgy': 74.0, 'dnce': 68.0, 'dB': -7.0, 'live': 7.0, 'val': 63.0, 'dur': 153.0, 'acous': 4.0, 'spch': 3.0, 'pop': 81.0, 'top year': 2019.0, 'artist type': 'Band/Group'}, {'title': 'Going Bad (feat. Drake)', 'artist': 'Meek Mill', 'top genre': 'hip hop', 'year released': 2018.0, 'added': '2020‑06‑22', 'bpm': 86.0, 'nrgy': 50.0, 'dnce': 89.0, 'dB': -6.0, 'live': 25.0, 'val': 54.0, 'dur': 181.0, 'acous': 26.0, 'spch': 9.0, 'pop': 83.0, 'top year': 2019.0, 'artist type': 'Solo'}, {'title': 'Hot Girl Summer (feat. Nicki Minaj & Ty Dolla $ign)', 'artist': 'Megan Thee Stallion', 'top genre': 'dance pop', 'year released': 2019.0, 'added': '2020‑06‑22', 'bpm': 99.0, 'nrgy': 81.0, 'dnce': 87.0, 'dB': -5.0, 'live': 21.0, 'val': 57.0, 'dur': 199.0, 'acous': 0.0, 'spch': 16.0, 'pop': 73.0, 'top year': 2019.0, 'artist type': 'Solo'}, {'title': 'Slide Away', 'artist': 'Miley Cyrus', 'top genre': 'dance pop', 'year released': 2019.0, 'added': '2020‑06‑22', 'bpm': 148.0, 'nrgy': 54.0, 'dnce': 53.0, 'dB': -7.0, 'live': 25.0, 'val': 29.0, 'dur': 234.0, 'acous': 17.0, 'spch': 3.0, 'pop': 74.0, 'top year': 2019.0, 'artist type': 'Solo'}, {'title': 'Pure Water (with Migos)', 'artist': 'Mustard', 'top genre': 'cali rap', 'year released': 2019.0, 'added': '2020‑06‑22', 'bpm': 202.0, 'nrgy': 56.0, 'dnce': 68.0, 'dB': -6.0, 'live': 34.0, 'val': 14.0, 'dur': 192.0, 'acous': 17.0, 'spch': 13.0, 'pop': 80.0, 'top year': 2019.0, 'artist type': 'Solo'}, {'title': 'Shotta Flow (feat. Blueface) [Remix]', 'artist': 'NLE Choppa', 'top genre': 'memphis hip hop', 'year released': 2019.0, 'added': '2020‑06‑22', 'bpm': 120.0, 'nrgy': 51.0, 'dnce': 89.0, 'dB': -5.0, 'live': 14.0, 'val': 57.0, 'dur': 177.0, 'acous': 3.0, 'spch': 42.0, 'pop': 74.0, 'top year': 2019.0, 'artist type': 'Solo'}, {'title': 'Motivation', 'artist': 'Normani', 'top genre': 'dance pop', 'year released': 2019.0, 'added': '2020‑06‑22', 'bpm': 171.0, 'nrgy': 89.0, 'dnce': 60.0, 'dB': -4.0, 'live': 30.0, 'val': 88.0, 'dur': 194.0, 'acous': 2.0, 'spch': 10.0, 'pop': 76.0, 'top year': 2019.0, 'artist type': 'Solo'}, {'title': 'Options', 'artist': 'NSG', 'top genre': 'afro dancehall', 'year released': 2020.0, 'added': '2020‑08‑20', 'bpm': 102.0, 'nrgy': 62.0, 'dnce': 84.0, 'dB': -5.0, 'live': 10.0, 'val': 76.0, 'dur': 240.0, 'acous': 39.0, 'spch': 9.0, 'pop': 62.0, 'top year': 2019.0, 'artist type': 'Band/Group'}, {'title': 'Clout (feat. Cardi B)', 'artist': 'Offset', 'top genre': 'atl hip hop', 'year released': 2019.0, 'added': '2020‑06‑22', 'bpm': 140.0, 'nrgy': 62.0, 'dnce': 92.0, 'dB': -7.0, 'live': 12.0, 'val': 42.0, 'dur': 206.0, 'acous': 23.0, 'spch': 10.0, 'pop': 73.0, 'top year': 2019.0, 'artist type': 'Solo'}, {'title': 'High Hopes', 'artist': 'Panic! At The Disco', 'top genre': 'modern rock', 'year released': 2018.0, 'added': '2020‑06‑22', 'bpm': 82.0, 'nrgy': 90.0, 'dnce': 58.0, 'dB': -3.0, 'live': 6.0, 'val': 68.0, 'dur': 191.0, 'acous': 19.0, 'spch': 6.0, 'pop': 85.0, 'top year': 2019.0, 'artist type': 'Band/Group'}, {'title': 'Adan y Eva', 'artist': 'Paulo Londra', 'top genre': 'argentine hip hop', 'year released': 2019.0, 'added': '2020‑06‑22', 'bpm': 172.0, 'nrgy': 71.0, 'dnce': 77.0, 'dB': -4.0, 'live': 7.0, 'val': 72.0, 'dur': 257.0, 'acous': 32.0, 'spch': 34.0, 'pop': 76.0, 'top year': 2019.0, 'artist type': 'Solo'}, {'title': 'Pop Out (feat. Lil Tjay)', 'artist': 'Polo G', 'top genre': 'chicago rap', 'year released': 2019.0, 'added': '2020‑06‑22', 'bpm': 168.0, 'nrgy': 64.0, 'dnce': 77.0, 'dB': -7.0, 'live': 7.0, 'val': 26.0, 'dur': 167.0, 'acous': 15.0, 'spch': 47.0, 'pop': 83.0, 'top year': 2019.0, 'artist type': 'Solo'}, {'title': 'Circles', 'artist': 'Post Malone', 'top genre': 'dfw rap', 'year released': 2019.0, 'added': '2020‑06‑22', 'bpm': 120.0, 'nrgy': 76.0, 'dnce': 70.0, 'dB': -3.0, 'live': 9.0, 'val': 55.0, 'dur': 215.0, 'acous': 19.0, 'spch': 4.0, 'pop': 89.0, 'top year': 2019.0, 'artist type': 'Solo'}, {'title': 'Better Now', 'artist': 'Post Malone', 'top genre': 'dfw rap', 'year released': 2018.0, 'added': '2020‑06‑22', 'bpm': 145.0, 'nrgy': 58.0, 'dnce': 68.0, 'dB': -6.0, 'live': 14.0, 'val': 34.0, 'dur': 231.0, 'acous': 33.0, 'spch': 4.0, 'pop': 84.0, 'top year': 2019.0, 'artist type': 'Solo'}, {'title': 'Sunflower - Spider-Man: Into the Spider-Verse', 'artist': 'Post Malone', 'top genre': 'dfw rap', 'year released': 2019.0, 'added': '2020‑06‑22', 'bpm': 90.0, 'nrgy': 52.0, 'dnce': 76.0, 'dB': -4.0, 'live': 7.0, 'val': 93.0, 'dur': 158.0, 'acous': 53.0, 'spch': 6.0, 'pop': 84.0, 'top year': 2019.0, 'artist type': 'Solo'}, {'title': 'Wow.', 'artist': 'Post Malone', 'top genre': 'dfw rap', 'year released': 2019.0, 'added': '2020‑06‑22', 'bpm': 100.0, 'nrgy': 54.0, 'dnce': 83.0, 'dB': -7.0, 'live': 10.0, 'val': 39.0, 'dur': 150.0, 'acous': 14.0, 'spch': 21.0, 'pop': 83.0, 'top year': 2019.0, 'artist type': 'Solo'}, {'title': 'Goodbyes (feat. Young Thug)', 'artist': 'Post Malone', 'top genre': 'dfw rap', 'year released': 2019.0, 'added': '2020‑06‑22', 'bpm': 150.0, 'nrgy': 65.0, 'dnce': 55.0, 'dB': -4.0, 'live': 10.0, 'val': 16.0, 'dur': 175.0, 'acous': 46.0, 'spch': 8.0, 'pop': 82.0, 'top year': 2019.0, 'artist type': 'Solo'}, {'title': 'Bohemian Rhapsody - Remastered 2011', 'artist': 'Queen', 'top genre': 'classic rock', 'year released': 1975.0, 'added': '2020‑06‑22', 'bpm': 144.0, 'nrgy': 40.0, 'dnce': 39.0, 'dB': -10.0, 'live': 24.0, 'val': 23.0, 'dur': 354.0, 'acous': 29.0, 'spch': 5.0, 'pop': 77.0, 'top year': 2019.0, 'artist type': 'Band/Group'}, {'title': 'Ride It', 'artist': 'Regard', 'top genre': 'dance pop', 'year released': 2019.0, 'added': '2020‑06‑22', 'bpm': 118.0, 'nrgy': 75.0, 'dnce': 88.0, 'dB': -4.0, 'live': 11.0, 'val': 88.0, 'dur': 158.0, 'acous': 18.0, 'spch': 9.0, 'pop': 85.0, 'top year': 2019.0, 'artist type': 'Solo'}, {'title': 'Keisha & Becky - Remix', 'artist': 'Russ Millions', 'top genre': 'uk drill', 'year released': 2019.0, 'added': '2020‑08‑20', 'bpm': 141.0, 'nrgy': 47.0, 'dnce': 86.0, 'dB': -10.0, 'live': 12.0, 'val': 64.0, 'dur': 253.0, 'acous': 25.0, 'spch': 48.0, 'pop': 73.0, 'top year': 2019.0, 'artist type': 'Solo'}, {'title': 'Post Malone (feat. RANI)', 'artist': 'Sam Feldt', 'top genre': 'dance pop', 'year released': 2019.0, 'added': '2020‑06‑22', 'bpm': 107.0, 'nrgy': 64.0, 'dnce': 59.0, 'dB': -4.0, 'live': 11.0, 'val': 65.0, 'dur': 174.0, 'acous': 8.0, 'spch': 12.0, 'pop': 74.0, 'top year': 2019.0, 'artist type': 'Solo'}, {'title': 'My Type', 'artist': 'Saweetie', 'top genre': 'cali rap', 'year released': 2019.0, 'added': '2020‑06‑22', 'bpm': 105.0, 'nrgy': 81.0, 'dnce': 90.0, 'dB': -6.0, 'live': 7.0, 'val': 59.0, 'dur': 126.0, 'acous': 0.0, 'spch': 26.0, 'pop': 76.0, 'top year': 2019.0, 'artist type': 'Solo'}, {'title': 'Otro Trago', 'artist': 'Sech', 'top genre': 'latin', 'year released': 2019.0, 'added': '2020‑06‑22', 'bpm': 176.0, 'nrgy': 70.0, 'dnce': 75.0, 'dB': -5.0, 'live': 11.0, 'val': 62.0, 'dur': 226.0, 'acous': 14.0, 'spch': 34.0, 'pop': 76.0, 'top year': 2019.0, 'artist type': 'Solo'}, {'title': 'Señorita', 'artist': 'Shawn Mendes', 'top genre': 'canadian pop', 'year released': 2019.0, 'added': '2020‑06‑22', 'bpm': 117.0, 'nrgy': 55.0, 'dnce': 76.0, 'dB': -6.0, 'live': 8.0, 'val': 75.0, 'dur': 191.0, 'acous': 4.0, 'spch': 3.0, 'pop': 83.0, 'top year': 2019.0, 'artist type': 'Solo'}, {'title': \"If I Can't Have You\", 'artist': 'Shawn Mendes', 'top genre': 'canadian pop', 'year released': 2019.0, 'added': '2020‑06‑22', 'bpm': 124.0, 'nrgy': 81.0, 'dnce': 69.0, 'dB': -4.0, 'live': 15.0, 'val': 86.0, 'dur': 191.0, 'acous': 52.0, 'spch': 6.0, 'pop': 78.0, 'top year': 2019.0, 'artist type': 'Solo'}, {'title': 'Don’t Feel Like Crying', 'artist': 'Sigrid', 'top genre': 'dance pop', 'year released': 2019.0, 'added': '2020‑06‑22', 'bpm': 120.0, 'nrgy': 81.0, 'dnce': 75.0, 'dB': -4.0, 'live': 7.0, 'val': 72.0, 'dur': 157.0, 'acous': 16.0, 'spch': 4.0, 'pop': 56.0, 'top year': 2019.0, 'artist type': 'Solo'}, {'title': 'Vossi Bop', 'artist': 'Stormzy', 'top genre': 'grime', 'year released': 2019.0, 'added': '2020‑06‑22', 'bpm': 188.0, 'nrgy': 65.0, 'dnce': 68.0, 'dB': -6.0, 'live': 13.0, 'val': 43.0, 'dur': 196.0, 'acous': 13.0, 'spch': 34.0, 'pop': 69.0, 'top year': 2019.0, 'artist type': 'Solo'}, {'title': 'Lover', 'artist': 'Taylor Swift', 'top genre': 'pop', 'year released': 2019.0, 'added': '2020‑06‑22', 'bpm': 69.0, 'nrgy': 54.0, 'dnce': 36.0, 'dB': -8.0, 'live': 12.0, 'val': 45.0, 'dur': 221.0, 'acous': 49.0, 'spch': 9.0, 'pop': 86.0, 'top year': 2019.0, 'artist type': 'Solo'}, {'title': 'Cruel Summer', 'artist': 'Taylor Swift', 'top genre': 'pop', 'year released': 2019.0, 'added': '2021‑08‑17', 'bpm': 170.0, 'nrgy': 70.0, 'dnce': 55.0, 'dB': -6.0, 'live': 11.0, 'val': 56.0, 'dur': 178.0, 'acous': 12.0, 'spch': 16.0, 'pop': 82.0, 'top year': 2019.0, 'artist type': 'Solo'}, {'title': 'You Need To Calm Down', 'artist': 'Taylor Swift', 'top genre': 'pop', 'year released': 2019.0, 'added': '2020‑06‑22', 'bpm': 85.0, 'nrgy': 67.0, 'dnce': 77.0, 'dB': -6.0, 'live': 6.0, 'val': 71.0, 'dur': 171.0, 'acous': 1.0, 'spch': 6.0, 'pop': 81.0, 'top year': 2019.0, 'artist type': 'Solo'}, {'title': 'SICKO MODE', 'artist': 'Travis Scott', 'top genre': 'hip hop', 'year released': 2018.0, 'added': '2020‑06‑22', 'bpm': 155.0, 'nrgy': 73.0, 'dnce': 83.0, 'dB': -4.0, 'live': 12.0, 'val': 45.0, 'dur': 313.0, 'acous': 1.0, 'spch': 22.0, 'pop': 86.0, 'top year': 2019.0, 'artist type': 'Solo'}, {'title': 'EARFQUAKE', 'artist': 'Tyler, The Creator', 'top genre': 'hip hop', 'year released': 2019.0, 'added': '2020‑06‑22', 'bpm': 80.0, 'nrgy': 50.0, 'dnce': 55.0, 'dB': -9.0, 'live': 80.0, 'val': 41.0, 'dur': 190.0, 'acous': 23.0, 'spch': 7.0, 'pop': 85.0, 'top year': 2019.0, 'artist type': 'Solo'}, {'title': 'Boasty (feat. Idris Elba)', 'artist': 'Wiley', 'top genre': 'grime', 'year released': 2019.0, 'added': '2020‑06‑22', 'bpm': 103.0, 'nrgy': 77.0, 'dnce': 89.0, 'dB': -5.0, 'live': 9.0, 'val': 46.0, 'dur': 177.0, 'acous': 1.0, 'spch': 7.0, 'pop': 68.0, 'top year': 2019.0, 'artist type': 'Solo'}, {'title': 'Strike a Pose (feat. Aitch)', 'artist': 'Young T & Bugsey', 'top genre': 'afroswing', 'year released': 2019.0, 'added': '2020‑08‑20', 'bpm': 138.0, 'nrgy': 58.0, 'dnce': 53.0, 'dB': -6.0, 'live': 10.0, 'val': 59.0, 'dur': 214.0, 'acous': 1.0, 'spch': 10.0, 'pop': 67.0, 'top year': 2019.0, 'artist type': 'Duo'}, {'title': 'The London (feat. J. Cole & Travis Scott)', 'artist': 'Young Thug', 'top genre': 'atl hip hop', 'year released': 2019.0, 'added': '2020‑06‑22', 'bpm': 98.0, 'nrgy': 59.0, 'dnce': 80.0, 'dB': -7.0, 'live': 13.0, 'val': 18.0, 'dur': 200.0, 'acous': 2.0, 'spch': 15.0, 'pop': 75.0, 'top year': 2019.0, 'artist type': 'Solo'}]"
   ],
   "metadata": {
    "id": "pbOHxInxN9jC",
    "pycharm": {
     "name": "#%%\n"
    }
   },
   "execution_count": null,
   "outputs": []
  },
  {
   "cell_type": "markdown",
   "source": [
    "#### Analyse our data"
   ],
   "metadata": {
    "id": "GRRUI2bjTzWz",
    "pycharm": {
     "name": "#%% md\n"
    }
   }
  },
  {
   "cell_type": "markdown",
   "source": [
    "Let's take a look at `songs` in more detail. \n",
    "- What type of data is it? \n",
    "- How many songs does it contain?\n",
    "- How can we inspect just one of them?\n",
    "- What song attributes does the dataset contain?"
   ],
   "metadata": {
    "id": "aGrG0_sCREs6",
    "pycharm": {
     "name": "#%% md\n"
    }
   }
  },
  {
   "cell_type": "code",
   "source": [
    "# Code here"
   ],
   "metadata": {
    "id": "Mj-jyH61OGSc",
    "pycharm": {
     "name": "#%%\n"
    }
   },
   "execution_count": null,
   "outputs": []
  },
  {
   "cell_type": "markdown",
   "source": [
    "Now let's start to use loops to process our data. \n",
    "\n",
    "- Can we identify artists in this dataset?\n",
    "- What is the longest song title?\n",
    "- Find a song with a 5+ minute length (*hint: 'dur' column contains song duration*)\n",
    "- Collect songs to fill a 60 minute playlist (60 minutes or under)"
   ],
   "metadata": {
    "id": "mQJkBxIrRBZt",
    "pycharm": {
     "name": "#%% md\n"
    }
   }
  },
  {
   "cell_type": "code",
   "source": [
    "# Code here"
   ],
   "metadata": {
    "id": "-kCB-31PTAt5",
    "pycharm": {
     "name": "#%%\n"
    }
   },
   "execution_count": null,
   "outputs": []
  },
  {
   "cell_type": "markdown",
   "source": [
    "\n",
    "\n",
    "---\n",
    "\n",
    "\n",
    "## New material"
   ],
   "metadata": {
    "id": "WCKiYX0BJYc-",
    "pycharm": {
     "name": "#%% md\n"
    }
   }
  },
  {
   "cell_type": "markdown",
   "source": [
    "### Nested loops"
   ],
   "metadata": {
    "id": "l_DVqR6A_Vc3",
    "pycharm": {
     "name": "#%% md\n"
    }
   }
  },
  {
   "cell_type": "markdown",
   "source": [
    "Nested loops are loops *within* other loops.\n",
    "\n",
    "Remember that:\n",
    "\n",
    "![For loops](https://www.learnbyexample.org/wp-content/uploads/python/Python-for-Loop-Syntax.png)\n",
    "\n",
    "A **nested** loop, comprises a loop within a loop (e.g. replaces a statement)"
   ],
   "metadata": {
    "id": "p2BQ0YRtddP5",
    "pycharm": {
     "name": "#%% md\n"
    }
   }
  },
  {
   "cell_type": "markdown",
   "source": [
    "Let's build a very simple nested loop"
   ],
   "metadata": {
    "id": "E5eH1AAbYQMT",
    "pycharm": {
     "name": "#%% md\n"
    }
   }
  },
  {
   "cell_type": "code",
   "source": [
    "firsts = ['Jane', 'Mel', 'Tom']\n",
    "lasts = ['Smith', 'Wu', 'Nadal']"
   ],
   "metadata": {
    "id": "YbwAN26iYm92",
    "pycharm": {
     "name": "#%%\n"
    }
   },
   "execution_count": null,
   "outputs": []
  },
  {
   "cell_type": "markdown",
   "source": [
    "How could we print all combinations of names using loops?"
   ],
   "metadata": {
    "id": "L0tmNJvnYYjM",
    "pycharm": {
     "name": "#%% md\n"
    }
   }
  },
  {
   "cell_type": "code",
   "source": [
    "# Code here"
   ],
   "metadata": {
    "id": "0CrI9062a2AY",
    "pycharm": {
     "name": "#%%\n"
    }
   },
   "execution_count": null,
   "outputs": []
  },
  {
   "cell_type": "markdown",
   "source": [
    "### Functions"
   ],
   "metadata": {
    "id": "6nDeal3vZYQS",
    "pycharm": {
     "name": "#%% md\n"
    }
   }
  },
  {
   "cell_type": "markdown",
   "source": [
    "#### Why functions? "
   ],
   "metadata": {
    "id": "77hFlfdyePZ9",
    "pycharm": {
     "name": "#%% md\n"
    }
   }
  },
  {
   "cell_type": "markdown",
   "source": [
    "Functions allow us to **reuse** code, and for us to provide names to blocks of code."
   ],
   "metadata": {
    "id": "79-0BPRx4xul",
    "pycharm": {
     "name": "#%% md\n"
    }
   }
  },
  {
   "cell_type": "markdown",
   "source": [
    "#### A very simple functions example"
   ],
   "metadata": {
    "id": "adhrb4dF4zSQ",
    "pycharm": {
     "name": "#%% md\n"
    }
   }
  },
  {
   "cell_type": "markdown",
   "source": [
    "Let's build a simple function, which will just print a greeting:"
   ],
   "metadata": {
    "id": "ZmWi1zHvedAQ",
    "pycharm": {
     "name": "#%% md\n"
    }
   }
  },
  {
   "cell_type": "code",
   "source": [
    "# Code here"
   ],
   "metadata": {
    "id": "P8f76cHoeuL5",
    "pycharm": {
     "name": "#%%\n"
    }
   },
   "execution_count": null,
   "outputs": []
  },
  {
   "cell_type": "markdown",
   "source": [
    "#### A more useful example"
   ],
   "metadata": {
    "id": "MG8Gp61h47LZ",
    "pycharm": {
     "name": "#%% md\n"
    }
   }
  },
  {
   "cell_type": "markdown",
   "source": [
    "The code below returns a dummy customer, usable e.g. for testing a database application. "
   ],
   "metadata": {
    "id": "S8lHvNgTeviC",
    "pycharm": {
     "name": "#%% md\n"
    }
   }
  },
  {
   "cell_type": "code",
   "source": [
    "import random\n",
    "\n",
    "rand_names = ['Debbie', 'Jim', 'Stephen', 'Sally', 'Bob', 'Dolly', 'Miley', 'Cindy']\n",
    "customer = {\n",
    "    'name': random.choice(rand_names),\n",
    "    'age': random.randint(18, 55),\n",
    "    'postcode': random.randint(2000, 5999)\n",
    "}\n",
    "print(customer)"
   ],
   "metadata": {
    "id": "cC8oFJrIe3xg",
    "pycharm": {
     "name": "#%%\n"
    }
   },
   "execution_count": null,
   "outputs": []
  },
  {
   "cell_type": "markdown",
   "source": [
    "Let's build a list of 10 customers with this."
   ],
   "metadata": {
    "id": "aYfNHTPifsQI",
    "pycharm": {
     "name": "#%% md\n"
    }
   }
  },
  {
   "cell_type": "code",
   "source": [
    "# Code here"
   ],
   "metadata": {
    "id": "AsSTCQzlftDc",
    "pycharm": {
     "name": "#%%\n"
    }
   },
   "execution_count": null,
   "outputs": []
  },
  {
   "cell_type": "markdown",
   "source": [
    "### More functions - now with arguments!"
   ],
   "metadata": {
    "id": "_SUCdP0rawQb",
    "pycharm": {
     "name": "#%% md\n"
    }
   }
  },
  {
   "cell_type": "markdown",
   "source": [
    "#### Load data"
   ],
   "metadata": {
    "id": "uPhJwgQxJfOL",
    "pycharm": {
     "name": "#%% md\n"
    }
   }
  },
  {
   "cell_type": "code",
   "source": [
    "# From https://www.kaggle.com/datasets/eswarchandt/amazon-music-reviews\n",
    "reviews = [\n",
    "  {\"reviewerID\": \"A2IBPI20UZIR0U\", \"asin\": \"1384719342\", \"reviewerName\": \"cassandra tu \\\"Yeah, well, that's just like, u...\", \"helpful\": [0, 0], \"reviewText\": \"Not much to write about here, but it does exactly what it's supposed to. filters out the pop sounds. now my recordings are much more crisp. it is one of the lowest prices pop filters on amazon so might as well buy it, they honestly work the same despite their pricing,\", \"overall\": 5.0, \"summary\": \"good\", \"unixReviewTime\": 1393545600, \"reviewTime\": \"02 28, 2014\"},\n",
    "  {\"reviewerID\": \"A14VAT5EAX3D9S\", \"asin\": \"1384719342\", \"reviewerName\": \"Jake\", \"helpful\": [13, 14], \"reviewText\": \"The product does exactly as it should and is quite affordable.I did not realized it was double screened until it arrived, so it was even better than I had expected.As an added bonus, one of the screens carries a small hint of the smell of an old grape candy I used to buy, so for reminiscent's sake, I cannot stop putting the pop filter next to my nose and smelling it after recording. :DIf you needed a pop filter, this will work just as well as the expensive ones, and it may even come with a pleasing aroma like mine did!Buy this product! :]\", \"overall\": 5.0, \"summary\": \"Jake\", \"unixReviewTime\": 1363392000, \"reviewTime\": \"03 16, 2013\"},\n",
    "  {\"reviewerID\": \"A195EZSQDW3E21\", \"asin\": \"1384719342\", \"reviewerName\": \"Rick Bennette \\\"Rick Bennette\\\"\", \"helpful\": [1, 1], \"reviewText\": \"The primary job of this device is to block the breath that would otherwise produce a popping sound, while allowing your voice to pass through with no noticeable reduction of volume or high frequencies. The double cloth filter blocks the pops and lets the voice through with no coloration. The metal clamp mount attaches to the mike stand secure enough to keep it attached. The goose neck needs a little coaxing to stay where you put it.\", \"overall\": 5.0, \"summary\": \"It Does The Job Well\", \"unixReviewTime\": 1377648000, \"reviewTime\": \"08 28, 2013\"},\n",
    "  {\"reviewerID\": \"A2C00NNG1ZQQG2\", \"asin\": \"1384719342\", \"reviewerName\": \"RustyBill \\\"Sunday Rocker\\\"\", \"helpful\": [0, 0], \"reviewText\": \"Nice windscreen protects my MXL mic and prevents pops. Only thing is that the gooseneck is only marginally able to hold the screen in position and requires careful positioning of the clamp to avoid sagging.\", \"overall\": 5.0, \"summary\": \"GOOD WINDSCREEN FOR THE MONEY\", \"unixReviewTime\": 1392336000, \"reviewTime\": \"02 14, 2014\"},\n",
    "  {\"reviewerID\": \"A94QU4C90B1AX\", \"asin\": \"1384719342\", \"reviewerName\": \"SEAN MASLANKA\", \"helpful\": [0, 0], \"reviewText\": \"This pop filter is great. It looks and performs like a studio filter. If you're recording vocals this will eliminate the pops that gets recorded when you sing.\", \"overall\": 5.0, \"summary\": \"No more pops when I record my vocals.\", \"unixReviewTime\": 1392940800, \"reviewTime\": \"02 21, 2014\"},\n",
    "  {\"reviewerID\": \"A2A039TZMZHH9Y\", \"asin\": \"B00004Y2UT\", \"reviewerName\": \"Bill Lewey \\\"blewey\\\"\", \"helpful\": [0, 0], \"reviewText\": \"So good that I bought another one.  Love the heavy cord and gold connectors.  Bass sounds great.  I just learned last night how to coil them up.  I guess I should read instructions more carefully.  But no harm done, still works great!\", \"overall\": 5.0, \"summary\": \"The Best Cable\", \"unixReviewTime\": 1356048000, \"reviewTime\": \"12 21, 2012\"},\n",
    "  {\"reviewerID\": \"A1UPZM995ZAH90\", \"asin\": \"B00004Y2UT\", \"reviewerName\": \"Brian\", \"helpful\": [0, 0], \"reviewText\": \"I have used monster cables for years, and with good reason. The lifetime warranty is worth the price alone. Simple fact: cables break, but getting to replace them at no cost is where it's at.\", \"overall\": 5.0, \"summary\": \"Monster Standard 100 - 21' Instrument Cable\", \"unixReviewTime\": 1390089600, \"reviewTime\": \"01 19, 2014\"},\n",
    "  {\"reviewerID\": \"AJNFQI3YR6XJ5\", \"asin\": \"B00004Y2UT\", \"reviewerName\": \"Fender Guy \\\"Rick\\\"\", \"helpful\": [0, 0], \"reviewText\": \"I now use this cable to run from the output of my pedal chain to the input of my Fender Amp. After I bought Monster Cable to hook up my pedal board I thought I would try another one and update my guitar. I had been using a high end Planet Waves cable that I bought in the 1980's... Once I found out the input jacks on the new Monster cable didn't fit into the Fender Strat jack I was a little disappointed... I didn't return it and as stated I use it for the output on the pedal board. Save your money... I went back to my Planet Waves Cable...I payed $30.00 back in the eighties for the Planet Waves which now comes in at around $50.00. What I'm getting at is you get what you pay for. I thought Waves was a lot of money back in the day...but I haven't bought a guitar cable since this one...20 plus years and still working...Planet Waves wins.\", \"overall\": 3.0, \"summary\": \"Didn't fit my 1996 Fender Strat...\", \"unixReviewTime\": 1353024000, \"reviewTime\": \"11 16, 2012\"},\n",
    "  {\"reviewerID\": \"A3M1PLEYNDEYO8\", \"asin\": \"B00004Y2UT\", \"reviewerName\": \"G. Thomas \\\"Tom\\\"\", \"helpful\": [0, 0], \"reviewText\": \"Perfect for my Epiphone Sheraton II.  Monster cables are well constructed.  I have several and never had any problems with any of them over the years.  Got this one because I wanted the 90 degree plug.\", \"overall\": 5.0, \"summary\": \"Great cable\", \"unixReviewTime\": 1215302400, \"reviewTime\": \"07 6, 2008\"},\n",
    "  {\"reviewerID\": \"AMNTZU1YQN1TH\", \"asin\": \"B00004Y2UT\", \"reviewerName\": \"Kurt Robair\", \"helpful\": [0, 0], \"reviewText\": \"Monster makes the best cables and a lifetime warranty doesnt hurt either. This isnt their top of the line series but it works great with my bass guitar rig and has for some time. You cant go wrong with Monster Cables.\", \"overall\": 5.0, \"summary\": \"Best Instrument Cables On The Market\", \"unixReviewTime\": 1389139200, \"reviewTime\": \"01 8, 2014\"},\n",
    "  {\"reviewerID\": \"A2NYK9KWFMJV4Y\", \"asin\": \"B00004Y2UT\", \"reviewerName\": \"Mike Tarrani \\\"Jazz Drummer\\\"\", \"helpful\": [6, 6], \"reviewText\": \"Monster makes a wide array of cables, including some that are very high end. I initially purchased a pair ofMonster Rock Instrument Cable - 21 Feet - Angled to Straight 1/4-Inch plugto use with my keyboards, but when it came time to purchase cables for my bass and guitar I thought I'd pinch a few pennies.  I am so glad I did.I compared this cable model to the more expensive models I previously purchased and, aside from looks, could not detect any difference in sound. I Swapped back and forth between my guitars and keyboards, ensuring that each model was used on each instrument - still no difference.What the more expensive model has going for it is looks. I am not sure it (the higher priced model) is even more sturdy because the molded stress relief ends on this model seem to make it more reliable than its pricier sibling.Bottom line: carefully compare both cables using your own instrument and amp - if possible - before making a purchase decision. You may find, as I did, that higher price does not necessarily equal higher value, even from the same manufacturer.\", \"overall\": 5.0, \"summary\": \"One of the best instrument cables within the brand\", \"unixReviewTime\": 1334793600, \"reviewTime\": \"04 19, 2012\"},\n",
    "  {\"reviewerID\": \"A35QFQI0M46LWO\", \"asin\": \"B00005ML71\", \"reviewerName\": \"Christopher C\", \"helpful\": [0, 0], \"reviewText\": \"I got it to have it if I needed it. I have found that i don't really need it that often and rarely use it. If I was really good I can see the need. But this is a keyboard not an organ.\", \"overall\": 4.0, \"summary\": \"It works great but I hardly use it.\", \"unixReviewTime\": 1398124800, \"reviewTime\": \"04 22, 2014\"},\n",
    "  {\"reviewerID\": \"A2NIT6BKW11XJQ\", \"asin\": \"B00005ML71\", \"reviewerName\": \"Jai\", \"helpful\": [0, 0], \"reviewText\": \"If you are not use to using a large sustaining pedal while playing the piano, it may appear little awkward.\", \"overall\": 3.0, \"summary\": \"HAS TO GET USE TO THE SIZE\", \"unixReviewTime\": 1384646400, \"reviewTime\": \"11 17, 2013\"},\n",
    "  {\"reviewerID\": \"A1C0O09LOLVI39\", \"asin\": \"B00005ML71\", \"reviewerName\": \"Michael\", \"helpful\": [0, 0], \"reviewText\": \"I love it, I used this for my Yamaha ypt-230 and it works great, I would recommend it to anyone\", \"overall\": 5.0, \"summary\": \"awesome\", \"unixReviewTime\": 1371340800, \"reviewTime\": \"06 16, 2013\"},\n",
    "  {\"reviewerID\": \"A17SLR18TUMULM\", \"asin\": \"B00005ML71\", \"reviewerName\": \"Straydogger\", \"helpful\": [0, 0], \"reviewText\": \"I bought this to use in my home studio to control my midi keyboard. It does just what I wanted it to do.\", \"overall\": 5.0, \"summary\": \"It works!\", \"unixReviewTime\": 1356912000, \"reviewTime\": \"12 31, 2012\"},\n",
    "  {\"reviewerID\": \"A2PD27UKAD3Q00\", \"asin\": \"B00005ML71\", \"reviewerName\": \"Wilhelmina Zeitgeist \\\"coolartsybabe\\\"\", \"helpful\": [0, 0], \"reviewText\": \"I bought this to use with my keyboard. I wasn't really aware that there were other options for keyboard pedals. It doesn't work as smoothly as the pedals do on an acoustic piano, which is what I'd always used. Doesn't have the same feel either. Nowhere close.In my opinion, a sustain pedal like the M-Audio SP-2 Sustain Pedal with Piano Style Action or other similar pedal is a much better choice. The price difference is only a few dollars and the feel and action are so much better. The only thing I've found the Yamaha FC-5 Sustain Pedal is good for is taking up space in a drawer where I keep my electric guitar pedals.\", \"overall\": 2.0, \"summary\": \"Definitely Not For The Seasoned Piano Player\", \"unixReviewTime\": 1376697600, \"reviewTime\": \"08 17, 2013\"},\n",
    "  {\"reviewerID\": \"AKSFZ4G1AXYFC\", \"asin\": \"B000068NSX\", \"reviewerName\": \"C.E. \\\"Frank\\\"\", \"helpful\": [0, 0], \"reviewText\": \"This Fender cable is the perfect length for me! Sometimes I find it a bit too long but I don't mind. The build quality is great and I know that it will last. The only gripe I have with this cable is that the metal sleeve gets unscrewed way too easily, requiring me to tighten it often.Sound quality is not affected, and the color is cool, definitely try this cable out.\", \"overall\": 4.0, \"summary\": \"Durable Instrument Cable\", \"unixReviewTime\": 1376352000, \"reviewTime\": \"08 13, 2013\"},\n",
    "  {\"reviewerID\": \"A67OJZLHBBUQ9\", \"asin\": \"B000068NSX\", \"reviewerName\": \"Charles F. Marks \\\"charlie marks\\\"\", \"helpful\": [0, 0], \"reviewText\": \"wanted it just on looks alone...It is a nice looking cord... I know it will perform...as for Sam Ash ...this cord was packed in a mailer inside another box with my Roc n Soc... his shipping team do great work..never any complaints from me... I love Sam Ash.. thanks Amazon\", \"overall\": 5.0, \"summary\": \"fender 18 ft. Cali clear...\", \"unixReviewTime\": 1373328000, \"reviewTime\": \"07 9, 2013\"},\n",
    "  {\"reviewerID\": \"A2EZWZ8MBEDOLN\", \"asin\": \"B000068NSX\", \"reviewerName\": \"Charlo\", \"helpful\": [3, 3], \"reviewText\": \"I've been using these cables for more than 4 months and they are holding up pretty well.  For years I used seemingly indestructable guitar cables that were made for me by an electrician friend.  When they finally gave out, I got in the habit of using the no-name cables that are always on display near the register at Guitar Center- really more of an impulse buy than something I put any thought into.  After the third or fourth Guitar Center cable failed from light use I decided to try these cables.  Not only are they cheaper but they seem to be holding up better.  I am not terribly hard on my gear but my cables tend to get twisted as I move around and the cheaper ones  eventually fail mid-cable.  I don't mind spending a few extra dollars if the cable is a little more durable.  This cable is actually cheaper- $12 or so shipped- and it's holding up pretty well.  These are actually very reasonably priced for 18' cables.  There is some kind of limited life warantee on this product but I haven't needed it.  Five stars for a nicely made 18 foot guitar cable that costs $12 shipped!Incidentally- these cables are shielded and are meant to connect your instrument to your amp's input.  Do not use these to connect an amplifier to a speaker cab.  You want to use unshielded cables for that purpose.Edit-  More than 6 months has passed and this cable is functioning without any issues.  The price on these things has gone up significantly and although the cable is highly recommended, there are probably better values from Hosa, Monster or Planet Waves-\", \"overall\": 5.0, \"summary\": \"So far so good.  Will revisit at the 6 month mark ;)\", \"unixReviewTime\": 1363564800, \"reviewTime\": \"03 18, 2013\"},\n",
    "  {\"reviewerID\": \"A1CL807EOUPVP1\", \"asin\": \"B000068NSX\", \"reviewerName\": \"GunHawk\", \"helpful\": [0, 0], \"reviewText\": \"Fender cords look great and work just as well. By adding the word California to the description I'm sure to sound like the Beach Boys...\", \"overall\": 5.0, \"summary\": \"Add California to the name and I jump!\", \"unixReviewTime\": 1375833600, \"reviewTime\": \"08 7, 2013\"},\n",
    "]"
   ],
   "metadata": {
    "id": "bDzt1gsICKBY",
    "pycharm": {
     "name": "#%%\n"
    }
   },
   "execution_count": null,
   "outputs": []
  },
  {
   "cell_type": "markdown",
   "source": [
    "#### Loop over this list of dictionaries"
   ],
   "metadata": {
    "id": "ieqXFQjn5Ob2",
    "pycharm": {
     "name": "#%% md\n"
    }
   }
  },
  {
   "cell_type": "markdown",
   "source": [
    "Let's print out a summary of a review, comprising the\n",
    "- reviewer name\n",
    "- number of 'helpful' votes, \n",
    "- review score, and \n",
    "- first 15 characters of the review"
   ],
   "metadata": {
    "id": "3jxrW_Pz_vR8",
    "pycharm": {
     "name": "#%% md\n"
    }
   }
  },
  {
   "cell_type": "code",
   "source": [
    "# Code here"
   ],
   "metadata": {
    "id": "om7OXchRZ5fT",
    "pycharm": {
     "name": "#%%\n"
    }
   },
   "execution_count": null,
   "outputs": []
  },
  {
   "cell_type": "markdown",
   "source": [
    "#### As functions"
   ],
   "metadata": {
    "id": "QZ7O3tRB5Ynk",
    "pycharm": {
     "name": "#%% md\n"
    }
   }
  },
  {
   "cell_type": "markdown",
   "source": [
    "Now, let's say that we want to reproduce the summary multiple times - e.g. at the start of a report, and in the body.\n",
    "\n",
    "How can we reduce the re-work in our code?"
   ],
   "metadata": {
    "id": "XSeIJA9qZ63d",
    "pycharm": {
     "name": "#%% md\n"
    }
   }
  },
  {
   "cell_type": "code",
   "source": [
    "# Code here"
   ],
   "metadata": {
    "id": "PMaK8f_oaBqJ",
    "pycharm": {
     "name": "#%%\n"
    }
   },
   "execution_count": null,
   "outputs": []
  },
  {
   "cell_type": "markdown",
   "source": [
    "Can we produce summaries for **each** line of our code?"
   ],
   "metadata": {
    "id": "imV5xxxcaDH_",
    "pycharm": {
     "name": "#%% md\n"
    }
   }
  },
  {
   "cell_type": "code",
   "source": [
    "# Code here"
   ],
   "metadata": {
    "id": "RwY5Aq8_azuV",
    "pycharm": {
     "name": "#%%\n"
    }
   },
   "execution_count": null,
   "outputs": []
  }
 ]
}