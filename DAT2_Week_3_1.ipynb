{
 "nbformat": 4,
 "nbformat_minor": 0,
 "metadata": {
  "colab": {
   "name": "DAT2_Week_3_1.ipynb",
   "provenance": []
  },
  "kernelspec": {
   "name": "python3",
   "display_name": "Python 3"
  },
  "language_info": {
   "name": "python"
  }
 },
 "cells": [
  {
   "cell_type": "markdown",
   "source": [
    "[![Open In Colab](https://colab.research.google.com/assets/colab-badge.svg)](https://colab.research.google.com/github/databyjp/axi_da_transform_demos/blob/main/DAT2_Week_3_1.ipynb)\n",
    "# DA Transform - Week 3 session 1"
   ],
   "metadata": {
    "id": "mTNwLJoulcF5",
    "pycharm": {
     "name": "#%% md\n"
    }
   }
  },
  {
   "cell_type": "markdown",
   "source": [
    "## Review"
   ],
   "metadata": {
    "id": "CUFDxVesjUUI",
    "pycharm": {
     "name": "#%% md\n"
    }
   }
  },
  {
   "cell_type": "markdown",
   "source": [
    "### Nested loops"
   ],
   "metadata": {
    "id": "iQ3pp_AnjdKs",
    "pycharm": {
     "name": "#%% md\n"
    }
   }
  },
  {
   "cell_type": "markdown",
   "source": [
    "Let's fetch all reviewes which have had at least one vote marked \"helpful\"."
   ],
   "metadata": {
    "id": "z4JAcY7Tm8Wp",
    "pycharm": {
     "name": "#%% md\n"
    }
   }
  },
  {
   "cell_type": "code",
   "source": [
    "reviews = [\n",
    "  {\"reviewerID\": \"A2IBPI20UZIR0U\", \"asin\": \"1384719342\", \"reviewerName\": \"cassandra tu \\\"Yeah, well, that's just like, u...\", \"helpful\": [0, 0], \"reviewText\": \"Not much to write about here, but it does exactly what it's supposed to. filters out the pop sounds. now my recordings are much more crisp. it is one of the lowest prices pop filters on amazon so might as well buy it, they honestly work the same despite their pricing,\", \"overall\": 5.0, \"summary\": \"good\", \"unixReviewTime\": 1393545600, \"reviewTime\": \"02 28, 2014\"},\n",
    "  {\"reviewerID\": \"A14VAT5EAX3D9S\", \"asin\": \"1384719342\", \"reviewerName\": \"Jake\", \"helpful\": [13, 14], \"reviewText\": \"The product does exactly as it should and is quite affordable.I did not realized it was double screened until it arrived, so it was even better than I had expected.As an added bonus, one of the screens carries a small hint of the smell of an old grape candy I used to buy, so for reminiscent's sake, I cannot stop putting the pop filter next to my nose and smelling it after recording. :DIf you needed a pop filter, this will work just as well as the expensive ones, and it may even come with a pleasing aroma like mine did!Buy this product! :]\", \"overall\": 5.0, \"summary\": \"Jake\", \"unixReviewTime\": 1363392000, \"reviewTime\": \"03 16, 2013\"},\n",
    "  {\"reviewerID\": \"A195EZSQDW3E21\", \"asin\": \"1384719342\", \"reviewerName\": \"Rick Bennette \\\"Rick Bennette\\\"\", \"helpful\": [1, 1], \"reviewText\": \"The primary job of this device is to block the breath that would otherwise produce a popping sound, while allowing your voice to pass through with no noticeable reduction of volume or high frequencies. The double cloth filter blocks the pops and lets the voice through with no coloration. The metal clamp mount attaches to the mike stand secure enough to keep it attached. The goose neck needs a little coaxing to stay where you put it.\", \"overall\": 5.0, \"summary\": \"It Does The Job Well\", \"unixReviewTime\": 1377648000, \"reviewTime\": \"08 28, 2013\"},\n",
    "  {\"reviewerID\": \"A2C00NNG1ZQQG2\", \"asin\": \"1384719342\", \"reviewerName\": \"RustyBill \\\"Sunday Rocker\\\"\", \"helpful\": [0, 0], \"reviewText\": \"Nice windscreen protects my MXL mic and prevents pops. Only thing is that the gooseneck is only marginally able to hold the screen in position and requires careful positioning of the clamp to avoid sagging.\", \"overall\": 5.0, \"summary\": \"GOOD WINDSCREEN FOR THE MONEY\", \"unixReviewTime\": 1392336000, \"reviewTime\": \"02 14, 2014\"},\n",
    "  {\"reviewerID\": \"A94QU4C90B1AX\", \"asin\": \"1384719342\", \"reviewerName\": \"SEAN MASLANKA\", \"helpful\": [0, 0], \"reviewText\": \"This pop filter is great. It looks and performs like a studio filter. If you're recording vocals this will eliminate the pops that gets recorded when you sing.\", \"overall\": 5.0, \"summary\": \"No more pops when I record my vocals.\", \"unixReviewTime\": 1392940800, \"reviewTime\": \"02 21, 2014\"},\n",
    "  {\"reviewerID\": \"A2A039TZMZHH9Y\", \"asin\": \"B00004Y2UT\", \"reviewerName\": \"Bill Lewey \\\"blewey\\\"\", \"helpful\": [0, 0], \"reviewText\": \"So good that I bought another one.  Love the heavy cord and gold connectors.  Bass sounds great.  I just learned last night how to coil them up.  I guess I should read instructions more carefully.  But no harm done, still works great!\", \"overall\": 5.0, \"summary\": \"The Best Cable\", \"unixReviewTime\": 1356048000, \"reviewTime\": \"12 21, 2012\"},\n",
    "  {\"reviewerID\": \"A1UPZM995ZAH90\", \"asin\": \"B00004Y2UT\", \"reviewerName\": \"Brian\", \"helpful\": [0, 0], \"reviewText\": \"I have used monster cables for years, and with good reason. The lifetime warranty is worth the price alone. Simple fact: cables break, but getting to replace them at no cost is where it's at.\", \"overall\": 5.0, \"summary\": \"Monster Standard 100 - 21' Instrument Cable\", \"unixReviewTime\": 1390089600, \"reviewTime\": \"01 19, 2014\"},\n",
    "  {\"reviewerID\": \"AJNFQI3YR6XJ5\", \"asin\": \"B00004Y2UT\", \"reviewerName\": \"Fender Guy \\\"Rick\\\"\", \"helpful\": [0, 0], \"reviewText\": \"I now use this cable to run from the output of my pedal chain to the input of my Fender Amp. After I bought Monster Cable to hook up my pedal board I thought I would try another one and update my guitar. I had been using a high end Planet Waves cable that I bought in the 1980's... Once I found out the input jacks on the new Monster cable didn't fit into the Fender Strat jack I was a little disappointed... I didn't return it and as stated I use it for the output on the pedal board. Save your money... I went back to my Planet Waves Cable...I payed $30.00 back in the eighties for the Planet Waves which now comes in at around $50.00. What I'm getting at is you get what you pay for. I thought Waves was a lot of money back in the day...but I haven't bought a guitar cable since this one...20 plus years and still working...Planet Waves wins.\", \"overall\": 3.0, \"summary\": \"Didn't fit my 1996 Fender Strat...\", \"unixReviewTime\": 1353024000, \"reviewTime\": \"11 16, 2012\"},\n",
    "  {\"reviewerID\": \"A3M1PLEYNDEYO8\", \"asin\": \"B00004Y2UT\", \"reviewerName\": \"G. Thomas \\\"Tom\\\"\", \"helpful\": [0, 0], \"reviewText\": \"Perfect for my Epiphone Sheraton II.  Monster cables are well constructed.  I have several and never had any problems with any of them over the years.  Got this one because I wanted the 90 degree plug.\", \"overall\": 5.0, \"summary\": \"Great cable\", \"unixReviewTime\": 1215302400, \"reviewTime\": \"07 6, 2008\"},\n",
    "  {\"reviewerID\": \"AMNTZU1YQN1TH\", \"asin\": \"B00004Y2UT\", \"reviewerName\": \"Kurt Robair\", \"helpful\": [0, 0], \"reviewText\": \"Monster makes the best cables and a lifetime warranty doesnt hurt either. This isnt their top of the line series but it works great with my bass guitar rig and has for some time. You cant go wrong with Monster Cables.\", \"overall\": 5.0, \"summary\": \"Best Instrument Cables On The Market\", \"unixReviewTime\": 1389139200, \"reviewTime\": \"01 8, 2014\"},\n",
    "  {\"reviewerID\": \"A2NYK9KWFMJV4Y\", \"asin\": \"B00004Y2UT\", \"reviewerName\": \"Mike Tarrani \\\"Jazz Drummer\\\"\", \"helpful\": [6, 6], \"reviewText\": \"Monster makes a wide array of cables, including some that are very high end. I initially purchased a pair ofMonster Rock Instrument Cable - 21 Feet - Angled to Straight 1/4-Inch plugto use with my keyboards, but when it came time to purchase cables for my bass and guitar I thought I'd pinch a few pennies.  I am so glad I did.I compared this cable model to the more expensive models I previously purchased and, aside from looks, could not detect any difference in sound. I Swapped back and forth between my guitars and keyboards, ensuring that each model was used on each instrument - still no difference.What the more expensive model has going for it is looks. I am not sure it (the higher priced model) is even more sturdy because the molded stress relief ends on this model seem to make it more reliable than its pricier sibling.Bottom line: carefully compare both cables using your own instrument and amp - if possible - before making a purchase decision. You may find, as I did, that higher price does not necessarily equal higher value, even from the same manufacturer.\", \"overall\": 5.0, \"summary\": \"One of the best instrument cables within the brand\", \"unixReviewTime\": 1334793600, \"reviewTime\": \"04 19, 2012\"},\n",
    "  {\"reviewerID\": \"A35QFQI0M46LWO\", \"asin\": \"B00005ML71\", \"reviewerName\": \"Christopher C\", \"helpful\": [0, 0], \"reviewText\": \"I got it to have it if I needed it. I have found that i don't really need it that often and rarely use it. If I was really good I can see the need. But this is a keyboard not an organ.\", \"overall\": 4.0, \"summary\": \"It works great but I hardly use it.\", \"unixReviewTime\": 1398124800, \"reviewTime\": \"04 22, 2014\"},\n",
    "  {\"reviewerID\": \"A2NIT6BKW11XJQ\", \"asin\": \"B00005ML71\", \"reviewerName\": \"Jai\", \"helpful\": [0, 0], \"reviewText\": \"If you are not use to using a large sustaining pedal while playing the piano, it may appear little awkward.\", \"overall\": 3.0, \"summary\": \"HAS TO GET USE TO THE SIZE\", \"unixReviewTime\": 1384646400, \"reviewTime\": \"11 17, 2013\"},\n",
    "  {\"reviewerID\": \"A1C0O09LOLVI39\", \"asin\": \"B00005ML71\", \"reviewerName\": \"Michael\", \"helpful\": [0, 0], \"reviewText\": \"I love it, I used this for my Yamaha ypt-230 and it works great, I would recommend it to anyone\", \"overall\": 5.0, \"summary\": \"awesome\", \"unixReviewTime\": 1371340800, \"reviewTime\": \"06 16, 2013\"},\n",
    "  {\"reviewerID\": \"A17SLR18TUMULM\", \"asin\": \"B00005ML71\", \"reviewerName\": \"Straydogger\", \"helpful\": [0, 0], \"reviewText\": \"I bought this to use in my home studio to control my midi keyboard. It does just what I wanted it to do.\", \"overall\": 5.0, \"summary\": \"It works!\", \"unixReviewTime\": 1356912000, \"reviewTime\": \"12 31, 2012\"},\n",
    "  {\"reviewerID\": \"A2PD27UKAD3Q00\", \"asin\": \"B00005ML71\", \"reviewerName\": \"Wilhelmina Zeitgeist \\\"coolartsybabe\\\"\", \"helpful\": [0, 0], \"reviewText\": \"I bought this to use with my keyboard. I wasn't really aware that there were other options for keyboard pedals. It doesn't work as smoothly as the pedals do on an acoustic piano, which is what I'd always used. Doesn't have the same feel either. Nowhere close.In my opinion, a sustain pedal like the M-Audio SP-2 Sustain Pedal with Piano Style Action or other similar pedal is a much better choice. The price difference is only a few dollars and the feel and action are so much better. The only thing I've found the Yamaha FC-5 Sustain Pedal is good for is taking up space in a drawer where I keep my electric guitar pedals.\", \"overall\": 2.0, \"summary\": \"Definitely Not For The Seasoned Piano Player\", \"unixReviewTime\": 1376697600, \"reviewTime\": \"08 17, 2013\"},\n",
    "  {\"reviewerID\": \"AKSFZ4G1AXYFC\", \"asin\": \"B000068NSX\", \"reviewerName\": \"C.E. \\\"Frank\\\"\", \"helpful\": [0, 0], \"reviewText\": \"This Fender cable is the perfect length for me! Sometimes I find it a bit too long but I don't mind. The build quality is great and I know that it will last. The only gripe I have with this cable is that the metal sleeve gets unscrewed way too easily, requiring me to tighten it often.Sound quality is not affected, and the color is cool, definitely try this cable out.\", \"overall\": 4.0, \"summary\": \"Durable Instrument Cable\", \"unixReviewTime\": 1376352000, \"reviewTime\": \"08 13, 2013\"},\n",
    "  {\"reviewerID\": \"A67OJZLHBBUQ9\", \"asin\": \"B000068NSX\", \"reviewerName\": \"Charles F. Marks \\\"charlie marks\\\"\", \"helpful\": [0, 0], \"reviewText\": \"wanted it just on looks alone...It is a nice looking cord... I know it will perform...as for Sam Ash ...this cord was packed in a mailer inside another box with my Roc n Soc... his shipping team do great work..never any complaints from me... I love Sam Ash.. thanks Amazon\", \"overall\": 5.0, \"summary\": \"fender 18 ft. Cali clear...\", \"unixReviewTime\": 1373328000, \"reviewTime\": \"07 9, 2013\"},\n",
    "  {\"reviewerID\": \"A2EZWZ8MBEDOLN\", \"asin\": \"B000068NSX\", \"reviewerName\": \"Charlo\", \"helpful\": [3, 3], \"reviewText\": \"I've been using these cables for more than 4 months and they are holding up pretty well.  For years I used seemingly indestructable guitar cables that were made for me by an electrician friend.  When they finally gave out, I got in the habit of using the no-name cables that are always on display near the register at Guitar Center- really more of an impulse buy than something I put any thought into.  After the third or fourth Guitar Center cable failed from light use I decided to try these cables.  Not only are they cheaper but they seem to be holding up better.  I am not terribly hard on my gear but my cables tend to get twisted as I move around and the cheaper ones  eventually fail mid-cable.  I don't mind spending a few extra dollars if the cable is a little more durable.  This cable is actually cheaper- $12 or so shipped- and it's holding up pretty well.  These are actually very reasonably priced for 18' cables.  There is some kind of limited life warantee on this product but I haven't needed it.  Five stars for a nicely made 18 foot guitar cable that costs $12 shipped!Incidentally- these cables are shielded and are meant to connect your instrument to your amp's input.  Do not use these to connect an amplifier to a speaker cab.  You want to use unshielded cables for that purpose.Edit-  More than 6 months has passed and this cable is functioning without any issues.  The price on these things has gone up significantly and although the cable is highly recommended, there are probably better values from Hosa, Monster or Planet Waves-\", \"overall\": 5.0, \"summary\": \"So far so good.  Will revisit at the 6 month mark ;)\", \"unixReviewTime\": 1363564800, \"reviewTime\": \"03 18, 2013\"},\n",
    "  {\"reviewerID\": \"A1CL807EOUPVP1\", \"asin\": \"B000068NSX\", \"reviewerName\": \"GunHawk\", \"helpful\": [0, 0], \"reviewText\": \"Fender cords look great and work just as well. By adding the word California to the description I'm sure to sound like the Beach Boys...\", \"overall\": 5.0, \"summary\": \"Add California to the name and I jump!\", \"unixReviewTime\": 1375833600, \"reviewTime\": \"08 7, 2013\"},\n",
    "]"
   ],
   "metadata": {
    "id": "uG02-OwsmIRD",
    "pycharm": {
     "name": "#%%\n"
    }
   },
   "execution_count": 1,
   "outputs": []
  },
  {
   "cell_type": "code",
   "source": [
    "review = reviews[0]\n",
    "print(review['helpful'][0])  # N votes marked \"helpful\""
   ],
   "metadata": {
    "id": "56fYuH-JkfpI",
    "colab": {
     "base_uri": "https://localhost:8080/"
    },
    "outputId": "3ccc31a6-b6b0-4796-d2c2-c6742e5564a4",
    "pycharm": {
     "name": "#%%\n"
    }
   },
   "execution_count": 2,
   "outputs": [
    {
     "output_type": "stream",
     "name": "stdout",
     "text": [
      "0\n"
     ]
    }
   ]
  },
  {
   "cell_type": "code",
   "source": [
    "pos_reviews = list()\n",
    "for review in reviews:\n",
    "  n_votes = review['helpful'][0]\n",
    "  # print(n_votes)\n",
    "  if n_votes > 0:\n",
    "    pos_reviews.append(review)\n",
    "print(pos_reviews)\n",
    "print(len(pos_reviews))"
   ],
   "metadata": {
    "colab": {
     "base_uri": "https://localhost:8080/"
    },
    "id": "MkSziMxcXt05",
    "outputId": "59c9803e-3190-4590-b114-f5bea7acb27c",
    "pycharm": {
     "name": "#%%\n"
    }
   },
   "execution_count": 3,
   "outputs": [
    {
     "output_type": "stream",
     "name": "stdout",
     "text": [
      "[{'reviewerID': 'A14VAT5EAX3D9S', 'asin': '1384719342', 'reviewerName': 'Jake', 'helpful': [13, 14], 'reviewText': \"The product does exactly as it should and is quite affordable.I did not realized it was double screened until it arrived, so it was even better than I had expected.As an added bonus, one of the screens carries a small hint of the smell of an old grape candy I used to buy, so for reminiscent's sake, I cannot stop putting the pop filter next to my nose and smelling it after recording. :DIf you needed a pop filter, this will work just as well as the expensive ones, and it may even come with a pleasing aroma like mine did!Buy this product! :]\", 'overall': 5.0, 'summary': 'Jake', 'unixReviewTime': 1363392000, 'reviewTime': '03 16, 2013'}, {'reviewerID': 'A195EZSQDW3E21', 'asin': '1384719342', 'reviewerName': 'Rick Bennette \"Rick Bennette\"', 'helpful': [1, 1], 'reviewText': 'The primary job of this device is to block the breath that would otherwise produce a popping sound, while allowing your voice to pass through with no noticeable reduction of volume or high frequencies. The double cloth filter blocks the pops and lets the voice through with no coloration. The metal clamp mount attaches to the mike stand secure enough to keep it attached. The goose neck needs a little coaxing to stay where you put it.', 'overall': 5.0, 'summary': 'It Does The Job Well', 'unixReviewTime': 1377648000, 'reviewTime': '08 28, 2013'}, {'reviewerID': 'A2NYK9KWFMJV4Y', 'asin': 'B00004Y2UT', 'reviewerName': 'Mike Tarrani \"Jazz Drummer\"', 'helpful': [6, 6], 'reviewText': \"Monster makes a wide array of cables, including some that are very high end. I initially purchased a pair ofMonster Rock Instrument Cable - 21 Feet - Angled to Straight 1/4-Inch plugto use with my keyboards, but when it came time to purchase cables for my bass and guitar I thought I'd pinch a few pennies.  I am so glad I did.I compared this cable model to the more expensive models I previously purchased and, aside from looks, could not detect any difference in sound. I Swapped back and forth between my guitars and keyboards, ensuring that each model was used on each instrument - still no difference.What the more expensive model has going for it is looks. I am not sure it (the higher priced model) is even more sturdy because the molded stress relief ends on this model seem to make it more reliable than its pricier sibling.Bottom line: carefully compare both cables using your own instrument and amp - if possible - before making a purchase decision. You may find, as I did, that higher price does not necessarily equal higher value, even from the same manufacturer.\", 'overall': 5.0, 'summary': 'One of the best instrument cables within the brand', 'unixReviewTime': 1334793600, 'reviewTime': '04 19, 2012'}, {'reviewerID': 'A2EZWZ8MBEDOLN', 'asin': 'B000068NSX', 'reviewerName': 'Charlo', 'helpful': [3, 3], 'reviewText': \"I've been using these cables for more than 4 months and they are holding up pretty well.  For years I used seemingly indestructable guitar cables that were made for me by an electrician friend.  When they finally gave out, I got in the habit of using the no-name cables that are always on display near the register at Guitar Center- really more of an impulse buy than something I put any thought into.  After the third or fourth Guitar Center cable failed from light use I decided to try these cables.  Not only are they cheaper but they seem to be holding up better.  I am not terribly hard on my gear but my cables tend to get twisted as I move around and the cheaper ones  eventually fail mid-cable.  I don't mind spending a few extra dollars if the cable is a little more durable.  This cable is actually cheaper- $12 or so shipped- and it's holding up pretty well.  These are actually very reasonably priced for 18' cables.  There is some kind of limited life warantee on this product but I haven't needed it.  Five stars for a nicely made 18 foot guitar cable that costs $12 shipped!Incidentally- these cables are shielded and are meant to connect your instrument to your amp's input.  Do not use these to connect an amplifier to a speaker cab.  You want to use unshielded cables for that purpose.Edit-  More than 6 months has passed and this cable is functioning without any issues.  The price on these things has gone up significantly and although the cable is highly recommended, there are probably better values from Hosa, Monster or Planet Waves-\", 'overall': 5.0, 'summary': 'So far so good.  Will revisit at the 6 month mark ;)', 'unixReviewTime': 1363564800, 'reviewTime': '03 18, 2013'}]\n",
      "4\n"
     ]
    }
   ]
  },
  {
   "cell_type": "markdown",
   "source": [
    "Indentation matters - a lot!"
   ],
   "metadata": {
    "id": "UY-f0tvxn_k_",
    "pycharm": {
     "name": "#%% md\n"
    }
   }
  },
  {
   "cell_type": "markdown",
   "source": [
    "### Functions"
   ],
   "metadata": {
    "id": "nSeFZU7Zje_v",
    "pycharm": {
     "name": "#%% md\n"
    }
   }
  },
  {
   "cell_type": "markdown",
   "source": [
    "Let's build a function which will print a random review from this list, where the review text is capitalised randomly (like a classic movie-trope ransom note!)\n",
    "\n",
    "We will use the `randrange` function (docs: https://docs.python.org/3/library/random.html)"
   ],
   "metadata": {
    "id": "TBSX4vrGkgpD",
    "pycharm": {
     "name": "#%% md\n"
    }
   }
  },
  {
   "cell_type": "code",
   "source": [
    "import random\n",
    "\n",
    "def get_rand_review():\n",
    "  rand_ind = random.randrange(0, len(reviews))\n",
    "  rand_review = reviews[rand_ind]\n",
    "  rand_review_body = rand_review['reviewText']\n",
    "  return rand_review_body  # Try 'return rand_ind' or 'return rand_review' instead of 'return rand_review_body'\n",
    "\n",
    "get_rand_review()"
   ],
   "metadata": {
    "id": "VWGJvCxnmEUS",
    "colab": {
     "base_uri": "https://localhost:8080/",
     "height": 122
    },
    "outputId": "63c4e2a6-d719-4904-cff2-34c641dd81d5",
    "pycharm": {
     "name": "#%%\n"
    }
   },
   "execution_count": 5,
   "outputs": [
    {
     "output_type": "execute_result",
     "data": {
      "text/plain": [
       "\"I bought this to use with my keyboard. I wasn't really aware that there were other options for keyboard pedals. It doesn't work as smoothly as the pedals do on an acoustic piano, which is what I'd always used. Doesn't have the same feel either. Nowhere close.In my opinion, a sustain pedal like the M-Audio SP-2 Sustain Pedal with Piano Style Action or other similar pedal is a much better choice. The price difference is only a few dollars and the feel and action are so much better. The only thing I've found the Yamaha FC-5 Sustain Pedal is good for is taking up space in a drawer where I keep my electric guitar pedals.\""
      ],
      "application/vnd.google.colaboratory.intrinsic+json": {
       "type": "string"
      }
     },
     "metadata": {},
     "execution_count": 5
    }
   ]
  },
  {
   "cell_type": "code",
   "source": [
    "def name_builder():\n",
    "  names = list()\n",
    "  firsts = ['James', 'Janice', 'Sally']\n",
    "  lasts = ['Smith', 'Wu']\n",
    "  for last in lasts:\n",
    "    print('last name', last)\n",
    "    for first in firsts:\n",
    "      print('Now processing first name', first)\n",
    "      name = first + ' ' + last\n",
    "      names.append(name)\n",
    "      # print('Current list inside loops', names)\n",
    "  return names\n",
    "\n",
    "print('Final output', name_builder())"
   ],
   "metadata": {
    "colab": {
     "base_uri": "https://localhost:8080/"
    },
    "id": "pcfx2hh0aGk4",
    "outputId": "1b1b6ca1-5290-4cfd-f0b9-372cfa5f1495",
    "pycharm": {
     "name": "#%%\n"
    }
   },
   "execution_count": 6,
   "outputs": [
    {
     "output_type": "stream",
     "name": "stdout",
     "text": [
      "last name Smith\n",
      "Now processing first name James\n",
      "Now processing first name Janice\n",
      "Now processing first name Sally\n",
      "last name Wu\n",
      "Now processing first name James\n",
      "Now processing first name Janice\n",
      "Now processing first name Sally\n",
      "Final output ['James Smith', 'Janice Smith', 'Sally Smith', 'James Wu', 'Janice Wu', 'Sally Wu']\n"
     ]
    }
   ]
  },
  {
   "cell_type": "markdown",
   "source": [
    "### Arguments in functions"
   ],
   "metadata": {
    "id": "9LfX6maEtS2g",
    "pycharm": {
     "name": "#%% md\n"
    }
   }
  },
  {
   "cell_type": "code",
   "source": [
    "def name_builder(firsts, lasts):\n",
    "  names = list()\n",
    "  for last in lasts:\n",
    "    for first in firsts:\n",
    "      name = first + ' ' + last\n",
    "      names.append(name)\n",
    "  return names\n",
    "\n",
    "print('Final output', name_builder(['james'], ['wu', 'smith']))"
   ],
   "metadata": {
    "colab": {
     "base_uri": "https://localhost:8080/"
    },
    "id": "tXuxW5QtcYIY",
    "outputId": "59540b98-3a32-4a2b-90c0-b9bb2a860d82",
    "pycharm": {
     "name": "#%%\n"
    }
   },
   "execution_count": 7,
   "outputs": [
    {
     "output_type": "stream",
     "name": "stdout",
     "text": [
      "Final output ['james wu', 'james smith']\n"
     ]
    }
   ]
  },
  {
   "cell_type": "markdown",
   "source": [
    "### Debugging code"
   ],
   "metadata": {
    "id": "hdazZAzoHP6y",
    "pycharm": {
     "name": "#%% md\n"
    }
   }
  },
  {
   "cell_type": "markdown",
   "source": [
    "- Take a look at the error message\n",
    "- Try to identify where the error is occurring\n",
    "- Work through the state of the program up to that point\n",
    "  - print statements are your friends!"
   ],
   "metadata": {
    "id": "h6l0TDw7HYQm",
    "pycharm": {
     "name": "#%% md\n"
    }
   }
  },
  {
   "cell_type": "code",
   "source": [
    "tmp_list = list(range(5))\n",
    "for i in tmp_list:\n",
    "  # print(i)\n",
    "  # print(type(i))\n",
    "  print(i + 'str')  # Look at the error message - and then add the print messages in above to look \"inside\" the loop"
   ],
   "metadata": {
    "colab": {
     "base_uri": "https://localhost:8080/"
    },
    "id": "bnUw7ZVcdRY8",
    "outputId": "3b18e040-85f3-41e7-e45a-742f746c5013",
    "pycharm": {
     "name": "#%%\n"
    }
   },
   "execution_count": 8,
   "outputs": [
    {
     "output_type": "stream",
     "name": "stdout",
     "text": [
      "0\n",
      "<class 'int'>\n",
      "1\n",
      "<class 'int'>\n",
      "2\n",
      "<class 'int'>\n",
      "3\n",
      "<class 'int'>\n",
      "4\n",
      "<class 'int'>\n"
     ]
    }
   ]
  },
  {
   "cell_type": "markdown",
   "source": [
    "## New material"
   ],
   "metadata": {
    "id": "WPRVp0-xjXAi",
    "pycharm": {
     "name": "#%% md\n"
    }
   }
  },
  {
   "cell_type": "markdown",
   "source": [
    "### Numpy"
   ],
   "metadata": {
    "id": "DywsyROGnLn_",
    "pycharm": {
     "name": "#%% md\n"
    }
   }
  },
  {
   "cell_type": "markdown",
   "source": [
    "- arrays vs lists [what is an array](https://numpy.org/doc/1.22/user/absolute_beginners.html#what-is-an-array)\n",
    "- broadcasting"
   ],
   "metadata": {
    "id": "qUww-7VblgCo",
    "pycharm": {
     "name": "#%% md\n"
    }
   }
  },
  {
   "cell_type": "code",
   "source": [
    "import numpy as np"
   ],
   "metadata": {
    "id": "CjFpB7H8ern0",
    "pycharm": {
     "name": "#%%\n"
    }
   },
   "execution_count": 9,
   "outputs": []
  },
  {
   "cell_type": "code",
   "source": [
    "tmp_list = [1, 2, 3, 4]\n",
    "numpy_arr = np.array([1, 2, 3, 4])"
   ],
   "metadata": {
    "id": "TksBH5Iqeu1S",
    "pycharm": {
     "name": "#%%\n"
    }
   },
   "execution_count": 10,
   "outputs": []
  },
  {
   "cell_type": "code",
   "execution_count": 11,
   "metadata": {
    "id": "97xCidYVlba_",
    "colab": {
     "base_uri": "https://localhost:8080/"
    },
    "outputId": "0ee17ce2-794e-4114-a808-445df50434fa",
    "pycharm": {
     "name": "#%%\n"
    }
   },
   "outputs": [
    {
     "output_type": "stream",
     "name": "stdout",
     "text": [
      "[1, 2, 3, 4, 1, 2, 3, 4]\n",
      "[2 4 6 8]\n"
     ]
    }
   ],
   "source": [
    "# Arrays vs lists\n",
    "print(tmp_list * 2)\n",
    "print(numpy_arr * 2)"
   ]
  },
  {
   "cell_type": "markdown",
   "source": [
    "#### Numpy functions"
   ],
   "metadata": {
    "id": "REuvJmxYzB4L",
    "pycharm": {
     "name": "#%% md\n"
    }
   }
  },
  {
   "cell_type": "markdown",
   "source": [
    "Scalar Math\n",
    "\n",
    "|   |   |\n",
    "|---|---|\n",
    "|`np.add(arr,1)` | Add 1 to each array element  |\n",
    "|`np.subtract(arr,2)`  | Subtract 2 from each array element  |\n",
    "|`np.multiply(arr,3)`  | Multiply each array element by 3 |\n",
    "|`np.divide(arr,4)`    | Divide each array element by 4 (returns `np.nan` for division by zero) |\n",
    "|`np.power(arr,5)`     | Raise each array element to the 5th power | \n",
    "\n",
    "\n",
    "\n",
    "\n",
    "Vector Math\n",
    "\n",
    "|   |   |\n",
    "|---|---|\n",
    "|`np.add(arr1,arr2)` | Elementwise add arr2 to arr1  |\n",
    "|`np.subtract(arr1,arr2)`  | Elementwise subtract arr2 from arr1  |\n",
    "|`np.multiply(arr1,arr2)`  | Elementwise multiply arr1 by arr2 |\n",
    "|`np.divide(arr1,arr2)`    | Elementwise divide arr1 by arr2 |\n",
    "|`np.power(arr1,arr2)`     | Elementwise raise arr1 raised to the power of arr2 | \n",
    "|`np.array_equal(arr1,arr2)`| Returns True if the arrays have the same elements and shape |\n",
    "|`np.sqrt(arr)`            |  Square root of each element in the array                    |\n",
    "|`np.sin(arr)`             |  Sine of each element in the array                           |\n",
    "|`np.log(arr)`             |  Natural log of each element in the array                    |\n",
    "|`np.abs(arr)`             |  Absolute value of each element in the array                 |\n",
    "|`np.ceil(arr)`            |  Rounds up to the nearest int                                |\n",
    "|`np.floor(arr)`           |  Rounds down to the nearest int                              |\n",
    "|`np.round(arr)`           |  Rounds to the nearest int                                   |"
   ],
   "metadata": {
    "id": "HcuJOergmmrv",
    "pycharm": {
     "name": "#%% md\n"
    }
   }
  },
  {
   "cell_type": "markdown",
   "source": [
    "#### Numpy code examples"
   ],
   "metadata": {
    "id": "uMlpsRozmrCs",
    "pycharm": {
     "name": "#%% md\n"
    }
   }
  },
  {
   "cell_type": "markdown",
   "source": [
    "Multidimensional arrays & shapes\n",
    "How do we build n-D arrays"
   ],
   "metadata": {
    "id": "l9jydvmomw6C",
    "pycharm": {
     "name": "#%% md\n"
    }
   }
  },
  {
   "cell_type": "code",
   "source": [
    "import numpy as np\n",
    "tmp_array = np.zeros([2, 5])\n",
    "print(tmp_array)"
   ],
   "metadata": {
    "id": "JmwV2r43myrC",
    "colab": {
     "base_uri": "https://localhost:8080/"
    },
    "outputId": "dd262f10-c0e6-4625-a2a1-46d07fc19f38",
    "pycharm": {
     "name": "#%%\n"
    }
   },
   "execution_count": 13,
   "outputs": [
    {
     "output_type": "stream",
     "name": "stdout",
     "text": [
      "[[0. 0. 0. 0. 0.]\n",
      " [0. 0. 0. 0. 0.]]\n"
     ]
    }
   ]
  },
  {
   "cell_type": "code",
   "source": [
    "tmp_array[1, 2] = 'a'  # Cannot assign a string to an array value once a numpy array has been initialised with numbers"
   ],
   "metadata": {
    "colab": {
     "base_uri": "https://localhost:8080/",
     "height": 184
    },
    "id": "1HyyIMgOqXvd",
    "outputId": "ee30e71a-f363-4579-840e-7fd19d69a35d",
    "pycharm": {
     "name": "#%%\n"
    }
   },
   "execution_count": 14,
   "outputs": [
    {
     "output_type": "error",
     "ename": "ValueError",
     "evalue": "ignored",
     "traceback": [
      "\u001B[0;31m---------------------------------------------------------------------------\u001B[0m",
      "\u001B[0;31mValueError\u001B[0m                                Traceback (most recent call last)",
      "\u001B[0;32m<ipython-input-14-c5d38be0009d>\u001B[0m in \u001B[0;36m<module>\u001B[0;34m()\u001B[0m\n\u001B[0;32m----> 1\u001B[0;31m \u001B[0mtmp_array\u001B[0m\u001B[0;34m[\u001B[0m\u001B[0;36m1\u001B[0m\u001B[0;34m,\u001B[0m \u001B[0;36m2\u001B[0m\u001B[0;34m]\u001B[0m \u001B[0;34m=\u001B[0m \u001B[0;34m'a'\u001B[0m  \u001B[0;31m# Cannot assign a string to an array value once a numpy array has been initialised with numbers\u001B[0m\u001B[0;34m\u001B[0m\u001B[0;34m\u001B[0m\u001B[0m\n\u001B[0m",
      "\u001B[0;31mValueError\u001B[0m: could not convert string to float: 'a'"
     ]
    }
   ]
  },
  {
   "cell_type": "markdown",
   "source": [
    "Build matrices w/ zeros, ones, arbitrary values (full)"
   ],
   "metadata": {
    "id": "ph_5j03jm-0b",
    "pycharm": {
     "name": "#%% md\n"
    }
   }
  },
  {
   "cell_type": "code",
   "source": [
    "# Try np.zeros; np.ones; np.full"
   ],
   "metadata": {
    "id": "rKOmpYznD6H_",
    "pycharm": {
     "name": "#%%\n"
    }
   },
   "execution_count": null,
   "outputs": []
  },
  {
   "cell_type": "markdown",
   "source": [
    "Slicing - by dimensions (see shape)"
   ],
   "metadata": {
    "id": "wT2TeVW7nk-P",
    "pycharm": {
     "name": "#%% md\n"
    }
   }
  },
  {
   "cell_type": "code",
   "source": [
    "nested_list = [[i+j for i in range(5)] for j in range(5)]"
   ],
   "metadata": {
    "id": "aDztxxslnmE7",
    "pycharm": {
     "name": "#%%\n"
    }
   },
   "execution_count": 18,
   "outputs": []
  },
  {
   "cell_type": "code",
   "source": [
    "nested_list"
   ],
   "metadata": {
    "colab": {
     "base_uri": "https://localhost:8080/"
    },
    "id": "xa3fagl6kZsZ",
    "outputId": "4a962a85-0041-4a59-bea0-00a8a6c073eb",
    "pycharm": {
     "name": "#%%\n"
    }
   },
   "execution_count": 19,
   "outputs": [
    {
     "output_type": "execute_result",
     "data": {
      "text/plain": [
       "[[0, 1, 2, 3, 4],\n",
       " [1, 2, 3, 4, 5],\n",
       " [2, 3, 4, 5, 6],\n",
       " [3, 4, 5, 6, 7],\n",
       " [4, 5, 6, 7, 8]]"
      ]
     },
     "metadata": {},
     "execution_count": 19
    }
   ]
  },
  {
   "cell_type": "code",
   "source": [
    "tmp_arr = np.array(nested_list)\n",
    "print(tmp_arr)"
   ],
   "metadata": {
    "colab": {
     "base_uri": "https://localhost:8080/"
    },
    "id": "tMhOsxEqkwIM",
    "outputId": "2bf119c3-c56d-4660-f376-285152c00aae",
    "pycharm": {
     "name": "#%%\n"
    }
   },
   "execution_count": 22,
   "outputs": [
    {
     "output_type": "stream",
     "name": "stdout",
     "text": [
      "[[0 1 2 3 4]\n",
      " [1 2 3 4 5]\n",
      " [2 3 4 5 6]\n",
      " [3 4 5 6 7]\n",
      " [4 5 6 7 8]]\n"
     ]
    }
   ]
  },
  {
   "cell_type": "code",
   "source": [
    "tmp_arr[:, 1:4]  # Doing something like this, though, is very difficult with lists"
   ],
   "metadata": {
    "colab": {
     "base_uri": "https://localhost:8080/"
    },
    "id": "E1JQeIITk2Cz",
    "outputId": "241e9612-c037-4d55-e60e-2474203239b7",
    "pycharm": {
     "name": "#%%\n"
    }
   },
   "execution_count": 23,
   "outputs": [
    {
     "output_type": "execute_result",
     "data": {
      "text/plain": [
       "array([[1, 2, 3],\n",
       "       [2, 3, 4],\n",
       "       [3, 4, 5],\n",
       "       [4, 5, 6],\n",
       "       [5, 6, 7]])"
      ]
     },
     "metadata": {},
     "execution_count": 23
    }
   ]
  },
  {
   "cell_type": "code",
   "source": [
    "[r[1:4] for r in nested_list]  # Something like this would have to be done - which starts to get complicated (and inefficient)!\n",
    "# This is another example of why numpy is used"
   ],
   "metadata": {
    "colab": {
     "base_uri": "https://localhost:8080/"
    },
    "id": "oiDoPJfOkdGv",
    "outputId": "acffbffa-b9cb-4810-eaec-2db12af1cb76",
    "pycharm": {
     "name": "#%%\n"
    }
   },
   "execution_count": 27,
   "outputs": [
    {
     "output_type": "execute_result",
     "data": {
      "text/plain": [
       "[[1, 2, 3], [2, 3, 4], [3, 4, 5], [4, 5, 6], [5, 6, 7]]"
      ]
     },
     "metadata": {},
     "execution_count": 27
    }
   ]
  },
  {
   "cell_type": "markdown",
   "source": [
    "### Statistics"
   ],
   "metadata": {
    "id": "A4o3xDzEsMTE",
    "pycharm": {
     "name": "#%% md\n"
    }
   }
  },
  {
   "cell_type": "markdown",
   "source": [
    "- Central tendancy (mean, median, mode)\n",
    "- Dispersion (variance, standard deviation)\n",
    "- Covariance, correlation"
   ],
   "metadata": {
    "id": "ryDoIuccsPO0",
    "pycharm": {
     "name": "#%% md\n"
    }
   }
  },
  {
   "cell_type": "code",
   "source": [
    "# Example of a manual mean calculation with a for-loop, or with numpy \n",
    "sample = [54, 54, 54, 55, 56, 57, 57, 58, 58, 60, 60]\n",
    "\n",
    "# With a for loop\n",
    "sum = 0\n",
    "for s in sample:\n",
    "  sum += s\n",
    "\n",
    "print(sum / len(sample))  \n",
    "\n",
    "# With numpy\n",
    "print(np.mean(sample))"
   ],
   "metadata": {
    "colab": {
     "base_uri": "https://localhost:8080/"
    },
    "id": "FlBv5JNNmL0P",
    "outputId": "cfe2e302-5d59-4627-b0d5-31b2c8d27a18",
    "pycharm": {
     "name": "#%%\n"
    }
   },
   "execution_count": null,
   "outputs": [
    {
     "output_type": "stream",
     "name": "stdout",
     "text": [
      "56.63636363636363\n",
      "56.63636363636363\n"
     ]
    }
   ]
  }
 ]
}