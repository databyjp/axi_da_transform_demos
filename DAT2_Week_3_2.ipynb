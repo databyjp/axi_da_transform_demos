{
 "nbformat": 4,
 "nbformat_minor": 0,
 "metadata": {
  "colab": {
   "name": "DAT2_Week_3_2.ipynb",
   "provenance": [],
   "collapsed_sections": [
    "ooNEatM0xvRb",
    "VgdBPTXAviqP",
    "LSnO2d0hrmp6",
    "kxqHU8xHqWS-",
    "qJiC8GKpsnJJ",
    "I_Re-ubZC40l",
    "MyHzKxytC_Fp",
    "6dUhVQLhyt0L",
    "tZEjf3DxE-u2",
    "F2GMpirOzP-X",
    "4aPwdl62MzgV",
    "6KIX5Ht-oM6Q",
    "C8o7Fjea03Kz",
    "atqY31f2ltU7",
    "JhhpaofQDRjH",
    "bsj4_xuqDUSM",
    "AkQPo8GzndqP",
    "RuvC0SwAno3K"
   ]
  },
  "kernelspec": {
   "name": "python3",
   "display_name": "Python 3"
  },
  "language_info": {
   "name": "python"
  }
 },
 "cells": [
  {
   "cell_type": "markdown",
   "source": [
    "[![Open In Colab](https://colab.research.google.com/assets/colab-badge.svg)](https://colab.research.google.com/github/databyjp/axi_da_transform_demos/blob/main/DAT2_Week_3_2.ipynb)\n",
    "# DA Transform - Week 3 session 2"
   ],
   "metadata": {
    "id": "WCNt4EGWzzjF",
    "pycharm": {
     "name": "#%% md\n"
    }
   }
  },
  {
   "cell_type": "markdown",
   "source": [
    "## Review"
   ],
   "metadata": {
    "id": "UouPR78QqS62",
    "pycharm": {
     "name": "#%% md\n"
    }
   }
  },
  {
   "cell_type": "markdown",
   "source": [
    "### Numpy"
   ],
   "metadata": {
    "id": "km4UosYTqUdr",
    "pycharm": {
     "name": "#%% md\n"
    }
   }
  },
  {
   "cell_type": "markdown",
   "source": [
    "#### The basics"
   ],
   "metadata": {
    "id": "ooNEatM0xvRb",
    "pycharm": {
     "name": "#%% md\n"
    }
   }
  },
  {
   "cell_type": "code",
   "source": [
    "import numpy as np"
   ],
   "metadata": {
    "id": "7m0EmfFtwdHd",
    "pycharm": {
     "name": "#%%\n"
    }
   },
   "execution_count": null,
   "outputs": []
  },
  {
   "cell_type": "markdown",
   "source": [
    "An array is a grid of values and it contains information about the raw data, how to locate an element, and how to interpret an element.\n",
    "\n",
    "[Numpy docs](https://numpy.org/doc/stable/user/absolute_beginners.html#what-is-an-array)"
   ],
   "metadata": {
    "id": "93JfVD8UxoNO",
    "pycharm": {
     "name": "#%% md\n"
    }
   }
  },
  {
   "cell_type": "markdown",
   "source": [
    "#### Numpy array example"
   ],
   "metadata": {
    "id": "VgdBPTXAviqP",
    "pycharm": {
     "name": "#%% md\n"
    }
   }
  },
  {
   "cell_type": "markdown",
   "source": [
    "![image.png](https://miro.medium.com/max/1200/1*sxnhgeSptW8Jfol8XUyP-Q.png)"
   ],
   "metadata": {
    "id": "d6xzbAmOvNXG",
    "pycharm": {
     "name": "#%% md\n"
    }
   }
  },
  {
   "cell_type": "markdown",
   "source": [
    "Let's see what happens as we vary the **number of dimensions (aka *axis*)** and **number of elements along that dimension**.\n"
   ],
   "metadata": {
    "id": "nT2X-O-PvyO2",
    "pycharm": {
     "name": "#%% md\n"
    }
   }
  },
  {
   "cell_type": "code",
   "source": [
    "print('1_D array')\n",
    "print(np.zeros([3]))\n",
    "print('2_D array')\n",
    "print(np.zeros([2, 2]))\n",
    "print('3_D array')\n",
    "print(np.zeros([2, 2, 2]))\n",
    "print('4_D array')\n",
    "print(np.zeros([2, 2, 2, 2]))\n",
    "# To get the 'shape' of an array - i.e. number of dimensions/axes and the number of items along each axis\n",
    "print(np.zeros([2, 2, 2, 2]).shape)"
   ],
   "metadata": {
    "id": "-TcoVTugwPpB",
    "pycharm": {
     "name": "#%%\n"
    }
   },
   "execution_count": null,
   "outputs": []
  },
  {
   "cell_type": "markdown",
   "source": [
    "#### Indexing an ndarray"
   ],
   "metadata": {
    "id": "LSnO2d0hrmp6",
    "pycharm": {
     "name": "#%% md\n"
    }
   }
  },
  {
   "cell_type": "markdown",
   "source": [
    "![NP indexing](https://scipy-lectures.org/_images/numpy_indexing.png)"
   ],
   "metadata": {
    "id": "1fA80k39sXfM",
    "pycharm": {
     "name": "#%% md\n"
    }
   }
  },
  {
   "cell_type": "code",
   "source": [
    "a = np.array([[10 * j + i for i in range(6)] for j in range(6)])  # Nested list comprehensions are very difficult to read. For a challenge, try re-creating this with nested *for* loops\n",
    "print(a)"
   ],
   "metadata": {
    "id": "i7eqDvNGyA40",
    "pycharm": {
     "name": "#%%\n"
    }
   },
   "execution_count": null,
   "outputs": []
  },
  {
   "cell_type": "markdown",
   "source": [
    "Let's try these indexing operations shown above:\n",
    "\n",
    "[Numpy docs on indexing](https://numpy.org/doc/stable/user/basics.indexing.html#slicing-and-striding)"
   ],
   "metadata": {
    "id": "nnk50qFHyUzL",
    "pycharm": {
     "name": "#%% md\n"
    }
   }
  },
  {
   "cell_type": "code",
   "source": [
    "a[2:4, 3:5]  # Try others"
   ],
   "metadata": {
    "id": "RHEq20ztzBc0",
    "pycharm": {
     "name": "#%%\n"
    }
   },
   "execution_count": null,
   "outputs": []
  },
  {
   "cell_type": "markdown",
   "source": [
    "Let's try updating individual elements by their index"
   ],
   "metadata": {
    "id": "6pi6hRsV1JLG",
    "pycharm": {
     "name": "#%% md\n"
    }
   }
  },
  {
   "cell_type": "code",
   "source": [
    "a[1, 3] = 20   # Change this value"
   ],
   "metadata": {
    "id": "mWOgkIam1MTJ",
    "pycharm": {
     "name": "#%%\n"
    }
   },
   "execution_count": null,
   "outputs": []
  },
  {
   "cell_type": "code",
   "source": [
    "a[2:4, 3:5]  # You can even select multiple elements and replace their values like so:\n",
    "a"
   ],
   "metadata": {
    "id": "6xtrGUONuRIK",
    "pycharm": {
     "name": "#%%\n"
    }
   },
   "execution_count": null,
   "outputs": []
  },
  {
   "cell_type": "markdown",
   "source": [
    "#### Numpy Lab *(Level Up: Using NumPy to Parse a File)*"
   ],
   "metadata": {
    "id": "kxqHU8xHqWS-",
    "pycharm": {
     "name": "#%% md\n"
    }
   }
  },
  {
   "cell_type": "markdown",
   "source": [
    "### Covariance and correlation"
   ],
   "metadata": {
    "id": "qJiC8GKpsnJJ",
    "pycharm": {
     "name": "#%% md\n"
    }
   }
  },
  {
   "cell_type": "markdown",
   "source": [
    "Go through Covariance and Correlation - Lab:\n",
    "- Mean normalisation\n",
    "- Variance"
   ],
   "metadata": {
    "id": "27ueU5znslQ4",
    "pycharm": {
     "name": "#%% md\n"
    }
   }
  },
  {
   "cell_type": "markdown",
   "source": [
    "## New material"
   ],
   "metadata": {
    "id": "Z6xbS8eVsqSV",
    "pycharm": {
     "name": "#%% md\n"
    }
   }
  },
  {
   "cell_type": "markdown",
   "source": [
    "### Data visualisation"
   ],
   "metadata": {
    "id": "pyekaFpw0X8M",
    "pycharm": {
     "name": "#%% md\n"
    }
   }
  },
  {
   "cell_type": "markdown",
   "source": [
    "#### Why visualise data?"
   ],
   "metadata": {
    "id": "I_Re-ubZC40l",
    "pycharm": {
     "name": "#%% md\n"
    }
   }
  },
  {
   "cell_type": "markdown",
   "source": [
    "![Datasaurus dozen](https://damassets.autodesk.net/content/dam/autodesk/research/publications-assets/images/AllDinosGrey_1.png)\n",
    "\n",
    "[Source: Autodesk](https://www.autodesk.com/research/publications/same-stats-different-graphs)"
   ],
   "metadata": {
    "id": "334QpSzLC7Ln",
    "pycharm": {
     "name": "#%% md\n"
    }
   }
  },
  {
   "cell_type": "markdown",
   "source": [
    "#### matplotlib"
   ],
   "metadata": {
    "id": "MyHzKxytC_Fp",
    "pycharm": {
     "name": "#%% md\n"
    }
   }
  },
  {
   "cell_type": "markdown",
   "source": [
    "One of *many* visualisation libraries availble for Python"
   ],
   "metadata": {
    "id": "RbPDNawXDN7v",
    "pycharm": {
     "name": "#%% md\n"
    }
   }
  },
  {
   "cell_type": "code",
   "source": [
    "import matplotlib.pyplot as plt\n",
    "%matplotlib inline"
   ],
   "metadata": {
    "id": "SLd-BxUWylzj",
    "pycharm": {
     "name": "#%%\n"
    }
   },
   "execution_count": null,
   "outputs": []
  },
  {
   "cell_type": "code",
   "source": [
    "x = np.linspace(0, 10, 9)\n",
    "y = x * 2 + 1"
   ],
   "metadata": {
    "id": "v9mUMd7k0ZHr",
    "pycharm": {
     "name": "#%%\n"
    }
   },
   "execution_count": null,
   "outputs": []
  },
  {
   "cell_type": "code",
   "source": [
    "print(x)\n",
    "print(y)"
   ],
   "metadata": {
    "id": "-tF_EIcj3uoc",
    "pycharm": {
     "name": "#%%\n"
    }
   },
   "execution_count": null,
   "outputs": []
  },
  {
   "cell_type": "markdown",
   "source": [
    "##### Let's try building some simple plots"
   ],
   "metadata": {
    "id": "6dUhVQLhyt0L",
    "pycharm": {
     "name": "#%% md\n"
    }
   }
  },
  {
   "cell_type": "code",
   "source": [
    "# This is the type of syntax you see in the notes\n",
    "# Create the plot\n",
    "fig, ax = plt.subplots()\n",
    "\n",
    "# Graph X vs. Y as a scatter plot\n",
    "ax.scatter(x, y)\n",
    "\n",
    "# # Set title\n",
    "ax.set_title(\"Scatter Plot in Matplotlib\")\n",
    "\n",
    "# # Set labels for X and Y axes\n",
    "ax.set_xlabel(\"X Values\")\n",
    "ax.set_ylabel(\"Y Values\")\n",
    "\n",
    "# # Set text of legend\n",
    "ax.legend([\"Function: $sin(x)$\"])"
   ],
   "metadata": {
    "id": "q1XYPaoZuKfK",
    "pycharm": {
     "name": "#%%\n"
    }
   },
   "execution_count": null,
   "outputs": []
  },
  {
   "cell_type": "markdown",
   "source": [
    "##### We can also use a syntax like this:"
   ],
   "metadata": {
    "id": "tZEjf3DxE-u2",
    "pycharm": {
     "name": "#%% md\n"
    }
   }
  },
  {
   "cell_type": "code",
   "source": [
    "plt.plot(x, y, 'bo')\n",
    "\n",
    "# Set title\n",
    "plt.title(\"Scatter Plot in Matplotlib\")\n",
    "\n",
    "# Set labels for X and Y axes\n",
    "plt.xlabel(\"X Values\")\n",
    "plt.ylabel(\"Y Values\")\n",
    "\n",
    "# Set text of legend\n",
    "plt.legend([\"Function: $sin(x)$\"])"
   ],
   "metadata": {
    "id": "BmijMMr_EbAU",
    "pycharm": {
     "name": "#%%\n"
    }
   },
   "execution_count": null,
   "outputs": []
  },
  {
   "cell_type": "markdown",
   "source": [
    "But... matplotlib library recommends using the\n",
    "```\n",
    "fig, ax = plt.subplots()\n",
    "```\n",
    "syntax, as written here (https://matplotlib.org/stable/tutorials/introductory/usage.html#sphx-glr-tutorials-introductory-usage-py)"
   ],
   "metadata": {
    "id": "ZXJKdFOqFwWV",
    "pycharm": {
     "name": "#%% md\n"
    }
   }
  },
  {
   "cell_type": "markdown",
   "source": [
    "##### Check out the docs"
   ],
   "metadata": {
    "id": "F2GMpirOzP-X",
    "pycharm": {
     "name": "#%% md\n"
    }
   }
  },
  {
   "cell_type": "markdown",
   "source": [
    "- Basic usage: https://matplotlib.org/stable/tutorials/introductory/usage.html\n",
    "- `plt.subplots`: https://matplotlib.org/stable/gallery/subplots_axes_and_figures/subplots_demo.html\n"
   ],
   "metadata": {
    "id": "-2PTqksu1qKF",
    "pycharm": {
     "name": "#%% md\n"
    }
   }
  },
  {
   "cell_type": "markdown",
   "source": [
    "##### Note on the Lab - Exercise 1"
   ],
   "metadata": {
    "id": "4aPwdl62MzgV",
    "pycharm": {
     "name": "#%% md\n"
    }
   }
  },
  {
   "cell_type": "markdown",
   "source": [
    "It asks you to:\n",
    "* Create a new figure object `fig` using `.figure()` function.\n",
    "* Use `add_axes()` to add an axis `ax` to the canvas at absolute location [0,0,1,1]."
   ],
   "metadata": {
    "id": "bs7ZaT70M2CB",
    "pycharm": {
     "name": "#%% md\n"
    }
   }
  },
  {
   "cell_type": "code",
   "source": [
    "fig = plt.figure()\n",
    "ax = fig.add_axes([0, 0, 1, 1])  # https://matplotlib.org/stable/api/figure_api.html#matplotlib.figure.Figure.add_axes"
   ],
   "metadata": {
    "id": "-cLkyLs-wInu",
    "pycharm": {
     "name": "#%%\n"
    }
   },
   "execution_count": null,
   "outputs": []
  },
  {
   "cell_type": "code",
   "source": [
    "fig, ax = plt.subplots()"
   ],
   "metadata": {
    "id": "ydIDmiJWM-TF",
    "pycharm": {
     "name": "#%%\n"
    }
   },
   "execution_count": null,
   "outputs": []
  },
  {
   "cell_type": "markdown",
   "source": [
    "##### Let's go through Exercise 2"
   ],
   "metadata": {
    "id": "I1uC92AjQCjT",
    "pycharm": {
     "name": "#%% md\n"
    }
   }
  },
  {
   "cell_type": "markdown",
   "source": [
    "### Data analysis in base python: "
   ],
   "metadata": {
    "id": "JxjkRcs_L6FR",
    "pycharm": {
     "name": "#%% md\n"
    }
   }
  },
  {
   "cell_type": "markdown",
   "source": [
    "#### Note: List comprehensions"
   ],
   "metadata": {
    "id": "6KIX5Ht-oM6Q",
    "pycharm": {
     "name": "#%% md\n"
    }
   }
  },
  {
   "cell_type": "markdown",
   "source": [
    "```apple_tree_yields = [float(x[\"yield\"]) for x in apple_orchard_data]```"
   ],
   "metadata": {
    "id": "HqFB3fN-0Iiq",
    "pycharm": {
     "name": "#%% md\n"
    }
   }
  },
  {
   "cell_type": "code",
   "execution_count": null,
   "metadata": {
    "id": "d3amlFK4L3dI",
    "pycharm": {
     "name": "#%%\n"
    }
   },
   "outputs": [],
   "source": [
    "# Let's try some examples\n",
    "tmp_list = list()\n",
    "for i in range(4):\n",
    "  tmp_list.append(i)\n",
    "print(tmp_list)"
   ]
  },
  {
   "cell_type": "code",
   "source": [
    "tmp_list = [i for i in range(4)]\n",
    "print(tmp_list)"
   ],
   "metadata": {
    "id": "6ND9fTq88cos",
    "pycharm": {
     "name": "#%%\n"
    }
   },
   "execution_count": null,
   "outputs": []
  },
  {
   "cell_type": "markdown",
   "source": [
    "#### File Input and Output in Python"
   ],
   "metadata": {
    "id": "C8o7Fjea03Kz",
    "pycharm": {
     "name": "#%% md\n"
    }
   }
  },
  {
   "cell_type": "markdown",
   "source": [
    "- Locating the file\n",
    "- Opening the file using appropriate software\n",
    "- Reading and/or editing contents of the file\n",
    "- Closing the file"
   ],
   "metadata": {
    "id": "HCTI8jHA1Nn5",
    "pycharm": {
     "name": "#%% md\n"
    }
   }
  },
  {
   "cell_type": "markdown",
   "source": [
    "#### File paths"
   ],
   "metadata": {
    "id": "atqY31f2ltU7",
    "pycharm": {
     "name": "#%% md\n"
    }
   }
  },
  {
   "cell_type": "code",
   "source": [
    "! ls  # To see the contents of the current working directory"
   ],
   "metadata": {
    "id": "el9UYnxTlv5l",
    "pycharm": {
     "name": "#%%\n"
    }
   },
   "execution_count": null,
   "outputs": []
  },
  {
   "cell_type": "code",
   "source": [
    "! ls ./sample_data  # To see what is in the 'sample_data' subdirectory"
   ],
   "metadata": {
    "id": "N-vM94KR9qxb",
    "pycharm": {
     "name": "#%%\n"
    }
   },
   "execution_count": null,
   "outputs": []
  },
  {
   "cell_type": "markdown",
   "source": [
    "#### Why opening / closing matters"
   ],
   "metadata": {
    "id": "JhhpaofQDRjH",
    "pycharm": {
     "name": "#%% md\n"
    }
   }
  },
  {
   "cell_type": "markdown",
   "source": [
    "- like borrowing a book and keeping it in your inventory\n",
    "- Read more: https://stackoverflow.com/questions/25070854/why-should-i-close-files-in-python"
   ],
   "metadata": {
    "id": "ESve0SVJNgfs",
    "pycharm": {
     "name": "#%% md\n"
    }
   }
  },
  {
   "cell_type": "code",
   "source": [
    "f = open('./sample_data/README.md')\n",
    "txt = f.read()\n",
    "header = 'The file contents are:\\n'.upper()\n",
    "print(header, txt)\n",
    "txt = f.read()\n",
    "print(header, txt)  # Notice what happens here - nothing gets printed, as Python is now looking at the end of the file \"object\". Also, the file remains \"open\"."
   ],
   "metadata": {
    "id": "qr0MIxJGe_PS",
    "pycharm": {
     "name": "#%%\n"
    }
   },
   "execution_count": null,
   "outputs": []
  },
  {
   "cell_type": "markdown",
   "source": [
    "#### Idiomatic code for opening & operating on file"
   ],
   "metadata": {
    "id": "bsj4_xuqDUSM",
    "pycharm": {
     "name": "#%% md\n"
    }
   }
  },
  {
   "cell_type": "markdown",
   "source": [
    "- `with open(file_path) as file_obj`:\n",
    "- f.readlines() v f.read()\n",
    "\n",
    "Check output types"
   ],
   "metadata": {
    "id": "7fCR9Idhl6Kc",
    "pycharm": {
     "name": "#%% md\n"
    }
   }
  },
  {
   "cell_type": "code",
   "source": [
    "with open('./sample_data/california_housing_test.csv', 'r') as f:\n",
    "  txt = f.readlines()\n",
    "\n",
    "header = 'The file contents are:\\n'.upper()\n",
    "# print(header, txt)\n",
    "# print(type(txt))\n",
    "# print(txt[:5])\n",
    "for l in txt[:5]:\n",
    "  print(l)"
   ],
   "metadata": {
    "id": "mMWpYJ8s_CTm",
    "pycharm": {
     "name": "#%%\n"
    }
   },
   "execution_count": null,
   "outputs": []
  },
  {
   "cell_type": "code",
   "source": [
    "# Code"
   ],
   "metadata": {
    "id": "1esrEuudDdjX",
    "pycharm": {
     "name": "#%%\n"
    }
   },
   "execution_count": null,
   "outputs": []
  },
  {
   "cell_type": "markdown",
   "source": [
    "#### File Types"
   ],
   "metadata": {
    "id": "AkQPo8GzndqP",
    "pycharm": {
     "name": "#%% md\n"
    }
   }
  },
  {
   "cell_type": "markdown",
   "source": [
    "- .csv\n",
    "- .tsv\n",
    "- .json\n",
    "- .xml\n",
    "- binary files"
   ],
   "metadata": {
    "id": "V2ovY_t0Oor0",
    "pycharm": {
     "name": "#%% md\n"
    }
   }
  },
  {
   "cell_type": "markdown",
   "source": [
    "Let's take a look at examples of file types\n",
    "(you can find more examples on Kaggle)"
   ],
   "metadata": {
    "id": "LEu0_MnmYFAx",
    "pycharm": {
     "name": "#%% md\n"
    }
   }
  },
  {
   "cell_type": "markdown",
   "source": [
    "#### Accessing file types with built-in libraries"
   ],
   "metadata": {
    "id": "RuvC0SwAno3K",
    "pycharm": {
     "name": "#%% md\n"
    }
   }
  },
  {
   "cell_type": "code",
   "source": [
    "import json\n",
    "with open('./sample_data/anscombe.json') as f:\n",
    "  data = json.load(f)\n",
    "with open('./sample_data/anscombe.json') as f: \n",
    "  raw_data = f.read()\n",
    "\n",
    "# See how the json.load function loads our data nicely\n",
    "print(raw_data[:200])\n",
    "print(data[:5])\n"
   ],
   "metadata": {
    "id": "JQjDo0iT5HP0",
    "pycharm": {
     "name": "#%%\n"
    }
   },
   "execution_count": null,
   "outputs": []
  },
  {
   "cell_type": "code",
   "source": [
    "import csv\n",
    "with open('sample_data/california_housing_train.csv', 'r') as f:\n",
    "  # data = list(csv.reader(f))  \n",
    "  data = list(csv.DictReader(f))\n",
    "data[:5]  # Compare the two outputs between reader and DictReader"
   ],
   "metadata": {
    "id": "9_lZc3iD5kJn",
    "pycharm": {
     "name": "#%%\n"
    }
   },
   "execution_count": null,
   "outputs": []
  },
  {
   "cell_type": "code",
   "source": [],
   "metadata": {
    "id": "xhgbfu-dDNCT",
    "pycharm": {
     "name": "#%%\n"
    }
   },
   "execution_count": null,
   "outputs": []
  }
 ]
}