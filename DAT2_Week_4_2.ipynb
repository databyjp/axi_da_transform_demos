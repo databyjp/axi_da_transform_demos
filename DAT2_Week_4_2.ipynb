{
 "nbformat": 4,
 "nbformat_minor": 0,
 "metadata": {
  "colab": {
   "name": "DAT2_Week_4_2.ipynb",
   "provenance": [],
   "collapsed_sections": []
  },
  "kernelspec": {
   "name": "python3",
   "display_name": "Python 3"
  },
  "language_info": {
   "name": "python"
  }
 },
 "cells": [
  {
   "cell_type": "markdown",
   "source": [
    "[![Open In Colab](https://colab.research.google.com/assets/colab-badge.svg)](https://colab.research.google.com/github/databyjp/axi_da_transform_demos/blob/main/DAT2_Week_4_2.ipynb)\n",
    "# DA Transform - Week 4 session 2"
   ],
   "metadata": {
    "id": "WCNt4EGWzzjF",
    "pycharm": {
     "name": "#%% md\n"
    }
   }
  },
  {
   "cell_type": "code",
   "source": [
    "import pandas as pd"
   ],
   "metadata": {
    "id": "KvKx0gr198Sb",
    "pycharm": {
     "name": "#%%\n"
    }
   },
   "execution_count": null,
   "outputs": []
  },
  {
   "cell_type": "markdown",
   "source": [
    "#### Pandas groupby operation"
   ],
   "metadata": {
    "id": "08yrpBZqcrFO",
    "pycharm": {
     "name": "#%% md\n"
    }
   }
  },
  {
   "cell_type": "code",
   "source": [
    "import seaborn as sns\n",
    "df = sns.load_dataset(\"tips\")\n",
    "df.head()"
   ],
   "metadata": {
    "id": "xnpmlFSQbYkq",
    "pycharm": {
     "name": "#%%\n"
    }
   },
   "execution_count": null,
   "outputs": []
  },
  {
   "cell_type": "code",
   "source": [
    "fdf = df[df['size'] > 2]\n",
    "fdf.head()"
   ],
   "metadata": {
    "id": "UEHpIZKntyIE",
    "pycharm": {
     "name": "#%%\n"
    }
   },
   "execution_count": null,
   "outputs": []
  },
  {
   "cell_type": "code",
   "source": [
    "ffdf = fdf[fdf['smoker'] == 'Yes']\n",
    "ffdf.head()"
   ],
   "metadata": {
    "id": "v9fHV20vuF3D",
    "pycharm": {
     "name": "#%%\n"
    }
   },
   "execution_count": null,
   "outputs": []
  },
  {
   "cell_type": "code",
   "source": [
    "fdf = df[(df['size'] > 2) & (df['smoker'] == 'Yes')]\n",
    "fdf.iloc[:, 3:5]"
   ],
   "metadata": {
    "id": "ygvMA0DXuTpe",
    "pycharm": {
     "name": "#%%\n"
    }
   },
   "execution_count": null,
   "outputs": []
  },
  {
   "cell_type": "code",
   "source": [
    "df.head()"
   ],
   "metadata": {
    "id": "TYbNz4YHvpCN",
    "pycharm": {
     "name": "#%%\n"
    }
   },
   "execution_count": null,
   "outputs": []
  },
  {
   "cell_type": "code",
   "source": [
    "df['day'].unique()"
   ],
   "metadata": {
    "id": "3vsCY_gtvue5",
    "pycharm": {
     "name": "#%%\n"
    }
   },
   "execution_count": null,
   "outputs": []
  },
  {
   "cell_type": "code",
   "source": [
    "gdf = df.groupby('day').mean()\n",
    "gdf.head()"
   ],
   "metadata": {
    "id": "xsQ_sZEzzpFD",
    "pycharm": {
     "name": "#%%\n"
    }
   },
   "execution_count": null,
   "outputs": []
  },
  {
   "cell_type": "code",
   "source": [
    "gdf.iloc[:2, :2]"
   ],
   "metadata": {
    "id": "HbKRKJWCxYju",
    "pycharm": {
     "name": "#%%\n"
    }
   },
   "execution_count": null,
   "outputs": []
  },
  {
   "cell_type": "markdown",
   "source": [
    "##### Multi-index groups"
   ],
   "metadata": {
    "id": "p6fhjuw9YXo4",
    "pycharm": {
     "name": "#%% md\n"
    }
   }
  },
  {
   "cell_type": "code",
   "source": [
    "# Aggregate categorical data\n",
    "df.groupby(['size']).median()"
   ],
   "metadata": {
    "id": "FDEIK_LXXqCj",
    "pycharm": {
     "name": "#%%\n"
    }
   },
   "execution_count": null,
   "outputs": []
  },
  {
   "cell_type": "code",
   "source": [
    "# What happens if we group this data by multiple columns?\n",
    "df.groupby(['size', 'sex']).median()"
   ],
   "metadata": {
    "id": "KOIqJp6dOG2l",
    "pycharm": {
     "name": "#%%\n"
    }
   },
   "execution_count": null,
   "outputs": []
  },
  {
   "cell_type": "markdown",
   "source": [
    "#### Joining multiple DataFrames"
   ],
   "metadata": {
    "id": "vWuj5-q3fqrI",
    "pycharm": {
     "name": "#%% md\n"
    }
   }
  },
  {
   "cell_type": "markdown",
   "source": [
    "##### `concatenate`"
   ],
   "metadata": {
    "id": "-isC7ujVfxVv",
    "pycharm": {
     "name": "#%% md\n"
    }
   }
  },
  {
   "cell_type": "markdown",
   "source": [
    "![Concatenate](https://pandas.pydata.org/docs/_images/merging_concat_basic.png)"
   ],
   "metadata": {
    "id": "QZ2xEAMU4HB2",
    "pycharm": {
     "name": "#%% md\n"
    }
   }
  },
  {
   "cell_type": "code",
   "source": [
    "chars = ['A', 'B', 'C', 'D']\n",
    "ind1 = range(4)\n",
    "ind2 = range(4, 8)\n",
    "\n",
    "list_1 = [[i + str(j) for i in chars] for j in ind1]\n",
    "df1 = pd.DataFrame(list_1, columns=chars, index=ind1)\n",
    "\n",
    "list_2 = [[i + str(j) for i in chars] for j in ind2]\n",
    "df2 = pd.DataFrame(list_2, columns=chars, index=ind2)\n",
    "\n",
    "display(df1)\n",
    "display(df2)"
   ],
   "metadata": {
    "id": "ZOICYzlR9jSG",
    "pycharm": {
     "name": "#%%\n"
    }
   },
   "execution_count": null,
   "outputs": []
  },
  {
   "cell_type": "code",
   "source": [
    "# Let's concatenate these two:\n",
    "pd.concat([df2, df1])"
   ],
   "metadata": {
    "id": "BAc0Pgvo-di3",
    "pycharm": {
     "name": "#%%\n"
    }
   },
   "execution_count": null,
   "outputs": []
  },
  {
   "cell_type": "markdown",
   "source": [
    "##### `join`"
   ],
   "metadata": {
    "id": "gMu5k6MK4PVW",
    "pycharm": {
     "name": "#%% md\n"
    }
   }
  },
  {
   "cell_type": "markdown",
   "source": [
    "![join](https://pandas.pydata.org/docs/_images/merging_merge_on_key.png)"
   ],
   "metadata": {
    "id": "kwxZYiSt4axp",
    "pycharm": {
     "name": "#%% md\n"
    }
   }
  },
  {
   "cell_type": "markdown",
   "source": [
    "##### Types of `join`"
   ],
   "metadata": {
    "id": "l1FAXbNdgNhG",
    "pycharm": {
     "name": "#%% md\n"
    }
   }
  },
  {
   "cell_type": "markdown",
   "source": [
    "Inner / Left / Right / Full Outer\n",
    "\n",
    "![Join types](https://raw.githubusercontent.com/amartinson193/SQL_Checkered_Flag_Join_Diagrams/main/checkered_flag_diagram_pg1.png)\n",
    "\n",
    "Source: https://github.com/amartinson193/SQL_Checkered_Flag_Join_Diagrams\n",
    "\n",
    "\n"
   ],
   "metadata": {
    "id": "qOXCggTciHPm",
    "pycharm": {
     "name": "#%% md\n"
    }
   }
  },
  {
   "cell_type": "code",
   "source": [
    "chars = ['A', 'B', 'C', 'D']\n",
    "ind1 = [1, 2, 3, 5, 6]\n",
    "ind2 = [1, 2, 4]\n",
    "\n",
    "list_1 = [[i + str(j) for i in chars[:2]] for j in ind1]\n",
    "df_l = pd.DataFrame(list_1, columns=chars[:2], index=ind1)\n",
    "\n",
    "list_2 = [[i + str(j) for i in chars[2:]] for j in ind2]\n",
    "df_r = pd.DataFrame(list_2, columns=chars[2:], index=ind2)\n",
    "\n",
    "# list_3 = [[i + str(j) for i in ['E', 'F']] for j in ind2]\n",
    "# df_3 = pd.DataFrame(list_3, columns=['E', 'F'], index=ind2)\n",
    "\n",
    "display(df_l)\n",
    "display(df_r)\n",
    "# display(df_3)"
   ],
   "metadata": {
    "id": "3kc34Szb-nyW",
    "pycharm": {
     "name": "#%%\n"
    }
   },
   "execution_count": null,
   "outputs": []
  },
  {
   "cell_type": "code",
   "source": [
    "# Let's try joining\n",
    "df_r.join(df_l, how='left')\n",
    "# df_b = df_a.join(df_3)"
   ],
   "metadata": {
    "id": "odufxBWe_B87",
    "pycharm": {
     "name": "#%%\n"
    }
   },
   "execution_count": null,
   "outputs": []
  },
  {
   "cell_type": "markdown",
   "source": [
    "#### `inplace=True` operations "
   ],
   "metadata": {
    "id": "XLad82l3t93l",
    "pycharm": {
     "name": "#%% md\n"
    }
   }
  },
  {
   "cell_type": "code",
   "source": [
    "df = sns.load_dataset(\"tips\")\n",
    "df.head()"
   ],
   "metadata": {
    "id": "8HcflSvumADW",
    "pycharm": {
     "name": "#%%\n"
    }
   },
   "execution_count": null,
   "outputs": []
  },
  {
   "cell_type": "code",
   "source": [
    "df_new = df.rename({'size': 'party size'}, axis=1)\n",
    "df_new.head()"
   ],
   "metadata": {
    "id": "ZIbmnMBcmCSO",
    "pycharm": {
     "name": "#%%\n"
    }
   },
   "execution_count": null,
   "outputs": []
  },
  {
   "cell_type": "code",
   "source": [
    "df.head()  # Notice the column names"
   ],
   "metadata": {
    "id": "lCJs6y1HmNzU",
    "pycharm": {
     "name": "#%%\n"
    }
   },
   "execution_count": null,
   "outputs": []
  },
  {
   "cell_type": "code",
   "source": [
    "df.rename({'size': 'party size'}, axis=1, inplace=True)"
   ],
   "metadata": {
    "id": "wKtm2y1j5Xy7",
    "pycharm": {
     "name": "#%%\n"
    }
   },
   "execution_count": null,
   "outputs": []
  },
  {
   "cell_type": "code",
   "source": [
    "df.head()"
   ],
   "metadata": {
    "id": "7fXcoXga5dJP",
    "pycharm": {
     "name": "#%%\n"
    }
   },
   "execution_count": null,
   "outputs": []
  },
  {
   "cell_type": "markdown",
   "source": [
    "### Data types - Statistical"
   ],
   "metadata": {
    "id": "NfTPWzosGP-j",
    "pycharm": {
     "name": "#%% md\n"
    }
   }
  },
  {
   "cell_type": "markdown",
   "source": [
    "- **Quantitative** (Interval & Ratio)\n",
    "- **Categorical** (Nominal & Ordinal)\n"
   ],
   "metadata": {
    "id": "6XO6IuoxGaMt",
    "pycharm": {
     "name": "#%% md\n"
    }
   }
  },
  {
   "cell_type": "markdown",
   "source": [
    "What type of data is each column below?"
   ],
   "metadata": {
    "id": "43ssSJdccBUf",
    "pycharm": {
     "name": "#%% md\n"
    }
   }
  },
  {
   "cell_type": "code",
   "source": [
    "df.head()"
   ],
   "metadata": {
    "id": "zs0VIyKQb_vN",
    "pycharm": {
     "name": "#%%\n"
    }
   },
   "execution_count": null,
   "outputs": []
  },
  {
   "cell_type": "markdown",
   "source": [
    "### Function as an argument"
   ],
   "metadata": {
    "id": "J2UfpVgVHvVb",
    "pycharm": {
     "name": "#%% md\n"
    }
   }
  },
  {
   "cell_type": "code",
   "source": [
    "def add_title(var):\n",
    "  return f'The Honourable {var}'.title()\n",
    "\n",
    "def make_larger(var):\n",
    "  return var + 1000\n",
    "\n",
    "def outer_function(vars, func_in):\n",
    "  list_out = list()\n",
    "  for v in vars:\n",
    "    list_out.append(func_in(v))\n",
    "  return list_out\n",
    "\n",
    "names = ['peNNy', 'enRiQue', 'xAvIer']\n",
    "# print(outer_function(names, add_title))\n",
    "\n",
    "numbers = [15, 10, 200]\n",
    "# print(outer_function(numbers, make_larger))\n",
    "\n",
    "print(outer_function(numbers, str))  # Can you tell what is going on here?\n",
    "\n",
    "df['total_bill'].apply(make_larger)"
   ],
   "metadata": {
    "id": "ZlupwaAnHznF",
    "pycharm": {
     "name": "#%%\n"
    }
   },
   "execution_count": null,
   "outputs": []
  },
  {
   "cell_type": "markdown",
   "source": [
    "### Try / Except blocks"
   ],
   "metadata": {
    "id": "w0A2zs-EFQQ2",
    "pycharm": {
     "name": "#%% md\n"
    }
   }
  },
  {
   "cell_type": "markdown",
   "source": [
    "Code blocks like this:\n",
    "\n",
    "```\n",
    "try:\n",
    "  something\n",
    "Except as e:\n",
    "  do this if error\n",
    "```\n",
    "\n",
    "Allow your code to keep executing even if an error occurs!"
   ],
   "metadata": {
    "id": "OvECX1aVUU_5",
    "pycharm": {
     "name": "#%% md\n"
    }
   }
  },
  {
   "cell_type": "markdown",
   "source": [
    "#### For instance:"
   ],
   "metadata": {
    "id": "heOF8CAeUx9Q",
    "pycharm": {
     "name": "#%% md\n"
    }
   }
  },
  {
   "cell_type": "code",
   "source": [
    "# 1 + ' more time'\n",
    "# print('Done!')"
   ],
   "metadata": {
    "id": "kESond0e8gN1",
    "pycharm": {
     "name": "#%%\n"
    }
   },
   "execution_count": null,
   "outputs": []
  },
  {
   "cell_type": "code",
   "source": [
    "try:\n",
    "  1 + ' more time'\n",
    "except Exception as e:\n",
    "  print('Something went wrong!')\n",
    "  print('Error', e)\n",
    "print('Done!')"
   ],
   "metadata": {
    "id": "duDi9Im4UgWX",
    "pycharm": {
     "name": "#%%\n"
    }
   },
   "execution_count": null,
   "outputs": []
  },
  {
   "cell_type": "markdown",
   "source": [
    "### Data Cleaning / Wrangling"
   ],
   "metadata": {
    "id": "9uWFuqjuWBjC",
    "pycharm": {
     "name": "#%% md\n"
    }
   }
  },
  {
   "cell_type": "markdown",
   "source": [
    "#### What is it? / Why?"
   ],
   "metadata": {
    "id": "hnUFnPWwWDsQ",
    "pycharm": {
     "name": "#%% md\n"
    }
   }
  },
  {
   "cell_type": "markdown",
   "source": [
    "Prevent garbage-in, garbage-out\n",
    "\n",
    "Read more: [Why clean data?](https://www.tableau.com/learn/articles/what-is-data-cleaning)"
   ],
   "metadata": {
    "id": "WH4vRCE1P5-I",
    "pycharm": {
     "name": "#%% md\n"
    }
   }
  },
  {
   "cell_type": "markdown",
   "source": [
    "#### Dealing with missing data"
   ],
   "metadata": {
    "id": "hamf5Y0SkF67",
    "pycharm": {
     "name": "#%% md\n"
    }
   }
  },
  {
   "cell_type": "markdown",
   "source": [
    "##### How to identify missing data"
   ],
   "metadata": {
    "id": "vHEhRzB2kK9I",
    "pycharm": {
     "name": "#%% md\n"
    }
   }
  },
  {
   "cell_type": "code",
   "source": [
    "# If this causes an error try restarting the notebook kernel & running again\n",
    "!pip install fsspec s3fs &> /dev/null"
   ],
   "metadata": {
    "id": "FE2ZQY1q6thm",
    "pycharm": {
     "name": "#%%\n"
    }
   },
   "execution_count": null,
   "outputs": []
  },
  {
   "cell_type": "code",
   "source": [
    "import pandas as pd\n",
    "df = pd.read_csv('s3://databyjp/data/titanic_train.csv')"
   ],
   "metadata": {
    "id": "Abr-Cw2g9w9V",
    "pycharm": {
     "name": "#%%\n"
    }
   },
   "execution_count": null,
   "outputs": []
  },
  {
   "cell_type": "code",
   "source": [
    "df"
   ],
   "metadata": {
    "id": "h2KyxyuU_jVQ",
    "pycharm": {
     "name": "#%%\n"
    }
   },
   "execution_count": null,
   "outputs": []
  },
  {
   "cell_type": "code",
   "source": [
    "df.isna()"
   ],
   "metadata": {
    "id": "OvKSUBtC-Z_K",
    "pycharm": {
     "name": "#%%\n"
    }
   },
   "execution_count": null,
   "outputs": []
  },
  {
   "cell_type": "code",
   "source": [
    "df.isna().any()"
   ],
   "metadata": {
    "id": "kXjeL1Q8-rqU",
    "pycharm": {
     "name": "#%%\n"
    }
   },
   "execution_count": null,
   "outputs": []
  },
  {
   "cell_type": "code",
   "source": [
    "df.info()"
   ],
   "metadata": {
    "id": "MTA2zkp07K71",
    "pycharm": {
     "name": "#%%\n"
    }
   },
   "execution_count": null,
   "outputs": []
  },
  {
   "cell_type": "code",
   "source": [
    "df['Age'].isna()"
   ],
   "metadata": {
    "id": "Fi5YdXdW-0ZA",
    "pycharm": {
     "name": "#%%\n"
    }
   },
   "execution_count": null,
   "outputs": []
  },
  {
   "cell_type": "code",
   "source": [
    "df[df['Age'].isna()]"
   ],
   "metadata": {
    "id": "bfTFKElp-6Ll",
    "pycharm": {
     "name": "#%%\n"
    }
   },
   "execution_count": null,
   "outputs": []
  },
  {
   "cell_type": "code",
   "source": [
    "df[(df['Age'].isna()) & (df['Pclass'] == 1)]"
   ],
   "metadata": {
    "id": "GdG8nbKJ-_iL",
    "pycharm": {
     "name": "#%%\n"
    }
   },
   "execution_count": null,
   "outputs": []
  },
  {
   "cell_type": "markdown",
   "source": [
    "##### How to clean missing data"
   ],
   "metadata": {
    "id": "XY7p5QBGkQE3",
    "pycharm": {
     "name": "#%% md\n"
    }
   }
  },
  {
   "cell_type": "code",
   "source": [
    "# Drop rows\n",
    "df_cln = df[-df['Age'].isna()]  # Or, use: df[df['Age'].notna()]"
   ],
   "metadata": {
    "id": "xqeTPeWl_JAT",
    "pycharm": {
     "name": "#%%\n"
    }
   },
   "execution_count": null,
   "outputs": []
  },
  {
   "cell_type": "code",
   "source": [
    "df_cln"
   ],
   "metadata": {
    "id": "WgmfkzgU_V-h",
    "pycharm": {
     "name": "#%%\n"
    }
   },
   "execution_count": null,
   "outputs": []
  },
  {
   "cell_type": "code",
   "source": [
    "# Replace the values with a representative value\n",
    "df.loc[df['Age'].isna(), 'Age'] = df['Age'].median()\n",
    "\n",
    "df[df['Age'].isna()]"
   ],
   "metadata": {
    "id": "xW8ZjWKT_Z5s",
    "pycharm": {
     "name": "#%%\n"
    }
   },
   "execution_count": null,
   "outputs": []
  },
  {
   "cell_type": "markdown",
   "source": [
    "### Pair plots & interpretation"
   ],
   "metadata": {
    "id": "VADUOygxhi0_",
    "pycharm": {
     "name": "#%% md\n"
    }
   }
  },
  {
   "cell_type": "markdown",
   "source": [
    "Remember what we learned about correlation"
   ],
   "metadata": {
    "id": "rrzKsiGyiOUp",
    "pycharm": {
     "name": "#%% md\n"
    }
   }
  },
  {
   "cell_type": "markdown",
   "source": [
    "![Correlation examples](https://upload.wikimedia.org/wikipedia/commons/thumb/d/d4/Correlation_examples2.svg/2560px-Correlation_examples2.svg.png)"
   ],
   "metadata": {
    "id": "0idf0Ys5iWBX",
    "pycharm": {
     "name": "#%% md\n"
    }
   }
  },
  {
   "cell_type": "markdown",
   "source": [
    "#### Pair plot example"
   ],
   "metadata": {
    "id": "8npi28ONiZrx",
    "pycharm": {
     "name": "#%% md\n"
    }
   }
  },
  {
   "cell_type": "markdown",
   "source": [
    "![Pair plot example](https://seaborn.pydata.org/_images/pairplot_3_0.png)"
   ],
   "metadata": {
    "id": "jZpGfKmEiIRV",
    "pycharm": {
     "name": "#%% md\n"
    }
   }
  },
  {
   "cell_type": "markdown",
   "source": [
    "### APIs / Web programming"
   ],
   "metadata": {
    "id": "1nGvdsJ2GSdZ",
    "pycharm": {
     "name": "#%% md\n"
    }
   }
  },
  {
   "cell_type": "markdown",
   "source": [
    "#### Request / response cycle"
   ],
   "metadata": {
    "id": "O56j0JJbGVda",
    "pycharm": {
     "name": "#%% md\n"
    }
   }
  },
  {
   "cell_type": "markdown",
   "source": [
    "![Request/response](https://miro.medium.com/max/1400/1*2UbC5pSRyjGmF1ezB9hvYg.png)"
   ],
   "metadata": {
    "id": "JqtjA5Q1Gk6I",
    "pycharm": {
     "name": "#%% md\n"
    }
   }
  },
  {
   "cell_type": "markdown",
   "source": [
    "#### HTTP response codes"
   ],
   "metadata": {
    "id": "6FMrtVzQG2yo",
    "pycharm": {
     "name": "#%% md\n"
    }
   }
  },
  {
   "cell_type": "markdown",
   "source": [
    "You might have seen images like this:\n",
    "\n",
    "![404 example](https://www.howtogeek.com/wp-content/uploads/2018/05/2018-06-03-2.png?trim=1,1&bg-color=000&pad=1,1)\n",
    "\n",
    "This is a **response status code**:\n",
    "\n",
    "HTTP response status codes indicate whether a specific HTTP request has been successfully completed. Responses are grouped in five classes:\n",
    "\n",
    "    Informational responses (100–199)\n",
    "    Successful responses (200–299)\n",
    "    Redirection messages (300–399)\n",
    "    Client error responses (400–499)\n",
    "    Server error responses (500–599)\n",
    "\n",
    "Source: https://developer.mozilla.org/en-US/docs/Web/HTTP/Status\n"
   ],
   "metadata": {
    "id": "aoNtzHaeHEEQ",
    "pycharm": {
     "name": "#%% md\n"
    }
   }
  },
  {
   "cell_type": "markdown",
   "source": [
    "## Phase 1 Project"
   ],
   "metadata": {
    "id": "K-2eQMQdmWl2",
    "pycharm": {
     "name": "#%% md\n"
    }
   }
  },
  {
   "cell_type": "markdown",
   "source": [
    "Due 25 June \n",
    "\n",
    "(**Week 6 is project week**)"
   ],
   "metadata": {
    "id": "utIjkcSMsrfU",
    "pycharm": {
     "name": "#%% md\n"
    }
   }
  },
  {
   "cell_type": "markdown",
   "source": [
    "### Before you start the project..."
   ],
   "metadata": {
    "id": "MZ4s2SeXumUq",
    "pycharm": {
     "name": "#%% md\n"
    }
   }
  },
  {
   "cell_type": "markdown",
   "source": [
    "Complete:\n",
    "- The remainder of the \"**Welcome**\" section, if you haven't yet, and:\n",
    "- Go through the \"**Appendix: Bash and Git**\" section over this week and next\n",
    "\n",
    "The project will ask you to:\n",
    "- Create your own Jupyter notebook\n",
    "- Use git and Github by creating your own \"repository\" for the project, and\n",
    "- Create a 'non-technical presentation'"
   ],
   "metadata": {
    "id": "m9aa-FKc2uAx",
    "pycharm": {
     "name": "#%% md\n"
    }
   }
  },
  {
   "cell_type": "markdown",
   "source": [
    "#### Suggestions:\n",
    "- Create a GitHub account if you haven't yet done so\n",
    "- Follow the tutorials to set up a *local* Python work environment (install git / Anaconda)\n",
    "- Familiarise yourself with the \"Bash\" shell - terminal on Mac, or Git Bash on Windows (*NOT Command Prompt*)\n",
    "- Follow the Git tutorials over the next couple of weeks piece by piece\n"
   ],
   "metadata": {
    "id": "WlA8tBRa8iP0",
    "pycharm": {
     "name": "#%% md\n"
    }
   }
  },
  {
   "cell_type": "markdown",
   "source": [
    "### Project information"
   ],
   "metadata": {
    "id": "W9az6A-UupQJ",
    "pycharm": {
     "name": "#%% md\n"
    }
   }
  },
  {
   "cell_type": "markdown",
   "source": [
    "Read the \"Online Milestones Instructions\" section. But:\n",
    "- \"Blogging\" is **optional** i.e. not assessed\n",
    "- Marking rubrics -> Project checklist / guidance\n",
    "\n",
    "Important: Check out the [\"Templates and Examples\"](https://github.com/learn-co-curriculum/dsc-project-template) repo"
   ],
   "metadata": {
    "id": "m9bLaoLo47ZZ",
    "pycharm": {
     "name": "#%% md\n"
    }
   }
  },
  {
   "cell_type": "markdown",
   "source": [
    "## Lab solutions"
   ],
   "metadata": {
    "id": "tjEeGe8hbDog",
    "pycharm": {
     "name": "#%% md\n"
    }
   }
  },
  {
   "cell_type": "markdown",
   "source": [
    "Visible through course materials: Click on the GitHub link on each lab page, and check out the \"solution\" branch in the GH repository."
   ],
   "metadata": {
    "id": "M7z0CfPUhuBm",
    "pycharm": {
     "name": "#%% md\n"
    }
   }
  },
  {
   "cell_type": "markdown",
   "source": [
    "## Read more"
   ],
   "metadata": {
    "id": "p5QN-CXKnbFM",
    "pycharm": {
     "name": "#%% md\n"
    }
   }
  },
  {
   "cell_type": "markdown",
   "source": [
    "- [Pandas documentation - selecting subsets of data](https://pandas.pydata.org/pandas-docs/version/1.0.2/getting_started/intro_tutorials/03_subset_data.html)\n",
    "- [Lambda functions](https://towardsdatascience.com/lambda-functions-with-practical-examples-in-python-45934f3653a8)\n",
    "- [Map v Apply v Applymap](https://towardsdatascience.com/introduction-to-pandas-apply-applymap-and-map-5d3e044e93ff)\n",
    "- [Pairplots](https://towardsdatascience.com/visualizing-data-with-pair-plots-in-python-f228cf529166)\n",
    "- [Overview of HTTP](https://developer.mozilla.org/en-US/docs/Web/HTTP/Overview)"
   ],
   "metadata": {
    "id": "1WYN4pMLqL-e",
    "pycharm": {
     "name": "#%% md\n"
    }
   }
  }
 ]
}