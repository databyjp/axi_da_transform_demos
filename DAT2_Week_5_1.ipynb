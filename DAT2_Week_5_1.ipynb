{
 "nbformat": 4,
 "nbformat_minor": 0,
 "metadata": {
  "colab": {
   "name": "DAT2_Week_5_1.ipynb",
   "provenance": [],
   "collapsed_sections": []
  },
  "kernelspec": {
   "name": "python3",
   "display_name": "Python 3"
  },
  "language_info": {
   "name": "python"
  }
 },
 "cells": [
  {
   "cell_type": "markdown",
   "source": [
    "# DA Transform - Week 5 Session 1"
   ],
   "metadata": {
    "id": "WCNt4EGWzzjF",
    "pycharm": {
     "name": "#%% md\n"
    }
   }
  },
  {
   "cell_type": "markdown",
   "source": [
    "## Project"
   ],
   "metadata": {
    "id": "EmQT4gfV6tWi",
    "pycharm": {
     "name": "#%% md\n"
    }
   }
  },
  {
   "cell_type": "markdown",
   "source": [
    "**Prioritise learning** - read the:\n",
    "\n",
    "- [Project description](https://academyxi.instructure.com/courses/162/assignments/11382?module_item_id=22667)\n",
    "- [Checklist and guidance](https://academyxi.instructure.com/courses/162/modules/items/22666)\n",
    "\n",
    "And prioritise study time based on project requirements"
   ],
   "metadata": {
    "id": "0rpGzj2jDMH7",
    "pycharm": {
     "name": "#%% md\n"
    }
   }
  },
  {
   "cell_type": "markdown",
   "source": [
    "### Preparation - Setting up your environment"
   ],
   "metadata": {
    "id": "GfI4PNUC6vEh",
    "pycharm": {
     "name": "#%% md\n"
    }
   }
  },
  {
   "cell_type": "markdown",
   "source": [
    "- Installing git and Anaconda\n",
    "- Setting up git bash and conda environments\n",
    "  - Common problems that I've seen\n",
    "  - `.bash_profile` file\n",
    "- Github account \n",
    "- Windows - file name extensions"
   ],
   "metadata": {
    "id": "s6kZu4o96xy_",
    "pycharm": {
     "name": "#%% md\n"
    }
   }
  },
  {
   "cell_type": "markdown",
   "source": [
    "### Forking / Cloning repositories (repos for short)"
   ],
   "metadata": {
    "id": "J0lZbebH7SnW",
    "pycharm": {
     "name": "#%% md\n"
    }
   }
  },
  {
   "cell_type": "markdown",
   "source": [
    "You will need to deal with GitHub repos for this project\n",
    "\n",
    "- Fork or clone an existing repository\n",
    "- Work off downloaded/cloned files\n",
    "- Upload your work to your own GH repository\n",
    "\n",
    "**So, read the section on git in parallel with your project work.**"
   ],
   "metadata": {
    "id": "3ufyqLzm7V7k",
    "pycharm": {
     "name": "#%% md\n"
    }
   }
  },
  {
   "cell_type": "markdown",
   "source": [
    "### Project repos"
   ],
   "metadata": {
    "id": "TOQXGOBi84Li",
    "pycharm": {
     "name": "#%% md\n"
    }
   }
  },
  {
   "cell_type": "markdown",
   "source": [
    "See **Getting Started** on [Phase 1 Project page](https://academyxi.instructure.com/courses/162/assignments/11382?module_item_id=22667)\n",
    "\n",
    "- Use the data in `zippedData`\n",
    "- Example project outputs in branches\n",
    "\n",
    "Check out the data first, formulate what you might like to do."
   ],
   "metadata": {
    "id": "NkK-BW1X88jh",
    "pycharm": {
     "name": "#%% md\n"
    }
   }
  },
  {
   "cell_type": "markdown",
   "source": [
    "### My suggestions for Project 1"
   ],
   "metadata": {
    "id": "eo_zO3_MDziV",
    "pycharm": {
     "name": "#%% md\n"
    }
   }
  },
  {
   "cell_type": "markdown",
   "source": [
    "Before you start coding solutions / analysing data:\n",
    "\n",
    "- Take a look at the problem definition\n",
    "- Review the available data (can be through pandas or even in Excel)\n",
    "- Outline how you might tackle the problem (in words)\n",
    "- Review the sample submissions\n",
    "\n",
    "And *then* start coding your solution, **once you have a plan**.\n",
    "\n",
    "You can change the plan, but this way you have clear goals to reach with your coding.\n"
   ],
   "metadata": {
    "id": "yXg0QFS9D42D",
    "pycharm": {
     "name": "#%% md\n"
    }
   }
  },
  {
   "cell_type": "markdown",
   "source": [
    "## New Material"
   ],
   "metadata": {
    "id": "c6zf6kovcGLc",
    "pycharm": {
     "name": "#%% md\n"
    }
   }
  },
  {
   "cell_type": "markdown",
   "source": [
    "### SQL"
   ],
   "metadata": {
    "id": "a3ZaPIyIcI6R",
    "pycharm": {
     "name": "#%% md\n"
    }
   }
  },
  {
   "cell_type": "markdown",
   "source": [
    "#### SQL & Relational DBs"
   ],
   "metadata": {
    "id": "eCymzNUnfg4I",
    "pycharm": {
     "name": "#%% md\n"
    }
   }
  },
  {
   "cell_type": "markdown",
   "source": [
    "What are they"
   ],
   "metadata": {
    "id": "rM0lSc2ifnMX",
    "pycharm": {
     "name": "#%% md\n"
    }
   }
  },
  {
   "cell_type": "markdown",
   "source": [
    "- [Relational databases](https://www.bbc.co.uk/bitesize/guides/zvq634j/revision/1)\n",
    "- [SQL](https://www.bbc.co.uk/bitesize/guides/z37tb9q/revision/1) "
   ],
   "metadata": {
    "id": "aQVxagZlblKM",
    "pycharm": {
     "name": "#%% md\n"
    }
   }
  },
  {
   "cell_type": "markdown",
   "source": [
    "#### ERD"
   ],
   "metadata": {
    "id": "BEETq1eLbjap",
    "pycharm": {
     "name": "#%% md\n"
    }
   }
  },
  {
   "cell_type": "markdown",
   "source": [
    "https://www.edrawsoft.com/er-diagram-symbols.html"
   ],
   "metadata": {
    "id": "IYx8pza_bmN0",
    "pycharm": {
     "name": "#%% md\n"
    }
   }
  },
  {
   "cell_type": "markdown",
   "source": [
    "#### SQLite"
   ],
   "metadata": {
    "id": "E60CcIR3fktU",
    "pycharm": {
     "name": "#%% md\n"
    }
   }
  },
  {
   "cell_type": "markdown",
   "source": [
    "https://www.sqlite.org/schematab.html"
   ],
   "metadata": {
    "id": "CE8z8TakbgDT",
    "pycharm": {
     "name": "#%% md\n"
    }
   }
  },
  {
   "cell_type": "markdown",
   "source": [
    "#### Recommended notebook studying order"
   ],
   "metadata": {
    "id": "w0bNxHwaug5U",
    "pycharm": {
     "name": "#%% md\n"
    }
   }
  },
  {
   "cell_type": "markdown",
   "source": [
    "Read through **all** of the theory notebooks first, then try the labs"
   ],
   "metadata": {
    "id": "l_-JT8trukfs",
    "pycharm": {
     "name": "#%% md\n"
    }
   }
  },
  {
   "cell_type": "markdown",
   "source": [
    "#### Exploring the Schema (Selecting Data)"
   ],
   "metadata": {
    "id": "0bs4tcYHjmEk",
    "pycharm": {
     "name": "#%% md\n"
    }
   }
  },
  {
   "cell_type": "markdown",
   "source": [
    "```\n",
    "# Execute the query\n",
    "cur.execute(\"\"\"SELECT name FROM sqlite_master WHERE type = 'table';\"\"\")\n",
    "# Fetch the result and store it in table_names\n",
    "table_names = cur.fetchall()\n",
    "table_names\n",
    "```"
   ],
   "metadata": {
    "id": "uzElL1nujqH0",
    "pycharm": {
     "name": "#%% md\n"
    }
   }
  },
  {
   "cell_type": "markdown",
   "source": [
    "#### `SELECT`"
   ],
   "metadata": {
    "id": "UHK0AaALkYV8",
    "pycharm": {
     "name": "#%% md\n"
    }
   }
  },
  {
   "cell_type": "markdown",
   "source": [
    "![Select syntax](http://www.tutorialscan.com/wp-content/uploads/2018/04/sql_select.jpg)"
   ],
   "metadata": {
    "id": "kl9SppsWkbC2",
    "pycharm": {
     "name": "#%% md\n"
    }
   }
  },
  {
   "cell_type": "markdown",
   "source": [
    "#### GROUP BY (Filtering and Ordering)\n",
    "```\n",
    "cur.execute('SELECT breed, owner_id, COUNT(breed) FROM cats GROUP BY breed, owner_id').fetchall()\n",
    "```\n"
   ],
   "metadata": {
    "id": "Mo1EYpyUuUjC",
    "pycharm": {
     "name": "#%% md\n"
    }
   }
  },
  {
   "cell_type": "markdown",
   "source": [
    "#### WHERE vs HAVING"
   ],
   "metadata": {
    "id": "dHT-ssNv63pj",
    "pycharm": {
     "name": "#%% md\n"
    }
   }
  },
  {
   "cell_type": "markdown",
   "source": [
    "- Use WHERE to filter from a table\n",
    "- Use HAVING to filter from an aggregation"
   ],
   "metadata": {
    "id": "v3-qiMl665hu",
    "pycharm": {
     "name": "#%% md\n"
    }
   }
  }
 ]
}