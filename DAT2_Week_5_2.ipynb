{
 "nbformat": 4,
 "nbformat_minor": 0,
 "metadata": {
  "colab": {
   "name": "DAT2_Week_5_2.ipynb",
   "provenance": [],
   "collapsed_sections": []
  },
  "kernelspec": {
   "name": "python3",
   "display_name": "Python 3"
  },
  "language_info": {
   "name": "python"
  }
 },
 "cells": [
  {
   "cell_type": "markdown",
   "source": [
    "# DA Transform - Week 5 Session 2"
   ],
   "metadata": {
    "id": "WCNt4EGWzzjF",
    "pycharm": {
     "name": "#%% md\n"
    }
   }
  },
  {
   "cell_type": "markdown",
   "source": [
    "## Project"
   ],
   "metadata": {
    "id": "EmQT4gfV6tWi",
    "pycharm": {
     "name": "#%% md\n"
    }
   }
  },
  {
   "cell_type": "markdown",
   "source": [
    "**Prioritise learning** - read the:\n",
    "\n",
    "- [Project description](https://academyxi.instructure.com/courses/162/assignments/11382?module_item_id=22667)\n",
    "- [Checklist and guidance](https://academyxi.instructure.com/courses/162/modules/items/22666)\n",
    "\n",
    "And prioritise study time based on project requirements"
   ],
   "metadata": {
    "id": "0rpGzj2jDMH7",
    "pycharm": {
     "name": "#%% md\n"
    }
   }
  },
  {
   "cell_type": "markdown",
   "source": [
    "**Review the \"Project Submission & Review\" page in the \"Milestones Instructions\"**"
   ],
   "metadata": {
    "id": "nai3Jso1cbCX",
    "pycharm": {
     "name": "#%% md\n"
    }
   }
  },
  {
   "cell_type": "markdown",
   "source": [
    "### My suggestions for Project 1"
   ],
   "metadata": {
    "id": "eo_zO3_MDziV",
    "pycharm": {
     "name": "#%% md\n"
    }
   }
  },
  {
   "cell_type": "markdown",
   "source": [
    "Before you start coding solutions / analysing data:\n",
    "\n",
    "- Take a look at the problem definition\n",
    "- Review the available data (can be through pandas or even in Excel)\n",
    "- Outline how you might tackle the problem (in words)\n",
    "- Review the sample submissions\n",
    "\n",
    "And *then* start coding your solution, **once you have a plan**.\n",
    "\n",
    "You can change the plan, but this way you have clear goals to reach with your coding.\n"
   ],
   "metadata": {
    "id": "yXg0QFS9D42D",
    "pycharm": {
     "name": "#%% md\n"
    }
   }
  },
  {
   "cell_type": "markdown",
   "source": [
    "#### From the Phase 1 Project page:"
   ],
   "metadata": {
    "id": "MsKhpwPZbFgU",
    "pycharm": {
     "name": "#%% md\n"
    }
   }
  },
  {
   "cell_type": "markdown",
   "source": [
    "- \"You are charged with exploring what types of films are currently doing the best at the box office. You must then translate those findings into actionable insights that the head of Microsoft's new movie studio can use to help decide what type of films to create.\"\n",
    "\n",
    "- \"It is up to you to decide what data from this to use and how to use it.\""
   ],
   "metadata": {
    "id": "8Am-qFfAbOyo",
    "pycharm": {
     "name": "#%% md\n"
    }
   }
  },
  {
   "cell_type": "markdown",
   "source": [
    "#### Datasets"
   ],
   "metadata": {
    "id": "hmIMxGRrbYFB",
    "pycharm": {
     "name": "#%% md\n"
    }
   }
  },
  {
   "cell_type": "markdown",
   "source": [
    "You are provided with datasets from:\n",
    "\n",
    "- Box Office Mojo\n",
    "- IMDB\n",
    "- Rotten Tomatoes\n",
    "- TheMovieDB\n",
    "- The Numbers\n",
    "\n",
    "It is up to you which datasets to use."
   ],
   "metadata": {
    "id": "8yQPhwebbiAN",
    "pycharm": {
     "name": "#%% md\n"
    }
   }
  },
  {
   "cell_type": "markdown",
   "source": [
    "#### For each dataset:"
   ],
   "metadata": {
    "id": "hXY37ze5cmw5",
    "pycharm": {
     "name": "#%% md\n"
    }
   }
  },
  {
   "cell_type": "markdown",
   "source": [
    "You will need to:\n",
    "- Load the dataset\n",
    "- Inspect it\n",
    "- Decide whether to use it or not in your project\n",
    "- Clean the dataset, and\n",
    "- Potentially join it with another dataset"
   ],
   "metadata": {
    "id": "c31A0HwBcozP",
    "pycharm": {
     "name": "#%% md\n"
    }
   }
  },
  {
   "cell_type": "markdown",
   "source": [
    "### git, conda/Anaconda and bash"
   ],
   "metadata": {
    "id": "o3MJat0IdEUT",
    "pycharm": {
     "name": "#%% md\n"
    }
   }
  },
  {
   "cell_type": "markdown",
   "source": [
    "Video of me going through the installation process: https://drive.google.com/file/d/1_xCC9ZakE-4bwUgzqTvHjBt75lf_HPK3/view?usp=sharing"
   ],
   "metadata": {
    "id": "eBHw5qZToZxw",
    "pycharm": {
     "name": "#%% md\n"
    }
   }
  },
  {
   "cell_type": "markdown",
   "source": [
    "#### Resources\n",
    "\n",
    "On how file systems work: https://www.techtarget.com/searchstorage/definition/file-system\n"
   ],
   "metadata": {
    "id": "EaSZNrzQhhQP",
    "pycharm": {
     "name": "#%% md\n"
    }
   }
  },
  {
   "cell_type": "markdown",
   "source": [
    "## New Material"
   ],
   "metadata": {
    "id": "c6zf6kovcGLc",
    "pycharm": {
     "name": "#%% md\n"
    }
   }
  },
  {
   "cell_type": "markdown",
   "source": [
    "### SQL"
   ],
   "metadata": {
    "id": "a3ZaPIyIcI6R",
    "pycharm": {
     "name": "#%% md\n"
    }
   }
  },
  {
   "cell_type": "markdown",
   "source": [
    "#### Schema"
   ],
   "metadata": {
    "id": "8oyU326sqntl",
    "pycharm": {
     "name": "#%% md\n"
    }
   }
  },
  {
   "cell_type": "markdown",
   "source": [
    "A database schema serves as a blueprint for the shape and format of data within a database. For relational databases, this includes describing categories of data and their connections through tables, primary keys, data types, indexes, and other objects.\n",
    "\n",
    "([Source](https://www.prisma.io/dataguide/intro/intro-to-schemas))"
   ],
   "metadata": {
    "id": "mFy462B2qrpa",
    "pycharm": {
     "name": "#%% md\n"
    }
   }
  },
  {
   "cell_type": "markdown",
   "source": [
    "#### PRAGMA table_info"
   ],
   "metadata": {
    "id": "YgsMC0k6rulS",
    "pycharm": {
     "name": "#%% md\n"
    }
   }
  },
  {
   "cell_type": "markdown",
   "source": [
    "```pd.read_sql(\"\"\"PRAGMA table_info(customers)\"\"\", conn, index_col=\"cid\")```\n",
    "\n",
    "https://www.sqlite.org/pragma.html#pragma_table_info"
   ],
   "metadata": {
    "id": "g5CWMLVhrwKM",
    "pycharm": {
     "name": "#%% md\n"
    }
   }
  },
  {
   "cell_type": "markdown",
   "source": [
    "#### Commit"
   ],
   "metadata": {
    "id": "1fYJv2ZZh7E2",
    "pycharm": {
     "name": "#%% md\n"
    }
   }
  },
  {
   "cell_type": "markdown",
   "source": [
    "A COMMIT statement in SQL **ends a transaction** within a relational database management system (RDBMS) and **makes all changes visible to other users**.\n",
    "\n",
    "https://en.wikipedia.org/wiki/COMMIT_(SQL)\n",
    "\n",
    "Alternative: ROLLBACK (cancel all transactions)"
   ],
   "metadata": {
    "id": "fvCc8UYvh86R",
    "pycharm": {
     "name": "#%% md\n"
    }
   }
  },
  {
   "cell_type": "markdown",
   "source": [
    "#### GROUP BY (Filtering and Ordering)\n",
    "```\n",
    "cur.execute('SELECT breed, owner_id, COUNT(breed) FROM cats GROUP BY breed, owner_id').fetchall()\n",
    "```\n"
   ],
   "metadata": {
    "id": "Mo1EYpyUuUjC",
    "pycharm": {
     "name": "#%% md\n"
    }
   }
  },
  {
   "cell_type": "markdown",
   "source": [
    "#### WHERE vs HAVING"
   ],
   "metadata": {
    "id": "dHT-ssNv63pj",
    "pycharm": {
     "name": "#%% md\n"
    }
   }
  },
  {
   "cell_type": "markdown",
   "source": [
    "- Use WHERE to filter from a table\n",
    "- Use HAVING to filter from an aggregation"
   ],
   "metadata": {
    "id": "v3-qiMl665hu",
    "pycharm": {
     "name": "#%% md\n"
    }
   }
  },
  {
   "cell_type": "markdown",
   "source": [
    "### SQL relations / multiple tables"
   ],
   "metadata": {
    "id": "64SGsPjk70zp",
    "pycharm": {
     "name": "#%% md\n"
    }
   }
  },
  {
   "cell_type": "markdown",
   "source": [
    "### HTML / CSS / Web scraping "
   ],
   "metadata": {
    "id": "_0_ZF8Hegw47",
    "pycharm": {
     "name": "#%% md\n"
    }
   }
  },
  {
   "cell_type": "markdown",
   "source": [
    "## Read more"
   ],
   "metadata": {
    "id": "v-P1TeBah8W2",
    "pycharm": {
     "name": "#%% md\n"
    }
   }
  },
  {
   "cell_type": "markdown",
   "source": [
    "- [Is a 'cursor' necessary while using `sqlite3`?](https://stackoverflow.com/questions/6318126/why-do-you-need-to-create-a-cursor-when-querying-a-sqlite-database)"
   ],
   "metadata": {
    "id": "PwJ_aGL1i_2u",
    "pycharm": {
     "name": "#%% md\n"
    }
   }
  },
  {
   "cell_type": "code",
   "source": [],
   "metadata": {
    "id": "QCZqPxjtjJ1F",
    "pycharm": {
     "name": "#%%\n"
    }
   },
   "execution_count": null,
   "outputs": []
  }
 ]
}