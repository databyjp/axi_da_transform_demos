{
 "nbformat": 4,
 "nbformat_minor": 0,
 "metadata": {
  "colab": {
   "name": "DAT02 Review Session - 13Jun2022.ipynb",
   "provenance": []
  },
  "kernelspec": {
   "name": "python3",
   "display_name": "Python 3"
  },
  "language_info": {
   "name": "python"
  }
 },
 "cells": [
  {
   "cell_type": "markdown",
   "source": [
    "[![Open In Colab](https://colab.research.google.com/assets/colab-badge.svg)](https://colab.research.google.com/github/databyjp/axi_da_transform_demos/blob/main/DAT2_Weeks_1_4_Review_Session_13Jun2022.ipynb)\n",
    "# DA Transform - Week 4 session 2"
   ],
   "metadata": {
    "collapsed": false,
    "pycharm": {
     "name": "#%% md\n"
    }
   }
  },
  {
   "cell_type": "markdown",
   "source": [
    "## Import data"
   ],
   "metadata": {
    "id": "W3O62s3Ko7iH",
    "pycharm": {
     "name": "#%% md\n"
    }
   }
  },
  {
   "cell_type": "code",
   "execution_count": null,
   "metadata": {
    "id": "b7G5CvRij_7e",
    "pycharm": {
     "name": "#%%\n"
    }
   },
   "outputs": [],
   "source": [
    "!pip install fsspec s3fs &> /dev/null\n",
    "import pandas as pd\n",
    "import seaborn as sns\n",
    "import numpy as np\n",
    "df = pd.read_csv('s3://databyjp/data/titanic_train.csv', dtype={'Pclass': 'str'})  # Deliberately importing the Pclass column as a string here"
   ]
  },
  {
   "cell_type": "code",
   "source": [
    "sns.get_dataset_names()"
   ],
   "metadata": {
    "id": "c-vmuvSZqW0H",
    "pycharm": {
     "name": "#%%\n"
    }
   },
   "execution_count": null,
   "outputs": []
  },
  {
   "cell_type": "code",
   "source": [
    "df.head()"
   ],
   "metadata": {
    "id": "pkIgCgt6_Sy0",
    "pycharm": {
     "name": "#%%\n"
    }
   },
   "execution_count": null,
   "outputs": []
  },
  {
   "cell_type": "markdown",
   "source": [
    "### Data & object types"
   ],
   "metadata": {
    "id": "aCIHddCEkoYi",
    "pycharm": {
     "name": "#%% md\n"
    }
   }
  },
  {
   "cell_type": "code",
   "source": [
    "df[\"Pclass\"] = df[\"Pclass\"].astype(int)\n",
    "df[df[\"Pclass\"] == 1]"
   ],
   "metadata": {
    "id": "8yRZDfpsoi0-",
    "pycharm": {
     "name": "#%%\n"
    }
   },
   "execution_count": null,
   "outputs": []
  },
  {
   "cell_type": "markdown",
   "source": [
    "If something does not work as expected, check the data type"
   ],
   "metadata": {
    "id": "VIDWg0FDoN-C",
    "pycharm": {
     "name": "#%% md\n"
    }
   }
  },
  {
   "cell_type": "code",
   "source": [
    "df.head(2)"
   ],
   "metadata": {
    "id": "SuVEYZVdDTSx",
    "pycharm": {
     "name": "#%%\n"
    }
   },
   "execution_count": null,
   "outputs": []
  },
  {
   "cell_type": "code",
   "source": [
    "df.info()"
   ],
   "metadata": {
    "id": "pDGsCCc1pEi8",
    "pycharm": {
     "name": "#%%\n"
    }
   },
   "execution_count": null,
   "outputs": []
  },
  {
   "cell_type": "code",
   "source": [
    "type(df.loc[0, 'Pclass'])"
   ],
   "metadata": {
    "id": "R8_m61jKAEuv",
    "pycharm": {
     "name": "#%%\n"
    }
   },
   "execution_count": null,
   "outputs": []
  },
  {
   "cell_type": "markdown",
   "source": [
    "### Looping"
   ],
   "metadata": {
    "id": "z0qc5rgLk7KL",
    "pycharm": {
     "name": "#%% md\n"
    }
   }
  },
  {
   "cell_type": "markdown",
   "source": [
    "https://wiki.python.org/moin/ForLoop"
   ],
   "metadata": {
    "id": "t3xRc0H4mjy8",
    "pycharm": {
     "name": "#%% md\n"
    }
   }
  },
  {
   "cell_type": "markdown",
   "source": [
    "### Orders of expressions"
   ],
   "metadata": {
    "id": "4BGV57njkyai",
    "pycharm": {
     "name": "#%% md\n"
    }
   }
  },
  {
   "cell_type": "markdown",
   "source": [
    "https://docs.python.org/3/reference/expressions.html#evaluation-order"
   ],
   "metadata": {
    "id": "1L45FiJ2nQUU",
    "pycharm": {
     "name": "#%% md\n"
    }
   }
  },
  {
   "cell_type": "code",
   "source": [
    "print(5 + 3 * 2)\n",
    "print((5 + 3) * 2)"
   ],
   "metadata": {
    "id": "Wkj5isghA6ZX",
    "pycharm": {
     "name": "#%%\n"
    }
   },
   "execution_count": null,
   "outputs": []
  },
  {
   "cell_type": "code",
   "source": [
    "# What will we get if we evaluate:\n",
    "print(False and True + 15 + 5)\n",
    "print((False and True) + 15 + 5)\n",
    "print(False and (True + 15 + 5))"
   ],
   "metadata": {
    "id": "qzB5cvSRnRUx",
    "pycharm": {
     "name": "#%%\n"
    }
   },
   "execution_count": null,
   "outputs": []
  },
  {
   "cell_type": "markdown",
   "source": [
    "### Understanding functions"
   ],
   "metadata": {
    "id": "NT2LfSbJlMHN",
    "pycharm": {
     "name": "#%% md\n"
    }
   }
  },
  {
   "cell_type": "markdown",
   "source": [
    "https://docs.python.org/3/tutorial/controlflow.html#defining-functions"
   ],
   "metadata": {
    "id": "0OiEl3crm3F2",
    "pycharm": {
     "name": "#%% md\n"
    }
   }
  },
  {
   "cell_type": "markdown",
   "source": [
    "### Importing data into Python"
   ],
   "metadata": {
    "id": "cGtkru67kcta",
    "pycharm": {
     "name": "#%% md\n"
    }
   }
  },
  {
   "cell_type": "markdown",
   "source": [
    "\"Base\" Python v pandas"
   ],
   "metadata": {
    "id": "iOp5NVUwke1c",
    "pycharm": {
     "name": "#%% md\n"
    }
   }
  },
  {
   "cell_type": "code",
   "source": [
    "! ls ./sample_data"
   ],
   "metadata": {
    "id": "G-ndlkwrpSWt",
    "pycharm": {
     "name": "#%%\n"
    }
   },
   "execution_count": null,
   "outputs": []
  },
  {
   "cell_type": "code",
   "source": [
    "with open('sample_data/california_housing_test.csv', 'r') as f:\n",
    "  data = f.readlines()\n",
    "data[0].split(',')\n",
    "arr = np.array([len(data)-1, len(data[0].split(','))])"
   ],
   "metadata": {
    "id": "6YCanOgHBj-y",
    "pycharm": {
     "name": "#%%\n"
    }
   },
   "execution_count": null,
   "outputs": []
  },
  {
   "cell_type": "code",
   "source": [
    "print(data[:5])"
   ],
   "metadata": {
    "id": "BYySMp7tBsJR",
    "pycharm": {
     "name": "#%%\n"
    }
   },
   "execution_count": null,
   "outputs": []
  },
  {
   "cell_type": "code",
   "source": [
    "import pandas\n",
    "df = pd.read_csv('sample_data/california_housing_test.csv')"
   ],
   "metadata": {
    "id": "PFPU3ODMCA91",
    "pycharm": {
     "name": "#%%\n"
    }
   },
   "execution_count": null,
   "outputs": []
  },
  {
   "cell_type": "code",
   "source": [
    "df.head()"
   ],
   "metadata": {
    "id": "Vd1MZb7CCQyS",
    "pycharm": {
     "name": "#%%\n"
    }
   },
   "execution_count": null,
   "outputs": []
  },
  {
   "cell_type": "code",
   "source": [
    "df.info()"
   ],
   "metadata": {
    "id": "_9Mu3UJ3CkpC",
    "pycharm": {
     "name": "#%%\n"
    }
   },
   "execution_count": null,
   "outputs": []
  },
  {
   "cell_type": "code",
   "source": [
    "df = pd.read_json('sample_data/anscombe.json')\n",
    "df.head()"
   ],
   "metadata": {
    "id": "PdvdPLwfCyC1",
    "pycharm": {
     "name": "#%%\n"
    }
   },
   "execution_count": null,
   "outputs": []
  },
  {
   "cell_type": "markdown",
   "source": [
    "### List Comprehensions"
   ],
   "metadata": {
    "id": "sRmXwQIRkUOx",
    "pycharm": {
     "name": "#%% md\n"
    }
   }
  },
  {
   "cell_type": "code",
   "source": [
    "comp_list = [i for i in range(5)]\n",
    "\n",
    "print(comp_list)"
   ],
   "metadata": {
    "id": "BlKajAnPDyKK",
    "pycharm": {
     "name": "#%%\n"
    }
   },
   "execution_count": null,
   "outputs": []
  },
  {
   "cell_type": "code",
   "source": [
    "loop_list = []\n",
    "for i in range(5):\n",
    "  loop_list.append(i)\n",
    "\n",
    "print(loop_list)"
   ],
   "metadata": {
    "id": "qMEFCpWbD6RL",
    "pycharm": {
     "name": "#%%\n"
    }
   },
   "execution_count": null,
   "outputs": []
  },
  {
   "cell_type": "code",
   "source": [
    "loop_list = list()\n",
    "for i in range(5):\n",
    "  loop_list.append(i * 50 + 3)\n",
    "  \n",
    "print(loop_list)"
   ],
   "metadata": {
    "id": "RpsCtjNmElz-",
    "pycharm": {
     "name": "#%%\n"
    }
   },
   "execution_count": null,
   "outputs": []
  },
  {
   "cell_type": "code",
   "source": [
    "# [(do something with i) for i in iterable]\n",
    "[i * 50 + 3 for i in range(5)]"
   ],
   "metadata": {
    "id": "P2c4NMC5E39s",
    "pycharm": {
     "name": "#%%\n"
    }
   },
   "execution_count": null,
   "outputs": []
  },
  {
   "cell_type": "code",
   "source": [
    "loop_list = list()\n",
    "for i in range(5):\n",
    "  loop_list.append('Hello!')\n",
    "  \n",
    "print(loop_list)"
   ],
   "metadata": {
    "id": "G7wGzVGvFSGK",
    "pycharm": {
     "name": "#%%\n"
    }
   },
   "execution_count": null,
   "outputs": []
  },
  {
   "cell_type": "code",
   "source": [
    "['Hello!' for i in range(5)]"
   ],
   "metadata": {
    "id": "Pln0k8M9FY9v",
    "pycharm": {
     "name": "#%%\n"
    }
   },
   "execution_count": null,
   "outputs": []
  },
  {
   "cell_type": "code",
   "source": [
    "loop_list = list()\n",
    "for i in range(10):\n",
    "  if i % 3 == 1:\n",
    "    loop_list.append(i)\n",
    "  \n",
    "print(loop_list)"
   ],
   "metadata": {
    "id": "r0HDGY8AFj8G",
    "pycharm": {
     "name": "#%%\n"
    }
   },
   "execution_count": null,
   "outputs": []
  },
  {
   "cell_type": "code",
   "source": [
    "[i for i in range(10) if i > 5]"
   ],
   "metadata": {
    "id": "leLgpSRpF0os",
    "pycharm": {
     "name": "#%%\n"
    }
   },
   "execution_count": null,
   "outputs": []
  },
  {
   "cell_type": "code",
   "source": [
    "[i for i in range(10)]"
   ],
   "metadata": {
    "id": "TAaO6GU0GD2I",
    "pycharm": {
     "name": "#%%\n"
    }
   },
   "execution_count": null,
   "outputs": []
  },
  {
   "cell_type": "code",
   "source": [
    "import numpy as np\n",
    "\n",
    "np.array([[[i, j] for j in range(3)] for i in range(3)])"
   ],
   "metadata": {
    "id": "PkBt2WpAGgFR",
    "pycharm": {
     "name": "#%%\n"
    }
   },
   "execution_count": null,
   "outputs": []
  },
  {
   "cell_type": "markdown",
   "source": [
    "### Lambda functions"
   ],
   "metadata": {
    "id": "aPAEpfkpkZIW",
    "pycharm": {
     "name": "#%% md\n"
    }
   }
  },
  {
   "cell_type": "code",
   "source": [
    "df = sns.load_dataset('mpg')\n",
    "df.head()\n",
    "df.rename({'name': 'model_name'}, axis=1, inplace=True)\n",
    "df = df[:10]\n",
    "df.head()"
   ],
   "metadata": {
    "id": "OmyKdKxPqEko",
    "pycharm": {
     "name": "#%%\n"
    }
   },
   "execution_count": null,
   "outputs": []
  },
  {
   "cell_type": "code",
   "source": [
    "str(1)"
   ],
   "metadata": {
    "id": "s_ixhFY8HktZ",
    "pycharm": {
     "name": "#%%\n"
    }
   },
   "execution_count": null,
   "outputs": []
  },
  {
   "cell_type": "code",
   "source": [
    "def add_50(number_in):\n",
    "  return 50 + number_in\n",
    "add_50(10)  "
   ],
   "metadata": {
    "id": "uB-qOtDMHuZE",
    "pycharm": {
     "name": "#%%\n"
    }
   },
   "execution_count": null,
   "outputs": []
  },
  {
   "cell_type": "code",
   "source": [
    "df['model_name']"
   ],
   "metadata": {
    "id": "RerzkxKqIFNC",
    "pycharm": {
     "name": "#%%\n"
    }
   },
   "execution_count": null,
   "outputs": []
  },
  {
   "cell_type": "code",
   "source": [
    "type(df['model_name'])"
   ],
   "metadata": {
    "id": "gCKpnQf2IJQS",
    "pycharm": {
     "name": "#%%\n"
    }
   },
   "execution_count": null,
   "outputs": []
  },
  {
   "cell_type": "code",
   "source": [
    "df['model_name'].apply(lambda x: x.split(' ')[0])"
   ],
   "metadata": {
    "id": "cQu-5a1irDWz",
    "pycharm": {
     "name": "#%%\n"
    }
   },
   "execution_count": null,
   "outputs": []
  },
  {
   "cell_type": "code",
   "source": [
    "for x in df['model_name']:\n",
    "  print(x.split(' ')[0])"
   ],
   "metadata": {
    "id": "1TH1VUm7rMb0",
    "pycharm": {
     "name": "#%%\n"
    }
   },
   "execution_count": null,
   "outputs": []
  },
  {
   "cell_type": "code",
   "source": [
    "df['model_name'].apply(lambda x: len(x))"
   ],
   "metadata": {
    "id": "6_F3EhjRJfZw",
    "pycharm": {
     "name": "#%%\n"
    }
   },
   "execution_count": null,
   "outputs": []
  },
  {
   "cell_type": "code",
   "source": [],
   "metadata": {
    "id": "cd2UfZr8J9Ci",
    "pycharm": {
     "name": "#%%\n"
    }
   },
   "execution_count": null,
   "outputs": []
  },
  {
   "cell_type": "code",
   "source": [
    "df['len_model_name'] = df['model_name'].apply(lambda x: len(x))"
   ],
   "metadata": {
    "id": "cTiPSlTTJqCO",
    "pycharm": {
     "name": "#%%\n"
    }
   },
   "execution_count": null,
   "outputs": []
  },
  {
   "cell_type": "code",
   "source": [
    "df.head()"
   ],
   "metadata": {
    "id": "TwKq_VhBJvww",
    "pycharm": {
     "name": "#%%\n"
    }
   },
   "execution_count": null,
   "outputs": []
  },
  {
   "cell_type": "code",
   "source": [
    "def to_kg(lb_in):\n",
    "  return lb_in * 0.45"
   ],
   "metadata": {
    "id": "zFxS2A3xJ_So",
    "pycharm": {
     "name": "#%%\n"
    }
   },
   "execution_count": null,
   "outputs": []
  },
  {
   "cell_type": "code",
   "source": [
    "df['weight'].apply(to_kg)"
   ],
   "metadata": {
    "id": "ZcHk6TyRJ-Kw",
    "pycharm": {
     "name": "#%%\n"
    }
   },
   "execution_count": null,
   "outputs": []
  },
  {
   "cell_type": "code",
   "source": [
    "df['weight_kg'] = df['weight'].apply(to_kg)\n",
    "df.head()"
   ],
   "metadata": {
    "id": "4RPE2yIfKaLm",
    "pycharm": {
     "name": "#%%\n"
    }
   },
   "execution_count": null,
   "outputs": []
  },
  {
   "cell_type": "code",
   "source": [
    "df['kW'] = df['horsepower'].apply(lambda x: x * 0.9)"
   ],
   "metadata": {
    "id": "_5FEILvHKjAL",
    "pycharm": {
     "name": "#%%\n"
    }
   },
   "execution_count": null,
   "outputs": []
  },
  {
   "cell_type": "code",
   "source": [
    "df.head()"
   ],
   "metadata": {
    "id": "X8H-oeRKKrAM",
    "pycharm": {
     "name": "#%%\n"
    }
   },
   "execution_count": null,
   "outputs": []
  },
  {
   "cell_type": "code",
   "source": [
    "df[['weight', 'acceleration']]"
   ],
   "metadata": {
    "id": "pDb7SEYKLaaj",
    "pycharm": {
     "name": "#%%\n"
    }
   },
   "execution_count": null,
   "outputs": []
  },
  {
   "cell_type": "code",
   "source": [
    "df[['weight', 'acceleration']].apply(lambda x: np.mean(x), axis=0)"
   ],
   "metadata": {
    "id": "ZZ5coFttruZV",
    "pycharm": {
     "name": "#%%\n"
    }
   },
   "execution_count": null,
   "outputs": []
  },
  {
   "cell_type": "code",
   "source": [
    "for i, row in df[:10].iterrows():\n",
    "  print(i, row.model_name)"
   ],
   "metadata": {
    "id": "9CZZqzR6r2y5",
    "pycharm": {
     "name": "#%%\n"
    }
   },
   "execution_count": null,
   "outputs": []
  },
  {
   "cell_type": "markdown",
   "source": [
    "### Working with Series vs Working with DataFrames"
   ],
   "metadata": {
    "id": "wBmrzU3BlETd",
    "pycharm": {
     "name": "#%% md\n"
    }
   }
  },
  {
   "cell_type": "markdown",
   "source": [
    "Understanding Pandas Series and DataFrames - Lab "
   ],
   "metadata": {
    "id": "cZ2P5AzQtQ6w",
    "pycharm": {
     "name": "#%% md\n"
    }
   }
  },
  {
   "cell_type": "markdown",
   "source": [
    "### Data cleaning"
   ],
   "metadata": {
    "id": "MvXk__gwkani",
    "pycharm": {
     "name": "#%% md\n"
    }
   }
  },
  {
   "cell_type": "markdown",
   "source": [
    "Dealing with Missing Data - Lab "
   ],
   "metadata": {
    "id": "wBMSo3yetJv6",
    "pycharm": {
     "name": "#%% md\n"
    }
   }
  },
  {
   "cell_type": "code",
   "source": [
    "! git --version"
   ],
   "metadata": {
    "id": "0FEDKr1glKTq",
    "pycharm": {
     "name": "#%%\n"
    }
   },
   "execution_count": null,
   "outputs": []
  },
  {
   "cell_type": "code",
   "source": [],
   "metadata": {
    "id": "P8PkczsvMYRJ",
    "pycharm": {
     "name": "#%%\n"
    }
   },
   "execution_count": null,
   "outputs": []
  }
 ]
}